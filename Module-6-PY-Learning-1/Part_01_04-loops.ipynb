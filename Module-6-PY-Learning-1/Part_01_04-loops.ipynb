{
 "cells": [
  {
   "cell_type": "markdown",
   "id": "fca45bef",
   "metadata": {},
   "source": [
    "**While Loop:**\n",
    "\n",
    "* In python, while loop is used to execute a block of statements repeatedly until a given condition is satisfied. And when the condition becomes false, the line immediately after the loop in the program is executed.\n",
    "        \n",
    "* All the statements indented by the same number of character spaces after a programming construct are considered to be part of a single block of code. Python uses indentation as its method of grouping statements. "
   ]
  },
  {
   "cell_type": "raw",
   "id": "109b5299",
   "metadata": {},
   "source": [
    "while expression:\n",
    "    # execute these statements"
   ]
  },
  {
   "cell_type": "code",
   "execution_count": 1,
   "id": "89a7edc9",
   "metadata": {},
   "outputs": [
    {
     "name": "stdout",
     "output_type": "stream",
     "text": [
      "Welcome to Mentorskool\n",
      "Welcome to Mentorskool\n",
      "Welcome to Mentorskool\n"
     ]
    }
   ],
   "source": [
    "count = 0\n",
    "while (count < 3):   \n",
    "    print(\"Welcome to Mentorskool\")\n",
    "    count = count + 1"
   ]
  },
  {
   "cell_type": "markdown",
   "id": "25839c89",
   "metadata": {},
   "source": [
    "**If else like this:**"
   ]
  },
  {
   "cell_type": "raw",
   "id": "8678d8d3",
   "metadata": {},
   "source": [
    "if condition:\n",
    "    # execute these statements\n",
    "else:\n",
    "    # execute these statements"
   ]
  },
  {
   "cell_type": "markdown",
   "id": "5138af06",
   "metadata": {},
   "source": [
    "**and while loop like this are similar:**"
   ]
  },
  {
   "cell_type": "raw",
   "id": "41885895",
   "metadata": {},
   "source": [
    "while condition:\n",
    "     # execute these statements\n",
    "else:\n",
    "     # execute these statements"
   ]
  },
  {
   "cell_type": "code",
   "execution_count": 2,
   "id": "f3d1b075",
   "metadata": {},
   "outputs": [
    {
     "name": "stdout",
     "output_type": "stream",
     "text": [
      "Hello everyone\n",
      "Hello everyone\n",
      "Hello everyone\n",
      "In Else Block\n"
     ]
    }
   ],
   "source": [
    "count = 0\n",
    "while (count < 3):   \n",
    "    count = count + 1\n",
    "    print(\"Hello everyone\")\n",
    "else:\n",
    "    print(\"In Else Block\")"
   ]
  },
  {
   "cell_type": "markdown",
   "id": "1b72173e",
   "metadata": {},
   "source": [
    "**for in Loop:**\n",
    "* For loops are used for sequential traversal. \n",
    "* For example: traversing a list or string or array etc. \n",
    "* In Python, there is no C style for loop, i.e., for (i=0; i<n; i++). \n",
    "* There is “for in” loop which is similar to for each loop in other languages. "
   ]
  },
  {
   "cell_type": "raw",
   "id": "ccf8ddb7",
   "metadata": {},
   "source": [
    "for iterator_var in sequence:\n",
    "    statements(s)"
   ]
  },
  {
   "cell_type": "code",
   "execution_count": 3,
   "id": "2cfe6bd7",
   "metadata": {},
   "outputs": [
    {
     "name": "stdout",
     "output_type": "stream",
     "text": [
      "0\n",
      "1\n",
      "2\n",
      "3\n"
     ]
    }
   ],
   "source": [
    "n = 4\n",
    "for i in range(1, n+1,3): #i<n i<n+1\n",
    "    print(i)"
   ]
  },
  {
   "cell_type": "markdown",
   "id": "fdb2c720",
   "metadata": {},
   "source": [
    "## Nested loop"
   ]
  },
  {
   "cell_type": "raw",
   "id": "6a2f3e1e",
   "metadata": {},
   "source": [
    "for iterator_var in sequence:\n",
    "    for iterator_var in sequence:\n",
    "         # execute these statements"
   ]
  },
  {
   "cell_type": "raw",
   "id": "30d6cd8e",
   "metadata": {},
   "source": [
    "while expression:\n",
    "    while expression:\n",
    "         # execute these statements"
   ]
  },
  {
   "cell_type": "code",
   "execution_count": 3,
   "id": "00b5ef5b",
   "metadata": {},
   "outputs": [
    {
     "name": "stdout",
     "output_type": "stream",
     "text": [
      "1 \n",
      "2 2 \n",
      "3 3 3 \n",
      "4 4 4 4 \n"
     ]
    }
   ],
   "source": [
    "for i in range(1, 5):\n",
    "    for j in range(i):\n",
    "         print(i, end=' ')\n",
    "    print()"
   ]
  },
  {
   "cell_type": "raw",
   "id": "e74de5ac",
   "metadata": {},
   "source": [
    "# An empty loop\n",
    "for iterator_var in sequence:\n",
    "    pass"
   ]
  },
  {
   "cell_type": "markdown",
   "id": "874ce502",
   "metadata": {},
   "source": [
    "* Loop Control Statements: \n",
    "    * Loop control statements change execution from their normal sequence. \n",
    "    * When execution leaves a scope, all automatic objects that were created in that scope are destroyed. \n",
    "    * Python supports the following control statements. \n",
    "\n",
    "        * Continue Statement: It returns the control to the beginning of the loop.\n",
    "        * Break Statement: It brings control out of the loop"
   ]
  },
  {
   "cell_type": "code",
   "execution_count": 5,
   "id": "396b3cf7",
   "metadata": {},
   "outputs": [
    {
     "name": "stdout",
     "output_type": "stream",
     "text": [
      "Current Letter : w\n",
      "Current Letter : l\n",
      "Current Letter : c\n",
      "Current Letter : m\n",
      "Current Letter :  \n",
      "Current Letter : t\n",
      "Current Letter :  \n",
      "Current Letter : m\n",
      "Current Letter : n\n",
      "Current Letter : t\n",
      "Current Letter : r\n",
      "Current Letter : s\n",
      "Current Letter : k\n",
      "Current Letter : l\n"
     ]
    }
   ],
   "source": [
    "# Prints all letters except 'e' and 'o'\n",
    "for letter in 'welcome to mentorskool':\n",
    "    if letter == 'e' or letter == 'o':\n",
    "         continue\n",
    "    print('Current Letter :', letter)"
   ]
  },
  {
   "cell_type": "code",
   "execution_count": 6,
   "id": "bd919783",
   "metadata": {},
   "outputs": [
    {
     "name": "stdout",
     "output_type": "stream",
     "text": [
      "Current Letter : w\n",
      "Current Letter where it break : e\n"
     ]
    }
   ],
   "source": [
    "# break the loop as soon it sees 'e' or 's'\n",
    "for letter in 'welcome to mentorskool':\n",
    "    if letter == 'e' or letter == 's':\n",
    "         break\n",
    "    else:\n",
    "        print('Current Letter :', letter)\n",
    "print('Current Letter where it break :', letter)"
   ]
  },
  {
   "cell_type": "code",
   "execution_count": null,
   "id": "de0c616b",
   "metadata": {},
   "outputs": [],
   "source": []
  }
 ],
 "metadata": {
  "kernelspec": {
   "display_name": "Python 3 (ipykernel)",
   "language": "python",
   "name": "python3"
  },
  "language_info": {
   "codemirror_mode": {
    "name": "ipython",
    "version": 3
   },
   "file_extension": ".py",
   "mimetype": "text/x-python",
   "name": "python",
   "nbconvert_exporter": "python",
   "pygments_lexer": "ipython3",
   "version": "3.7.11"
  }
 },
 "nbformat": 4,
 "nbformat_minor": 5
}
