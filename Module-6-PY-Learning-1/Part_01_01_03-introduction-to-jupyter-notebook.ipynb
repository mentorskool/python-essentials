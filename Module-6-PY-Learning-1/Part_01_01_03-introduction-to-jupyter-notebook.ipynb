{
  "cells": [
    {
      "cell_type": "code",
      "execution_count": null,
      "metadata": {
        "trusted": true
      },
      "outputs": [],
      "source": [
        "# @hidden_cell\n",
        "#!pip install opencv2"
      ]
    },
    {
      "cell_type": "markdown",
      "metadata": {},
      "source": [
        "# Welcome to the short course on Python for data science and analytics"
      ]
    },
    {
      "cell_type": "code",
      "execution_count": null,
      "metadata": {
        "trusted": true
      },
      "outputs": [],
      "source": [
        "import pandas as pd"
      ]
    },
    {
      "cell_type": "markdown",
      "metadata": {},
      "source": [
        "Make **This** bold"
      ]
    },
    {
      "cell_type": "markdown",
      "metadata": {},
      "source": [
        "# Jupyter notebooks\n",
        "https://www.google.com/"
      ]
    },
    {
      "cell_type": "markdown",
      "metadata": {},
      "source": [
        "## trying to write something"
      ]
    },
    {
      "cell_type": "markdown",
      "metadata": {},
      "source": [
        "# This is a first level heading"
      ]
    },
    {
      "cell_type": "markdown",
      "metadata": {},
      "source": [
        "## This is a second level heading"
      ]
    },
    {
      "cell_type": "markdown",
      "metadata": {},
      "source": [
        "### This is a third level heading"
      ]
    },
    {
      "cell_type": "markdown",
      "metadata": {},
      "source": [
        "*Italic* and **bold**"
      ]
    },
    {
      "cell_type": "markdown",
      "metadata": {},
      "source": [
        "I can also use superscripts <sup>like this</sup> and subscripts <sub>like this</sub> as well as most HTML tags"
      ]
    },
    {
      "cell_type": "markdown",
      "metadata": {},
      "source": [
        "<b><i>Shift-Enter:</i></b> Run cell and go to next cell - if you are in the last cell, insert a new cell below and go there\n",
        "<br><b><i>Ctrl-Enter:</i></b> Run cell in-place and remain in same cell\n",
        "<br><b><i>Alt-Enter:</i></b> Run cell, insert new blank cell below and go to new cell"
      ]
    },
    {
      "cell_type": "markdown",
      "metadata": {},
      "source": [
        "**Checking, setting and viewing the contents of your working directory**"
      ]
    },
    {
      "cell_type": "code",
      "execution_count": 2,
      "metadata": {
        "trusted": true
      },
      "outputs": [],
      "source": [
        "import os"
      ]
    },
    {
      "cell_type": "code",
      "execution_count": 3,
      "metadata": {
        "trusted": true
      },
      "outputs": [
        {
          "data": {
            "text/plain": [
              "'/home/nbuser/library'"
            ]
          },
          "execution_count": 3,
          "metadata": {},
          "output_type": "execute_result"
        }
      ],
      "source": [
        "os.getcwd()"
      ]
    },
    {
      "cell_type": "code",
      "execution_count": 3,
      "metadata": {
        "trusted": true
      },
      "outputs": [
        {
          "data": {
            "text/plain": [
              "['Data_handling_in_Python_groupby_aggregation_splitapplycombine.ipynb',\n",
              " 'Part_00_Introduction.ipynb',\n",
              " 'README.md',\n",
              " 'Part_09_Data_handling_in_Python_groupby_aggregation_splitapplycombine.ipynb',\n",
              " 'Part_07_Data_handling_in_Python_reshaping_pivoting.ipynb',\n",
              " 'Part_03_Data_handling_in_Python_Numpy_arrays_Pandas_series_dataframes.ipynb',\n",
              " 'Part_02_Data_handling_in_Python_lists_booleanoperators_tuples_dictionaries.ipynb',\n",
              " 'Part_06_Data_handling_in_Python_merging_concatenating.ipynb',\n",
              " 'Part_08_Data_handling_in_Python_duplicates_mapping_outliers.ipynb',\n",
              " 'data',\n",
              " '01-introduction-to-python.ipynb',\n",
              " 'Part_05_Data_handling_in_Python_sorting_dealingwithmissingdata.ipynb',\n",
              " 'Data_visualisation_in_Python_scatterplots_regressionplots_bubbleplots.ipynb',\n",
              " 'Part_01_Data_handling_in_Python_basic_operations_strings.ipynb',\n",
              " 'Part_04_Data_handling_in_Python_input_output.ipynb',\n",
              " 'Part_11_Data_visualisation_in_Python_boxplots_violin_plots.ipynb',\n",
              " '.ipynb_checkpoints',\n",
              " 'Anomaly Detection.ipynb',\n",
              " 'Part_10_Data_visualisation_in_Python_histograms_jointplots_KDEplots_barplots_subplots.ipynb']"
            ]
          },
          "execution_count": 3,
          "metadata": {},
          "output_type": "execute_result"
        }
      ],
      "source": [
        "os.chdir('../library')\n",
        "os.listdir()"
      ]
    },
    {
      "cell_type": "markdown",
      "metadata": {},
      "source": [
        "**Importing libraries**"
      ]
    },
    {
      "cell_type": "markdown",
      "metadata": {},
      "source": [
        "Import a library and give it a shortcut"
      ]
    },
    {
      "cell_type": "code",
      "execution_count": null,
      "metadata": {
        "trusted": true
      },
      "outputs": [],
      "source": [
        "import numpy as np"
      ]
    },
    {
      "cell_type": "markdown",
      "metadata": {},
      "source": [
        "Import a specific function"
      ]
    },
    {
      "cell_type": "code",
      "execution_count": null,
      "metadata": {
        "trusted": true
      },
      "outputs": [],
      "source": [
        "from numpy.random import randn"
      ]
    },
    {
      "cell_type": "markdown",
      "metadata": {},
      "source": [
        "Import a specific module from a library"
      ]
    },
    {
      "cell_type": "code",
      "execution_count": null,
      "metadata": {
        "trusted": true
      },
      "outputs": [],
      "source": [
        "import matplotlib.pyplot as plt"
      ]
    }
  ],
  "metadata": {
    "kernelspec": {
      "display_name": "Python 3",
      "language": "python",
      "name": "python3"
    },
    "language_info": {
      "codemirror_mode": {
        "name": "ipython",
        "version": 3
      },
      "file_extension": ".py",
      "mimetype": "text/x-python",
      "name": "python",
      "nbconvert_exporter": "python",
      "pygments_lexer": "ipython3",
      "version": "3.5.4"
    }
  },
  "nbformat": 4,
  "nbformat_minor": 2
}
