{
 "cells": [
  {
   "cell_type": "markdown",
   "metadata": {},
   "source": [
    "# **Numpy Broadcasting**"
   ]
  },
  {
   "cell_type": "code",
   "execution_count": 8,
   "metadata": {},
   "outputs": [],
   "source": [
    "import numpy as np"
   ]
  },
  {
   "cell_type": "markdown",
   "metadata": {},
   "source": [
    "## **Broadcasting Rules:**\n",
    "\n",
    "### Broadcasting two arrays together follow these rules:\n",
    "* *If the arrays don’t have the same rank then prepend the shape of the lower rank array with 1s until both shapes have the same length.*\n",
    "* *The two arrays are compatible in a dimension if they have the same size in the dimension or if one of the arrays has size 1 in that dimension.*\n",
    "* *The arrays can be broadcast together iff they are compatible with all dimensions.*\n",
    "* *After broadcasting, each array behaves as if it had shape equal to the element-wise maximum of shapes of the two input arrays.*\n",
    "* *In any dimension where one array had size 1 and the other array had size greater than 1, the first array behaves as if it were copied along that dimension.*"
   ]
  },
  {
   "cell_type": "markdown",
   "metadata": {},
   "source": []
  },
  {
   "cell_type": "markdown",
   "metadata": {},
   "source": [
    "### Single Dimension array "
   ]
  },
  {
   "cell_type": "code",
   "execution_count": 9,
   "metadata": {},
   "outputs": [
    {
     "name": "stdout",
     "output_type": "stream",
     "text": [
      "[10 11 17]\n",
      "3\n",
      "[13 14 20]\n"
     ]
    }
   ],
   "source": [
    "a = np.array([10, 11, 17]) # 1x3 Dimension array\n",
    "print(a)\n",
    "b = 3 \n",
    "print(b)\n",
    " \n",
    "# Broadcasting happened because of miss match in array Dimension.\n",
    "c = a + b\n",
    "print(c)"
   ]
  },
  {
   "cell_type": "markdown",
   "metadata": {},
   "source": [
    "### Two Dimensional Array "
   ]
  },
  {
   "cell_type": "code",
   "execution_count": 10,
   "metadata": {},
   "outputs": [
    {
     "name": "stdout",
     "output_type": "stream",
     "text": [
      "[[10 11 17]\n",
      " [ 6 29 13]]\n",
      "4\n",
      "[[14 15 21]\n",
      " [10 33 17]]\n"
     ]
    }
   ],
   "source": [
    "a = np.array([[10, 11, 17],[6,29,13]]) # 2x3 Dimension array\n",
    "print(a)\n",
    "b = 4 \n",
    "print(b)\n",
    " \n",
    "# Broadcasting happened because of miss match in array Dimension.\n",
    "c = a + b\n",
    "print(c)"
   ]
  },
  {
   "cell_type": "code",
   "execution_count": 11,
   "metadata": {},
   "outputs": [
    {
     "name": "stdout",
     "output_type": "stream",
     "text": [
      "[[ 540  660]\n",
      " [1080 1320]\n",
      " [1620 1980]]\n"
     ]
    }
   ],
   "source": [
    " \n",
    "v = np.array([12, 24, 36]) \n",
    "w = np.array([45, 55])   \n",
    " \n",
    "# To compute an outer product we first\n",
    "# reshape v to a column vector of shape 3x1\n",
    "# then broadcast it against w to yield an output\n",
    "# of shape 3x2 which is the outer product of v and w\n",
    "print(np.reshape(v, (3, 1)) * w)"
   ]
  },
  {
   "cell_type": "code",
   "execution_count": 12,
   "metadata": {},
   "outputs": [
    {
     "name": "stdout",
     "output_type": "stream",
     "text": [
      "[[ 24  46  69]\n",
      " [ 57  79 102]]\n"
     ]
    }
   ],
   "source": [
    "x = np.array([[12, 22, 33], [45, 55, 66]])\n",
    " \n",
    "# x has shape  2x3 and v has shape (3, )\n",
    "# so they broadcast to 2x3,\n",
    "print(x + v)"
   ]
  },
  {
   "cell_type": "code",
   "execution_count": 13,
   "metadata": {},
   "outputs": [
    {
     "name": "stdout",
     "output_type": "stream",
     "text": [
      "[[ 57  67  78]\n",
      " [100 110 121]]\n"
     ]
    }
   ],
   "source": [
    "# Add a vector to each column of a matrix X has\n",
    "# shape 2x3 and w has shape (2, ) If we transpose X\n",
    "# then it has shape 3x2 and can be broadcast against w\n",
    "# to yield a result of shape 3x2.\n",
    " \n",
    "# Transposing this yields the final result\n",
    "# of shape  2x3 which is the matrix.\n",
    "print((x.T + w).T)"
   ]
  },
  {
   "cell_type": "code",
   "execution_count": 14,
   "metadata": {},
   "outputs": [
    {
     "name": "stdout",
     "output_type": "stream",
     "text": [
      "[[ 57  67  78]\n",
      " [100 110 121]]\n"
     ]
    }
   ],
   "source": [
    "# Another solution is to reshape w to be a column\n",
    "# vector of shape 2X1 we can then broadcast it\n",
    "# directly against X to produce the same output.\n",
    "print(x + np.reshape(w, (2, 1)))"
   ]
  },
  {
   "cell_type": "code",
   "execution_count": 15,
   "metadata": {},
   "outputs": [
    {
     "name": "stdout",
     "output_type": "stream",
     "text": [
      "[[ 24  44  66]\n",
      " [ 90 110 132]]\n"
     ]
    }
   ],
   "source": [
    "# Multiply a matrix by a constant, X has shape  2x3.\n",
    "# Numpy treats scalars as arrays of shape();\n",
    "# these can be broadcast together to shape 2x3.\n",
    "print(x * 2)"
   ]
  }
 ],
 "metadata": {
  "interpreter": {
   "hash": "68876b6383b62dc997f1e2adc12eb301a61958dc7fa62c10c14261960fd63dae"
  },
  "kernelspec": {
   "display_name": "Python 3.7.9 ('jupyterenv': venv)",
   "language": "python",
   "name": "python3"
  },
  "language_info": {
   "codemirror_mode": {
    "name": "ipython",
    "version": 3
   },
   "file_extension": ".py",
   "mimetype": "text/x-python",
   "name": "python",
   "nbconvert_exporter": "python",
   "pygments_lexer": "ipython3",
   "version": "3.7.9"
  },
  "orig_nbformat": 4
 },
 "nbformat": 4,
 "nbformat_minor": 2
}
