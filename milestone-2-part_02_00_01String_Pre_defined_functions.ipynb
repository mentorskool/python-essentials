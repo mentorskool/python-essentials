{
 "cells": [
  {
   "cell_type": "markdown",
   "metadata": {},
   "source": [
    "## **Strings**"
   ]
  },
  {
   "cell_type": "markdown",
   "metadata": {},
   "source": [
    "Python has a set of built-in methods that you can use on strings.\n",
    "\n",
    "**Note: All string methods returns new values. They do not change the original string.**"
   ]
  },
  {
   "cell_type": "code",
   "execution_count": 3,
   "metadata": {},
   "outputs": [],
   "source": []
  },
  {
   "cell_type": "markdown",
   "metadata": {},
   "source": [
    "* *capitalize()*\t"
   ]
  },
  {
   "cell_type": "code",
   "execution_count": 4,
   "metadata": {},
   "outputs": [
    {
     "name": "stdout",
     "output_type": "stream",
     "text": [
      "Hello, and welcome to the session.\n"
     ]
    }
   ],
   "source": [
    "#Converts the first character to upper case\n",
    "txt = \"hello, and Welcome to The session.\"\n",
    "x = txt.capitalize()\n",
    "print (x)"
   ]
  },
  {
   "cell_type": "markdown",
   "metadata": {},
   "source": [
    "* *casefold()*\t"
   ]
  },
  {
   "cell_type": "code",
   "execution_count": 6,
   "metadata": {},
   "outputs": [
    {
     "name": "stdout",
     "output_type": "stream",
     "text": [
      "hello, and welcome to the session.\n"
     ]
    }
   ],
   "source": [
    "#Converts string into lower case\n",
    "#This method is similar to the lower() method, but the casefold() method is stronger, more aggressive, meaning that it will convert more characters into lower case,\n",
    "# and will find more matches when comparing two strings and both are converted using the casefold() method.\n",
    "txt = \"Hello, and Welcome To The Session.\"\n",
    "x = txt.casefold()\n",
    "print (x)"
   ]
  },
  {
   "cell_type": "markdown",
   "metadata": {},
   "source": [
    "* *center()*\t"
   ]
  },
  {
   "cell_type": "code",
   "execution_count": 11,
   "metadata": {},
   "outputs": [
    {
     "name": "stdout",
     "output_type": "stream",
     "text": [
      "      Hello!!       \n",
      "           Hello!!            \n"
     ]
    }
   ],
   "source": [
    "#Returns a centered string\n",
    "txt = \"Hello!!\"\n",
    "\n",
    "x = txt.center(20)\n",
    "y = txt.center(30)\n",
    "\n",
    "print(x)\n",
    "print(y)"
   ]
  },
  {
   "cell_type": "markdown",
   "metadata": {},
   "source": [
    "* *count()*\t"
   ]
  },
  {
   "cell_type": "code",
   "execution_count": 12,
   "metadata": {},
   "outputs": [
    {
     "name": "stdout",
     "output_type": "stream",
     "text": [
      "2\n"
     ]
    }
   ],
   "source": [
    "#Returns the number of times a specified value occurs in a string\n",
    "txt = \"Python is an interpreted language .C++ is a pre-compiled programming language.\"\n",
    "\n",
    "x = txt.count(\"language\")\n",
    "\n",
    "print(x)"
   ]
  },
  {
   "cell_type": "markdown",
   "metadata": {},
   "source": [
    "* *encode()*\t"
   ]
  },
  {
   "cell_type": "code",
   "execution_count": 14,
   "metadata": {},
   "outputs": [
    {
     "name": "stdout",
     "output_type": "stream",
     "text": [
      "b'My name is St\\xc3\\xa5le'\n",
      "b'My name is St\\\\xe5le'\n",
      "b'My name is Stle'\n",
      "b'My name is St\\\\N{LATIN SMALL LETTER A WITH RING ABOVE}le'\n",
      "b'My name is St?le'\n",
      "b'My name is St&#229;le'\n"
     ]
    }
   ],
   "source": [
    "#Returns an encoded version of the string. \n",
    "# If no encoding is specified, UTF-8 will be used.\n",
    "txt = \"My name is Ståle\"\n",
    "print(txt.encode())\n",
    "print(txt.encode(encoding=\"ascii\",errors=\"backslashreplace\"))\n",
    "print(txt.encode(encoding=\"ascii\",errors=\"ignore\"))\n",
    "print(txt.encode(encoding=\"ascii\",errors=\"namereplace\"))\n",
    "print(txt.encode(encoding=\"ascii\",errors=\"replace\"))\n",
    "print(txt.encode(encoding=\"ascii\",errors=\"xmlcharrefreplace\"))"
   ]
  },
  {
   "cell_type": "markdown",
   "metadata": {},
   "source": [
    "* *endswith()*\t"
   ]
  },
  {
   "cell_type": "code",
   "execution_count": 20,
   "metadata": {},
   "outputs": [
    {
     "name": "stdout",
     "output_type": "stream",
     "text": [
      "True\n",
      "False\n",
      "True\n"
     ]
    }
   ],
   "source": [
    "#Returns true if the string ends with the specified value\n",
    "txt = \"Hello, welcome to the session.\"\n",
    "\n",
    "x = txt.endswith(\"session.\")\n",
    "#checking position also 'endswith(value, start, end)'\n",
    "y = txt.endswith(\"session.\", 18, 26)\n",
    "z = txt.endswith(\"session.\", 22, 30)\n",
    "\n",
    "print(x)\n",
    "print(y)\n",
    "print(z)"
   ]
  },
  {
   "cell_type": "markdown",
   "metadata": {},
   "source": [
    "* *expandtabs()*\t\t"
   ]
  },
  {
   "cell_type": "code",
   "execution_count": 23,
   "metadata": {},
   "outputs": [
    {
     "name": "stdout",
     "output_type": "stream",
     "text": [
      "H e l l o\n",
      "H     e     l     l     o\n"
     ]
    }
   ],
   "source": [
    "#Sets the tab size of the string\n",
    "txt = \"H\\te\\tl\\tl\\to\"\n",
    "\n",
    "x =  txt.expandtabs(2)\n",
    "y =  txt.expandtabs(6)\n",
    "\n",
    "print(x)\n",
    "print(y)"
   ]
  },
  {
   "cell_type": "markdown",
   "metadata": {},
   "source": [
    "* *find()*\t"
   ]
  },
  {
   "cell_type": "code",
   "execution_count": 25,
   "metadata": {},
   "outputs": [
    {
     "name": "stdout",
     "output_type": "stream",
     "text": [
      "7\n",
      "1\n",
      "13\n"
     ]
    }
   ],
   "source": [
    "#Searches the string for a specified value and returns the position of where it was found\n",
    "txt = \"Hello, welcome to the session.\"\n",
    "\n",
    "x = txt.find(\"welcome\")\n",
    "#checking first occurance if there present repeatation\n",
    "y = txt.find(\"e\")\n",
    "\n",
    "#also you can declare where you want to search\n",
    "z = txt.find(\"e\", 11, 16)\n",
    "\n",
    "print(x)\n",
    "print(y)\n",
    "print(z)"
   ]
  },
  {
   "cell_type": "markdown",
   "metadata": {},
   "source": [
    "* *format()*\t\t"
   ]
  },
  {
   "cell_type": "code",
   "execution_count": 28,
   "metadata": {},
   "outputs": [
    {
     "name": "stdout",
     "output_type": "stream",
     "text": [
      "India: Total Cases 4.3Cr and Death 5.2L! \n"
     ]
    }
   ],
   "source": [
    "#Formats specified values in a string\n",
    "txt = \"India: Total Cases {Total:.1f}Cr and Death {death:.1f}L! \"\n",
    "print(txt.format(Total= 4.3,death=5.22))"
   ]
  },
  {
   "cell_type": "markdown",
   "metadata": {},
   "source": [
    "* *index()*\t"
   ]
  },
  {
   "cell_type": "code",
   "execution_count": 29,
   "metadata": {},
   "outputs": [
    {
     "name": "stdout",
     "output_type": "stream",
     "text": [
      "7\n",
      "1\n",
      "13\n"
     ]
    }
   ],
   "source": [
    "#Searches the string for a specified value and returns the position of where it was found\n",
    "txt = \"Hello, welcome to the session.\"\n",
    "\n",
    "x = txt.index(\"welcome\")\n",
    "#checking first occurance if there present repeatation\n",
    "y = txt.index(\"e\")\n",
    "\n",
    "#also you can declare where you want to search\n",
    "z = txt.index(\"e\", 11, 16)\n",
    "\n",
    "print(x)\n",
    "print(y)\n",
    "print(z)"
   ]
  },
  {
   "cell_type": "markdown",
   "metadata": {},
   "source": [
    "* *isalnum()*\t"
   ]
  },
  {
   "cell_type": "code",
   "execution_count": 31,
   "metadata": {},
   "outputs": [
    {
     "name": "stdout",
     "output_type": "stream",
     "text": [
      "False\n",
      "True\n"
     ]
    }
   ],
   "source": [
    "#Returns True if all characters in the string are alphanumeric\n",
    "txt='he is 19yr old'\n",
    "txt1='19yr'\n",
    "print(txt.isalnum())\n",
    "print(txt1.isalnum())"
   ]
  },
  {
   "cell_type": "markdown",
   "metadata": {},
   "source": [
    "* *isalpha()*\t\t"
   ]
  },
  {
   "cell_type": "code",
   "execution_count": 34,
   "metadata": {},
   "outputs": [
    {
     "name": "stdout",
     "output_type": "stream",
     "text": [
      "True\n",
      "False\n"
     ]
    }
   ],
   "source": [
    "#Returns True if all characters in the string are in the alphabet\n",
    "txt='hello'\n",
    "txt1='19yr'\n",
    "print(txt.isalpha())\n",
    "print(txt1.isalpha())"
   ]
  },
  {
   "cell_type": "markdown",
   "metadata": {},
   "source": [
    "* *isascii()*\t\t"
   ]
  },
  {
   "cell_type": "code",
   "execution_count": 36,
   "metadata": {},
   "outputs": [
    {
     "name": "stdout",
     "output_type": "stream",
     "text": [
      "True\n",
      "True\n"
     ]
    }
   ],
   "source": [
    "#Returns True if all characters in the string are ascii characters\n",
    "txt='hello'\n",
    "txt1='19yr'\n",
    "print(txt.isascii())\n",
    "print(txt1.isascii())"
   ]
  },
  {
   "cell_type": "markdown",
   "metadata": {},
   "source": [
    "* *isdecimal()*\t"
   ]
  },
  {
   "cell_type": "code",
   "execution_count": 37,
   "metadata": {},
   "outputs": [
    {
     "name": "stdout",
     "output_type": "stream",
     "text": [
      "True\n",
      "False\n"
     ]
    }
   ],
   "source": [
    "#Returns True if all characters in the string are decimals\n",
    "a = \"\\u0030\" #unicode for 0\n",
    "b = \"\\u0047\" #unicode for G\n",
    "\n",
    "print(a.isdecimal())\n",
    "print(b.isdecimal())"
   ]
  },
  {
   "cell_type": "markdown",
   "metadata": {},
   "source": [
    "* *isdigit()*\t"
   ]
  },
  {
   "cell_type": "code",
   "execution_count": 38,
   "metadata": {},
   "outputs": [
    {
     "name": "stdout",
     "output_type": "stream",
     "text": [
      "True\n",
      "False\n"
     ]
    }
   ],
   "source": [
    "#Returns True if all characters in the string are digits\n",
    "txt = \"50800\"\n",
    "txt1='19yr'\n",
    "print(txt.isdigit())\n",
    "print(txt1.isdigit())"
   ]
  },
  {
   "cell_type": "markdown",
   "metadata": {},
   "source": [
    "* *split()*"
   ]
  },
  {
   "cell_type": "code",
   "execution_count": 43,
   "metadata": {},
   "outputs": [
    {
     "name": "stdout",
     "output_type": "stream",
     "text": [
      "['Hello,', 'welcome', 'to', 'the', 'session.']\n",
      "['Hello', 'welcome to the session.']\n"
     ]
    }
   ],
   "source": [
    "#Splits the string at the specified separator, and returns a list\n",
    "txt = \"Hello, welcome to the session.\"\n",
    "\n",
    "x = txt.split(\" \")\n",
    "y = txt.split(\", \")\n",
    "\n",
    "print(x)\n",
    "print(y)"
   ]
  },
  {
   "cell_type": "markdown",
   "metadata": {},
   "source": [
    "* *splitlines()*"
   ]
  },
  {
   "cell_type": "code",
   "execution_count": 48,
   "metadata": {},
   "outputs": [
    {
     "name": "stdout",
     "output_type": "stream",
     "text": [
      "['Python is an interpreted language', 'C++ is a pre-compiled programming language']\n",
      "['Python is an interpreted language\\n', 'C++ is a pre-compiled programming language']\n"
     ]
    }
   ],
   "source": [
    "#Splits the string at line breaks and returns a list\n",
    "txt = \"Python is an interpreted language\\nC++ is a pre-compiled programming language\"\n",
    "x = txt.splitlines()\n",
    "y = txt.splitlines(True)\n",
    "print(x)\n",
    "print(y)"
   ]
  },
  {
   "cell_type": "markdown",
   "metadata": {},
   "source": [
    "* *startswith()*"
   ]
  },
  {
   "cell_type": "code",
   "execution_count": 42,
   "metadata": {},
   "outputs": [
    {
     "name": "stdout",
     "output_type": "stream",
     "text": [
      "True\n",
      "False\n",
      "True\n"
     ]
    }
   ],
   "source": [
    "#Returns true if the string starts with the specified value\n",
    "txt = \"Hello, welcome to the session.\"\n",
    "\n",
    "x = txt.startswith(\"Hello\")\n",
    "#checking position also 'startswith(value, start, end)'\n",
    "y = txt.startswith(\"welcome\", 3, 10)\n",
    "z = txt.startswith(\"Hello\", 0, 17)\n",
    "\n",
    "print(x)\n",
    "print(y)\n",
    "print(z)"
   ]
  },
  {
   "cell_type": "markdown",
   "metadata": {},
   "source": [
    "* *strip()*"
   ]
  },
  {
   "cell_type": "code",
   "execution_count": 54,
   "metadata": {},
   "outputs": [
    {
     "name": "stdout",
     "output_type": "stream",
     "text": [
      "hello\n",
      "hell\n"
     ]
    }
   ],
   "source": [
    "#Returns a trimmed version of the string\n",
    "txt = \"     hello    \"\n",
    "x=txt.strip()\n",
    "txt1=\"...ggggggggg...........,,,,,,,,,....hello..,,,ooooooooo,,\"\n",
    "y = txt1.strip('.,go')\n",
    "print(x)\n",
    "print(y)"
   ]
  },
  {
   "cell_type": "markdown",
   "metadata": {},
   "source": [
    "* *swapcase()*"
   ]
  },
  {
   "cell_type": "code",
   "execution_count": 55,
   "metadata": {},
   "outputs": [
    {
     "name": "stdout",
     "output_type": "stream",
     "text": [
      "hELLO, AND wELCoME tO tHE sESsION.\n"
     ]
    }
   ],
   "source": [
    "#Swaps cases, lower case becomes upper case and vice versa\n",
    "txt = \"Hello, and WelcOme To The SesSion.\"\n",
    "x = txt.swapcase()\n",
    "print (x)"
   ]
  },
  {
   "cell_type": "markdown",
   "metadata": {},
   "source": [
    "### OTHER METHODS \n",
    "* **isidentifier()**\n",
    "    \n",
    "    Returns True if the string is an identifier\n",
    "* **islower()**\t\n",
    "    \n",
    "    Returns True if all characters in the string are lower case\n",
    "* **isnumeric()**\t\n",
    "    \n",
    "    Returns True if all characters in the string are numeric\n",
    "* **isprintable()**\n",
    "    \n",
    "    Returns True if all characters in the string are printable\n",
    "* **isspace()**\t\n",
    "    \n",
    "    Returns True if all characters in the string are whitespaces\n",
    "* **istitle()**\t\n",
    "    \n",
    "    Returns True if the string follows the rules of a title\n",
    "* **isupper()**\t\n",
    "    \n",
    "    Returns True if all characters in the string are upper case\n",
    "* **join()**\n",
    "    \n",
    "    Converts the elements of an iterable into a string\n",
    "* **ljust()**\t\n",
    "    \n",
    "    Returns a left justified version of the string\n",
    "* **lower()**\t\n",
    "    \n",
    "    Converts a string into lower case\n",
    "* **lstrip()**\t\n",
    "    \n",
    "    Returns a left trim version of the string\n",
    "* **maketrans()**\t\n",
    "    \n",
    "    Returns a translation table to be used in translations\n",
    "* **partition()**\t\n",
    "    \n",
    "    Returns a tuple where the string is parted into three parts\n",
    "* **replace()**\t\n",
    "    \n",
    "    Returns a string where a specified value is replaced with a specified value\n",
    "* **rfind()**\t\n",
    "    \n",
    "    Searches the string for a specified value and returns the last position of where it was found\n",
    "* **rindex()*\t\n",
    "    \n",
    "    Searches the string for a specified value and returns the last position of where it was found\n",
    "* **rjust()**\t\n",
    "    \n",
    "    Returns a right justified version of the string\n",
    "* **rpartition()**\t\n",
    "    \n",
    "    Returns a tuple where the string is parted into three parts\n",
    "* **rsplit()**\t\n",
    "    \n",
    "    Splits the string at the specified separator, and returns a list\n",
    "* **rstrip()**\t\n",
    "    \n",
    "    Returns a right trim version of the string\n",
    "* **title()**\t\n",
    "    \n",
    "    Converts the first character of each word to upper case\n",
    "* **translate()**\t\n",
    "    \n",
    "    Returns a translated string\n",
    "* **upper()**\t\n",
    "    Converts a string into upper case\n",
    "* **zfill()**\t\n",
    "    \n",
    "    Fills the string with a specified number of 0 values at the beginning"
   ]
  }
 ],
 "metadata": {
  "interpreter": {
   "hash": "68876b6383b62dc997f1e2adc12eb301a61958dc7fa62c10c14261960fd63dae"
  },
  "kernelspec": {
   "display_name": "Python 3.7.9 ('jupyterenv': venv)",
   "language": "python",
   "name": "python3"
  },
  "language_info": {
   "codemirror_mode": {
    "name": "ipython",
    "version": 3
   },
   "file_extension": ".py",
   "mimetype": "text/x-python",
   "name": "python",
   "nbconvert_exporter": "python",
   "pygments_lexer": "ipython3",
   "version": "3.7.9"
  },
  "orig_nbformat": 4
 },
 "nbformat": 4,
 "nbformat_minor": 2
}
