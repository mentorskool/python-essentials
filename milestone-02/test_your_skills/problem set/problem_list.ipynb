{
  "cells": [
    {
      "cell_type": "markdown",
      "metadata": {
        "id": "wp_GA0YM5JrE"
      },
      "source": [
        "## Problems On List"
      ]
    },
    {
      "cell_type": "markdown",
      "source": [
        "### Use a loop to display elements from a given list present at odd index positions\n",
        "my_list = [10, 20, 30, 40, 50, 60, 70, 80, 90, 100]"
      ],
      "metadata": {
        "id": "z9JqmrW1IrTp"
      }
    },
    {
      "cell_type": "code",
      "source": [
        "#try your code here"
      ],
      "metadata": {
        "id": "3wpKdPwgItGI"
      },
      "execution_count": null,
      "outputs": []
    },
    {
      "cell_type": "code",
      "execution_count": null,
      "metadata": {
        "id": "gtisxnEm5JrJ"
      },
      "outputs": [],
      "source": [
        "list1=[20,36,61,46,28,36,61,46,49,70,38,7,49,70,19,28,36,61,46,7,19,28,49,70,36,61,46,70,38,9,43,7,49,70,19,28,4,44,64,19,83,44,36,61,46,28,49,70]"
      ]
    },
    {
      "cell_type": "markdown",
      "metadata": {
        "id": "k0I1yClj5JrK"
      },
      "source": [
        "## Find distinct digits in list"
      ]
    },
    {
      "cell_type": "code",
      "execution_count": null,
      "metadata": {
        "id": "BagSzaP15JrK"
      },
      "outputs": [],
      "source": [
        "#try your code here"
      ]
    },
    {
      "cell_type": "markdown",
      "metadata": {
        "id": "byCwxPh75JrL"
      },
      "source": [
        "## Find the number of times the specified digit appears in the list."
      ]
    },
    {
      "cell_type": "code",
      "execution_count": null,
      "metadata": {
        "id": "pLXuQNSw5JrL"
      },
      "outputs": [],
      "source": [
        "#try your code here"
      ]
    },
    {
      "cell_type": "markdown",
      "metadata": {
        "id": "jqoJ4v6G5JrM"
      },
      "source": [
        "## Sum of those distinct digits in the list"
      ]
    },
    {
      "cell_type": "code",
      "execution_count": null,
      "metadata": {
        "id": "P3EjsnWq5JrM"
      },
      "outputs": [],
      "source": [
        "#try your code here"
      ]
    },
    {
      "cell_type": "markdown",
      "metadata": {
        "id": "6PQBcyR-5JrN"
      },
      "source": [
        "## Find max and min value of the list  "
      ]
    },
    {
      "cell_type": "code",
      "execution_count": null,
      "metadata": {
        "id": "IjSJM8vQ5JrO"
      },
      "outputs": [],
      "source": [
        "#try your code here"
      ]
    },
    {
      "cell_type": "markdown",
      "source": [
        "### Extract elements with Frequency greater than 2"
      ],
      "metadata": {
        "id": "_sJ132OAAtjx"
      }
    },
    {
      "cell_type": "code",
      "source": [
        "#try your code here"
      ],
      "metadata": {
        "id": "5KkJPt1hAxm5"
      },
      "execution_count": null,
      "outputs": []
    },
    {
      "cell_type": "markdown",
      "source": [
        "### Remove all occurrences of a specific item (61) from a list.\n"
      ],
      "metadata": {
        "id": "AbgOAQTo9rSS"
      }
    },
    {
      "cell_type": "code",
      "source": [
        "#try your code here"
      ],
      "metadata": {
        "id": "35dn4iJK9s9g"
      },
      "execution_count": null,
      "outputs": []
    },
    {
      "cell_type": "markdown",
      "source": [
        "### Find all of the numbers from 1-1000 that have a 3 in them"
      ],
      "metadata": {
        "id": "v8xph_wQI1Eo"
      }
    },
    {
      "cell_type": "code",
      "source": [
        "#try your code here"
      ],
      "metadata": {
        "id": "EIEGAvnXI2xL"
      },
      "execution_count": null,
      "outputs": []
    },
    {
      "cell_type": "markdown",
      "source": [
        "### Find all of the numbers from 1-1000 that are divisible by 7 "
      ],
      "metadata": {
        "id": "lkOPgVO5I6KC"
      }
    },
    {
      "cell_type": "code",
      "source": [
        "#try your code here"
      ],
      "metadata": {
        "id": "V-Xzs0r1I7oo"
      },
      "execution_count": null,
      "outputs": []
    },
    {
      "cell_type": "markdown",
      "source": [
        "### Takes two lists and returns True if they have at least one common member\n",
        "\n",
        "input1: [1,2,3,4,5], [5,6,7,8,9]\n",
        "\n",
        "input2: [1,2,3,4,5], [6,7,8,9]"
      ],
      "metadata": {
        "id": "8I_-GItvJKWx"
      }
    },
    {
      "cell_type": "code",
      "source": [
        "#try your code here"
      ],
      "metadata": {
        "id": "6DHvN4VsJTxh"
      },
      "execution_count": null,
      "outputs": []
    },
    {
      "cell_type": "markdown",
      "metadata": {
        "id": "SRRy_uXE5JrO"
      },
      "source": [
        "## swap two elements in a list\n",
        "Input : List = [23, 65, 19, 90], pos1 = 1, pos2 = 3\n",
        "Output : [19, 65, 23, 90]\n",
        "\n",
        "Input : List = [1, 2, 3, 4, 5], pos1 = 2, pos2 = 5\n",
        "Output : [1, 5, 3, 4, 2]"
      ]
    },
    {
      "cell_type": "code",
      "execution_count": null,
      "metadata": {
        "id": "9dWVs6J55JrP"
      },
      "outputs": [],
      "source": [
        "#try your code here\n",
        "# hints :: syntax:list[pos1], list[pos2] = list[pos2], list[pos1]"
      ]
    },
    {
      "cell_type": "markdown",
      "source": [
        "### Concatenate two lists index-wise\n",
        "\n",
        "list1 = [\"M\", \"na\", \"i\", \"am\"]\n",
        "\n",
        "list2 = [\"y\", \"me\", \"s\", \"it\"]\n",
        "\n",
        "output will be ['My', 'name', 'is', 'amit']"
      ],
      "metadata": {
        "id": "h2pKJguA5z9W"
      }
    },
    {
      "cell_type": "code",
      "source": [
        "#try your code here"
      ],
      "metadata": {
        "id": "VuKaSLG56AZO"
      },
      "execution_count": null,
      "outputs": []
    },
    {
      "cell_type": "markdown",
      "source": [
        "### Concatenate two lists in the following order\n",
        "\n",
        "list1 = [\"Hello \", \"take \"]\n",
        "\n",
        "list2 = [\"Dear\", \"Sir\"]\n",
        "\n",
        "output will be ['Hello Dear', 'Hello Sir', 'take Dear', 'take Sir']"
      ],
      "metadata": {
        "id": "VlZwCrwX5_WW"
      }
    },
    {
      "cell_type": "code",
      "source": [
        "#try your code here"
      ],
      "metadata": {
        "id": "HkQebPNP6Rqu"
      },
      "execution_count": null,
      "outputs": []
    },
    {
      "cell_type": "markdown",
      "source": [
        " ### Remove empty strings from the list of strings \n",
        "\n",
        " ['New York','London',' ','Mumbai','Berlin','Sydney','Beijing',' ','Singapore','Chicago','Paris','Johannesburg']"
      ],
      "metadata": {
        "id": "JzragDU26R1X"
      }
    },
    {
      "cell_type": "code",
      "source": [
        "#try your code here"
      ],
      "metadata": {
        "id": "IP7gUgCb6h9g"
      },
      "execution_count": null,
      "outputs": []
    },
    {
      "cell_type": "markdown",
      "source": [
        "### Replace list’s item with new value if found\n",
        "\n",
        "input:\n",
        " ['New York','London','Mumbai','Berlin','Sydney','Beijing','Singapore','Chicago','Paris','Johannesburg']\n",
        " \n",
        "output:\n",
        " ['New York','London','Chennai','Berlin','Sydney','Beijing','Singapore','Chicago','Paris','Johannesburg']"
      ],
      "metadata": {
        "id": "2HS4BA8-6n-e"
      }
    },
    {
      "cell_type": "code",
      "source": [
        "#try your code here"
      ],
      "metadata": {
        "id": "cwUDWDGR65B-"
      },
      "execution_count": null,
      "outputs": []
    }
  ],
  "metadata": {
    "interpreter": {
      "hash": "68876b6383b62dc997f1e2adc12eb301a61958dc7fa62c10c14261960fd63dae"
    },
    "kernelspec": {
      "display_name": "Python 3.7.9 ('jupyterenv': venv)",
      "language": "python",
      "name": "python3"
    },
    "language_info": {
      "codemirror_mode": {
        "name": "ipython",
        "version": 3
      },
      "file_extension": ".py",
      "mimetype": "text/x-python",
      "name": "python",
      "nbconvert_exporter": "python",
      "pygments_lexer": "ipython3",
      "version": "3.7.9"
    },
    "orig_nbformat": 4,
    "colab": {
      "name": "problem_list.ipynb",
      "provenance": []
    }
  },
  "nbformat": 4,
  "nbformat_minor": 0
}