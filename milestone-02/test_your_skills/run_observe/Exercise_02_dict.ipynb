{
 "cells": [
  {
   "cell_type": "markdown",
   "metadata": {},
   "source": [
    "### Run all and observe the codes \n",
    "![](https://www.imagediamond.com/blog/wp-content/uploads/2019/09/All-the-Best-quote-3-1024x830.jpg)"
   ]
  },
  {
   "cell_type": "code",
   "execution_count": 1,
   "metadata": {},
   "outputs": [],
   "source": [
    "# Creating Dictionary\n",
    "#In Python, a Dictionary can be created by placing a sequence of elements within curly {} braces, separated by ‘comma’. \n",
    "new_dict = {} # empty dictionary\n",
    "new_dict = {1: 'python', 2: 'java'} # dictionary with integer keys\n",
    "new_dict = {'School': 'RV Public School', 'Marks': [25, 20, 23]} # dictionary with mixed keys"
   ]
  },
  {
   "cell_type": "code",
   "execution_count": 2,
   "metadata": {},
   "outputs": [],
   "source": [
    "#Dictionary operations\n",
    "new_dict = {'name':'Akash', 'company':'TCS', 'salary':'40000'}"
   ]
  },
  {
   "cell_type": "code",
   "execution_count": 3,
   "metadata": {},
   "outputs": [
    {
     "name": "stdout",
     "output_type": "stream",
     "text": [
      "Akash\n",
      "TCS\n"
     ]
    }
   ],
   "source": [
    "#Accessing elements\n",
    "#In order to access the items of a dictionary refer to its key name. Key can be used inside square brackets.\n",
    "print(new_dict['name'])\n",
    "#Output: Akash\n",
    "print(new_dict.get('company'))\n",
    "#Output: TCS"
   ]
  },
  {
   "cell_type": "code",
   "execution_count": 4,
   "metadata": {},
   "outputs": [
    {
     "name": "stdout",
     "output_type": "stream",
     "text": [
      "{1: {'name': 'Akash', 'age': '27', 'sex': 'Male'}, 2: {'name': 'Raj', 'age': '22', 'sex': 'Male'}}\n"
     ]
    }
   ],
   "source": [
    "#Nested Dictionary\n",
    "#Dictionary inside a dictionary is called nested dictionary\n",
    "people = {1: {'name': 'Akash', 'age': '27', 'sex': 'Male'},\n",
    "          2: {'name': 'Raj', 'age': '22', 'sex': 'Male'}}\n",
    "print(people)\n",
    "#Output;\n",
    "#{1: {'name': 'Akash', 'age': '27', 'sex': 'Male'}, 2: {'name': 'Raj', 'age': '22', 'sex': 'Male'}}\n"
   ]
  },
  {
   "cell_type": "code",
   "execution_count": 5,
   "metadata": {},
   "outputs": [
    {
     "name": "stdout",
     "output_type": "stream",
     "text": [
      "Raj\n",
      "22\n",
      "Male\n"
     ]
    }
   ],
   "source": [
    "#Accessing dictionary elements\n",
    "print(people[2]['name'])\n",
    "#Output: Raj\n",
    "print(people[2]['age'])\n",
    "#Output: 22\n",
    "print(people[2]['sex'])\n",
    "#Output: Male"
   ]
  },
  {
   "cell_type": "code",
   "execution_count": 6,
   "metadata": {},
   "outputs": [
    {
     "name": "stdout",
     "output_type": "stream",
     "text": [
      "{'name': 'Akash', 'company': 'TCS', 'salary': 60000}\n"
     ]
    }
   ],
   "source": [
    "#Update dictionary value\n",
    "#The addition of elements can be done in multiple ways. One value at a time can be added to a Dictionary by defining value along with the key. \n",
    "new_dict['salary'] = 60000\n",
    "print(new_dict)\n"
   ]
  },
  {
   "cell_type": "code",
   "execution_count": 7,
   "metadata": {},
   "outputs": [],
   "source": [
    "#Removing dictionary elements\n",
    "#In Python Dictionary, deletion of keys can be done by using the del keyword. Using the del keyword, specific values from a dictionary as well as the whole dictionary can be deleted.\n",
    "del new_dict['salary'] #Deleting a Key value\n",
    "del new_dict #Deleting Dictionary"
   ]
  },
  {
   "cell_type": "code",
   "execution_count": 8,
   "metadata": {},
   "outputs": [],
   "source": [
    "#Access operations\n",
    "#We can access the keys and values using inbuilt functions keys() and values()\n",
    "new_dict = {1:1,2:4,3:9,4:16}"
   ]
  },
  {
   "cell_type": "code",
   "execution_count": 9,
   "metadata": {},
   "outputs": [
    {
     "name": "stdout",
     "output_type": "stream",
     "text": [
      "dict_keys([1, 2, 3, 4])\n"
     ]
    }
   ],
   "source": [
    "#to access the keys\n",
    "print(new_dict.keys())\n",
    "#Output: dict_keys([1, 2, 3, 4])"
   ]
  },
  {
   "cell_type": "code",
   "execution_count": 10,
   "metadata": {},
   "outputs": [
    {
     "name": "stdout",
     "output_type": "stream",
     "text": [
      "dict_values([1, 4, 9, 16])\n"
     ]
    }
   ],
   "source": [
    "#to access the values\n",
    "print(new_dict.values())\n",
    "#Output: dict_values([1, 4, 9, 16])"
   ]
  }
 ],
 "metadata": {
  "interpreter": {
   "hash": "68876b6383b62dc997f1e2adc12eb301a61958dc7fa62c10c14261960fd63dae"
  },
  "kernelspec": {
   "display_name": "Python 3.7.9 ('jupyterenv': venv)",
   "language": "python",
   "name": "python3"
  },
  "language_info": {
   "codemirror_mode": {
    "name": "ipython",
    "version": 3
   },
   "file_extension": ".py",
   "mimetype": "text/x-python",
   "name": "python",
   "nbconvert_exporter": "python",
   "pygments_lexer": "ipython3",
   "version": "3.7.9"
  },
  "orig_nbformat": 4
 },
 "nbformat": 4,
 "nbformat_minor": 2
}
