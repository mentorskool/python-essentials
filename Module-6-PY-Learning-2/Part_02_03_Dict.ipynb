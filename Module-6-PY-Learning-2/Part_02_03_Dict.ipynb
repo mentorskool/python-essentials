{
 "cells": [
  {
   "cell_type": "markdown",
   "metadata": {},
   "source": [
    "## **Dictionary**"
   ]
  },
  {
   "cell_type": "code",
   "execution_count": 1,
   "metadata": {},
   "outputs": [],
   "source": [
    "my_dict = {'New York':28,'Chicago':22,'Phoenix':31,'Dallas':27,'Los Angeles':32} # note the {}"
   ]
  },
  {
   "cell_type": "code",
   "execution_count": 2,
   "metadata": {},
   "outputs": [
    {
     "data": {
      "text/plain": [
       "dict"
      ]
     },
     "execution_count": 2,
     "metadata": {},
     "output_type": "execute_result"
    }
   ],
   "source": [
    "type(my_dict)"
   ]
  },
  {
   "cell_type": "code",
   "execution_count": 5,
   "metadata": {},
   "outputs": [
    {
     "data": {
      "text/plain": [
       "5"
      ]
     },
     "execution_count": 5,
     "metadata": {},
     "output_type": "execute_result"
    }
   ],
   "source": [
    "len(my_dict)"
   ]
  },
  {
   "cell_type": "code",
   "execution_count": 3,
   "metadata": {},
   "outputs": [
    {
     "data": {
      "text/plain": [
       "28"
      ]
     },
     "execution_count": 3,
     "metadata": {},
     "output_type": "execute_result"
    }
   ],
   "source": [
    "my_dict['New York']"
   ]
  },
  {
   "cell_type": "code",
   "execution_count": 4,
   "metadata": {},
   "outputs": [
    {
     "ename": "KeyError",
     "evalue": "'St Louis'",
     "output_type": "error",
     "traceback": [
      "\u001b[1;31m---------------------------------------------------------------------------\u001b[0m",
      "\u001b[1;31mKeyError\u001b[0m                                  Traceback (most recent call last)",
      "\u001b[1;32m~\\AppData\\Local\\Temp\\ipykernel_46428\\1660420695.py\u001b[0m in \u001b[0;36m<module>\u001b[1;34m\u001b[0m\n\u001b[1;32m----> 1\u001b[1;33m \u001b[0mmy_dict\u001b[0m\u001b[1;33m[\u001b[0m\u001b[1;34m'St Louis'\u001b[0m\u001b[1;33m]\u001b[0m\u001b[1;33m\u001b[0m\u001b[1;33m\u001b[0m\u001b[0m\n\u001b[0m",
      "\u001b[1;31mKeyError\u001b[0m: 'St Louis'"
     ]
    }
   ],
   "source": [
    "my_dict['St Louis']"
   ]
  },
  {
   "cell_type": "code",
   "execution_count": 6,
   "metadata": {},
   "outputs": [
    {
     "data": {
      "text/plain": [
       "{'New York': 28,\n",
       " 'Chicago': 22,\n",
       " 'Phoenix': 31,\n",
       " 'Dallas': 27,\n",
       " 'Los Angeles': 32,\n",
       " 'St Louis': 31}"
      ]
     },
     "execution_count": 6,
     "metadata": {},
     "output_type": "execute_result"
    }
   ],
   "source": [
    "my_dict['St Louis'] = 31 # add a new key-value pair\n",
    "my_dict"
   ]
  },
  {
   "cell_type": "code",
   "execution_count": 7,
   "metadata": {},
   "outputs": [
    {
     "data": {
      "text/plain": [
       "{'New York': 28,\n",
       " 'Chicago': 22,\n",
       " 'Phoenix': 31,\n",
       " 'Dallas': 28,\n",
       " 'Los Angeles': 32,\n",
       " 'St Louis': 31}"
      ]
     },
     "execution_count": 7,
     "metadata": {},
     "output_type": "execute_result"
    }
   ],
   "source": [
    "my_dict['Dallas'] = 28 # change value for an existing key\n",
    "my_dict"
   ]
  },
  {
   "cell_type": "code",
   "execution_count": 8,
   "metadata": {},
   "outputs": [
    {
     "data": {
      "text/plain": [
       "False"
      ]
     },
     "execution_count": 8,
     "metadata": {},
     "output_type": "execute_result"
    }
   ],
   "source": [
    "'Boston' in my_dict"
   ]
  },
  {
   "cell_type": "code",
   "execution_count": 9,
   "metadata": {},
   "outputs": [
    {
     "data": {
      "text/plain": [
       "True"
      ]
     },
     "execution_count": 9,
     "metadata": {},
     "output_type": "execute_result"
    }
   ],
   "source": [
    "'Chicago' in my_dict"
   ]
  },
  {
   "cell_type": "code",
   "execution_count": 10,
   "metadata": {},
   "outputs": [
    {
     "data": {
      "text/plain": [
       "{'New York': 28,\n",
       " 'Chicago': 22,\n",
       " 'Dallas': 28,\n",
       " 'Los Angeles': 32,\n",
       " 'St Louis': 31}"
      ]
     },
     "execution_count": 10,
     "metadata": {},
     "output_type": "execute_result"
    }
   ],
   "source": [
    "del my_dict['Phoenix']\n",
    "my_dict"
   ]
  },
  {
   "cell_type": "code",
   "execution_count": 1,
   "metadata": {},
   "outputs": [],
   "source": [
    "X1=['New York','Chicago','Dallas','Los Angeles','St Louis','Boston']\n",
    "X2=[28,22,28,32,31,29]"
   ]
  },
  {
   "cell_type": "code",
   "execution_count": 2,
   "metadata": {},
   "outputs": [
    {
     "data": {
      "text/plain": [
       "{'New York': 28,\n",
       " 'Chicago': 22,\n",
       " 'Dallas': 28,\n",
       " 'Los Angeles': 32,\n",
       " 'St Louis': 31,\n",
       " 'Boston': 29}"
      ]
     },
     "execution_count": 2,
     "metadata": {},
     "output_type": "execute_result"
    }
   ],
   "source": [
    "d1=dict(zip(X1,X2))\n",
    "d1"
   ]
  },
  {
   "cell_type": "code",
   "execution_count": 3,
   "metadata": {},
   "outputs": [
    {
     "data": {
      "text/plain": [
       "{28: 'Dallas', 22: 'Chicago', 32: 'Los Angeles', 31: 'St Louis', 29: 'Boston'}"
      ]
     },
     "execution_count": 3,
     "metadata": {},
     "output_type": "execute_result"
    }
   ],
   "source": [
    "d1=dict(zip(X2,X1))\n",
    "d1"
   ]
  },
  {
   "cell_type": "code",
   "execution_count": 13,
   "metadata": {},
   "outputs": [
    {
     "data": {
      "text/plain": [
       "{'New York': 28,\n",
       " 'Chicago': 22,\n",
       " 'Dallas': 28,\n",
       " 'Los Angeles': 32,\n",
       " 'St Louis': 31,\n",
       " 'Boston': 29}"
      ]
     },
     "execution_count": 13,
     "metadata": {},
     "output_type": "execute_result"
    }
   ],
   "source": [
    "d1={key[i]:value[i] for i in range(len(key))}\n",
    "d1"
   ]
  },
  {
   "cell_type": "markdown",
   "metadata": {},
   "source": [
    "## Pre-defined methods of dictionary"
   ]
  },
  {
   "cell_type": "markdown",
   "metadata": {},
   "source": [
    "Python has a set of built-in methods that you can use on dictionaries."
   ]
  },
  {
   "cell_type": "markdown",
   "metadata": {},
   "source": [
    "* *clear( )*"
   ]
  },
  {
   "cell_type": "code",
   "execution_count": 14,
   "metadata": {},
   "outputs": [
    {
     "name": "stdout",
     "output_type": "stream",
     "text": [
      "{}\n"
     ]
    }
   ],
   "source": [
    "#Removes all the elements from the dictionary\n",
    "\n",
    "my_dict = {'New York':28,'Chicago':22,'Phoenix':31,'Dallas':27,'Los Angeles':32}\n",
    "my_dict.clear()\n",
    "print(my_dict)\n"
   ]
  },
  {
   "cell_type": "markdown",
   "metadata": {},
   "source": [
    "* *copy( )*"
   ]
  },
  {
   "cell_type": "code",
   "execution_count": 15,
   "metadata": {},
   "outputs": [
    {
     "name": "stdout",
     "output_type": "stream",
     "text": [
      "{'New York': 28, 'Chicago': 22, 'Phoenix': 31, 'Dallas': 27, 'Los Angeles': 32}\n"
     ]
    }
   ],
   "source": [
    "#Returns a copy of the dictionary\n",
    "my_dict = {'New York':28,'Chicago':22,'Phoenix':31,'Dallas':27,'Los Angeles':32}\n",
    "x=my_dict.copy()\n",
    "print(x)"
   ]
  },
  {
   "cell_type": "markdown",
   "metadata": {},
   "source": [
    "* *fromkeys( )*"
   ]
  },
  {
   "cell_type": "code",
   "execution_count": 16,
   "metadata": {},
   "outputs": [
    {
     "name": "stdout",
     "output_type": "stream",
     "text": [
      "new_dict_1 :  {'New York': 30, 'Chicago': 30, 'Phoenix': 30, 'Dallas': 30, 'Los Angeles': 30}\n"
     ]
    }
   ],
   "source": [
    "#Returns a dictionary with the specified keys and value\n",
    "x=('New York','Chicago','Phoenix','Dallas','Los Angeles')\n",
    "y=30\n",
    "new_dict_1=dict.fromkeys(x,y)\n",
    "print('new_dict_1 : ',new_dict_1)"
   ]
  },
  {
   "cell_type": "code",
   "execution_count": 17,
   "metadata": {},
   "outputs": [
    {
     "name": "stdout",
     "output_type": "stream",
     "text": [
      "new_dict_2 :  {'New York': None, 'Chicago': None, 'Phoenix': None, 'Dallas': None, 'Los Angeles': None}\n"
     ]
    }
   ],
   "source": [
    "#Keys required. An iterable specifying the keys of the new dictionary\n",
    "#Values Optional. The value for all keys. Default value is None\n",
    "new_dict_2=dict.fromkeys(x) #values are optional\n",
    "print('new_dict_2 : ',new_dict_2)"
   ]
  },
  {
   "cell_type": "markdown",
   "metadata": {},
   "source": [
    "* *get( )*"
   ]
  },
  {
   "cell_type": "code",
   "execution_count": 18,
   "metadata": {},
   "outputs": [
    {
     "data": {
      "text/plain": [
       "31"
      ]
     },
     "execution_count": 18,
     "metadata": {},
     "output_type": "execute_result"
    }
   ],
   "source": [
    "#Returns the value of the specified key\n",
    "my_dict = {'New York':28,'Chicago':22,'Phoenix':31,'Dallas':27,'Los Angeles':32}\n",
    "my_dict.get('Phoenix')"
   ]
  },
  {
   "cell_type": "markdown",
   "metadata": {},
   "source": [
    "* *items( )*"
   ]
  },
  {
   "cell_type": "code",
   "execution_count": 19,
   "metadata": {},
   "outputs": [
    {
     "data": {
      "text/plain": [
       "dict_items([('New York', 28), ('Chicago', 22), ('Phoenix', 31), ('Dallas', 27), ('Los Angeles', 32)])"
      ]
     },
     "execution_count": 19,
     "metadata": {},
     "output_type": "execute_result"
    }
   ],
   "source": [
    "#Returns a list containing a tuple for each key value pair\n",
    "my_dict = {'New York':28,'Chicago':22,'Phoenix':31,'Dallas':27,'Los Angeles':32}\n",
    "my_dict.items()"
   ]
  },
  {
   "cell_type": "code",
   "execution_count": 20,
   "metadata": {},
   "outputs": [
    {
     "name": "stdout",
     "output_type": "stream",
     "text": [
      "old:  dict_items([('New York', 28), ('Chicago', 22), ('Phoenix', 31), ('Dallas', 27), ('Los Angeles', 32)])\n",
      "updated : dict_items([('New York', 28), ('Chicago', 29), ('Phoenix', 31), ('Dallas', 27), ('Los Angeles', 32)])\n"
     ]
    }
   ],
   "source": [
    "#Update value of dict and see! items() returns updated dict\n",
    "my_dict = {'New York':28,'Chicago':22,'Phoenix':31,'Dallas':27,'Los Angeles':32}\n",
    "\n",
    "x=my_dict.items()\n",
    "print('old: ',x)\n",
    "\n",
    "my_dict['Chicago']=29\n",
    "print('updated :',x)"
   ]
  },
  {
   "cell_type": "markdown",
   "metadata": {},
   "source": [
    "* *keys( )*"
   ]
  },
  {
   "cell_type": "code",
   "execution_count": 21,
   "metadata": {},
   "outputs": [
    {
     "data": {
      "text/plain": [
       "dict_keys(['New York', 'Chicago', 'Phoenix', 'Dallas', 'Los Angeles'])"
      ]
     },
     "execution_count": 21,
     "metadata": {},
     "output_type": "execute_result"
    }
   ],
   "source": [
    "#Returns a list containing the dictionary's keys\n",
    "my_dict = {'New York':28,'Chicago':22,'Phoenix':31,'Dallas':27,'Los Angeles':32}\n",
    "my_dict.keys()"
   ]
  },
  {
   "cell_type": "code",
   "execution_count": 22,
   "metadata": {},
   "outputs": [
    {
     "name": "stdout",
     "output_type": "stream",
     "text": [
      "old:  dict_keys(['New York', 'Chicago', 'Phoenix', 'Dallas', 'Los Angeles'])\n",
      "updated : dict_keys(['New York', 'Chicago', 'Phoenix', 'Dallas', 'Los Angeles', 'Tokyo'])\n"
     ]
    }
   ],
   "source": [
    "#Update value of dict and see! keys() returns updated dict\n",
    "my_dict = {'New York':28,'Chicago':22,'Phoenix':31,'Dallas':27,'Los Angeles':32}\n",
    "\n",
    "x=my_dict.keys()\n",
    "print('old: ',x)\n",
    "\n",
    "my_dict['Tokyo']=29\n",
    "print('updated :',x)"
   ]
  },
  {
   "cell_type": "markdown",
   "metadata": {},
   "source": [
    "* *values( )*"
   ]
  },
  {
   "cell_type": "code",
   "execution_count": 23,
   "metadata": {},
   "outputs": [
    {
     "data": {
      "text/plain": [
       "dict_values([28, 22, 31, 27, 32])"
      ]
     },
     "execution_count": 23,
     "metadata": {},
     "output_type": "execute_result"
    }
   ],
   "source": [
    "#Returns a list containing the dictionary's values\n",
    "my_dict = {'New York':28,'Chicago':22,'Phoenix':31,'Dallas':27,'Los Angeles':32}\n",
    "my_dict.values()"
   ]
  },
  {
   "cell_type": "markdown",
   "metadata": {},
   "source": [
    "* *pop( )*"
   ]
  },
  {
   "cell_type": "code",
   "execution_count": 24,
   "metadata": {},
   "outputs": [
    {
     "name": "stdout",
     "output_type": "stream",
     "text": [
      "{'New York': 28, 'Phoenix': 31, 'Dallas': 27, 'Los Angeles': 32}\n"
     ]
    }
   ],
   "source": [
    "#Removes the element with the specified key\n",
    "my_dict = {'New York':28,'Chicago':22,'Phoenix':31,'Dallas':27,'Los Angeles':32}\n",
    "my_dict.pop('Chicago')\n",
    "print(my_dict)"
   ]
  },
  {
   "cell_type": "code",
   "execution_count": 25,
   "metadata": {},
   "outputs": [
    {
     "name": "stdout",
     "output_type": "stream",
     "text": [
      "22\n"
     ]
    }
   ],
   "source": [
    "#Returns the value of the removed item \n",
    "my_dict = {'New York':28,'Chicago':22,'Phoenix':31,'Dallas':27,'Los Angeles':32}\n",
    "x=my_dict.pop('Chicago')\n",
    "print(x)"
   ]
  },
  {
   "cell_type": "markdown",
   "metadata": {},
   "source": [
    "* *popitem( )*"
   ]
  },
  {
   "cell_type": "code",
   "execution_count": 26,
   "metadata": {},
   "outputs": [
    {
     "name": "stdout",
     "output_type": "stream",
     "text": [
      "{'New York': 28, 'Chicago': 22, 'Phoenix': 31, 'Dallas': 27}\n"
     ]
    }
   ],
   "source": [
    "#Removes the last inserted key-value pair\n",
    "my_dict = {'New York':28,'Chicago':22,'Phoenix':31,'Dallas':27,'Los Angeles':32}\n",
    "my_dict.popitem()\n",
    "print(my_dict)"
   ]
  },
  {
   "cell_type": "code",
   "execution_count": 27,
   "metadata": {},
   "outputs": [
    {
     "name": "stdout",
     "output_type": "stream",
     "text": [
      "('Los Angeles', 32)\n"
     ]
    }
   ],
   "source": [
    "#Returns the value of the removed item \n",
    "my_dict = {'New York':28,'Chicago':22,'Phoenix':31,'Dallas':27,'Los Angeles':32}\n",
    "x=my_dict.popitem()\n",
    "print(x)"
   ]
  },
  {
   "cell_type": "markdown",
   "metadata": {},
   "source": [
    "* *setdefault( )*"
   ]
  },
  {
   "cell_type": "code",
   "execution_count": 28,
   "metadata": {},
   "outputs": [
    {
     "name": "stdout",
     "output_type": "stream",
     "text": [
      "x 29\n",
      "y 22\n"
     ]
    }
   ],
   "source": [
    "#Returns the value of the specified key. If the key does not exist: insert the key, with the specified value\n",
    "my_dict = {'New York':28,'Chicago':22,'Phoenix':31,'Dallas':27,'Los Angeles':32}\n",
    "x=my_dict.setdefault('Tokyo',29)\n",
    "print('x',x)\n",
    "y=my_dict.setdefault('Chicago',31)\n",
    "print('y',y)"
   ]
  },
  {
   "cell_type": "markdown",
   "metadata": {},
   "source": [
    "* *update( )*"
   ]
  },
  {
   "cell_type": "code",
   "execution_count": 29,
   "metadata": {},
   "outputs": [
    {
     "name": "stdout",
     "output_type": "stream",
     "text": [
      "{'New York': 28, 'Chicago': 22, 'Phoenix': 31, 'Dallas': 27, 'Los Angeles': 32, 'Tokyo': 29}\n"
     ]
    }
   ],
   "source": [
    "#Updates the dictionary with the specified key-value pairs\n",
    "my_dict = {'New York':28,'Chicago':22,'Phoenix':31,'Dallas':27,'Los Angeles':32}\n",
    "my_dict.update({'Tokyo':29}) \n",
    "print(my_dict)"
   ]
  },
  {
   "cell_type": "code",
   "execution_count": null,
   "metadata": {},
   "outputs": [],
   "source": []
  }
 ],
 "metadata": {
  "interpreter": {
   "hash": "68876b6383b62dc997f1e2adc12eb301a61958dc7fa62c10c14261960fd63dae"
  },
  "kernelspec": {
   "display_name": "Python 3 (ipykernel)",
   "language": "python",
   "name": "python3"
  },
  "language_info": {
   "codemirror_mode": {
    "name": "ipython",
    "version": 3
   },
   "file_extension": ".py",
   "mimetype": "text/x-python",
   "name": "python",
   "nbconvert_exporter": "python",
   "pygments_lexer": "ipython3",
   "version": "3.7.11"
  }
 },
 "nbformat": 4,
 "nbformat_minor": 2
}
