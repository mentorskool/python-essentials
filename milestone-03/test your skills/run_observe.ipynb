{
 "cells": [
  {
   "cell_type": "markdown",
   "metadata": {},
   "source": [
    "## Q - Find the sum of all items in a dictionary\n",
    "Input : {'a': 100, 'b':200, 'c':300}\n",
    "Output : 600\n",
    "\n",
    "Input : {'x': 25, 'y':18, 'z':45}\n",
    "Output : 88"
   ]
  },
  {
   "cell_type": "code",
   "execution_count": 1,
   "metadata": {},
   "outputs": [
    {
     "name": "stdout",
     "output_type": "stream",
     "text": [
      "Sum : 600\n"
     ]
    }
   ],
   "source": [
    "# Solution 1 \n",
    "def returnSum(myDict):\n",
    "     \n",
    "    list = []\n",
    "    for i in myDict:\n",
    "        list.append(myDict[i])\n",
    "    final = sum(list)\n",
    "     \n",
    "    return final\n",
    " \n",
    "# Driver Function\n",
    "dict = {'a': 100, 'b':200, 'c':300}\n",
    "print(\"Sum :\", returnSum(dict))"
   ]
  },
  {
   "cell_type": "code",
   "execution_count": 2,
   "metadata": {},
   "outputs": [
    {
     "name": "stdout",
     "output_type": "stream",
     "text": [
      "Sum : 600\n"
     ]
    }
   ],
   "source": [
    "# Solution 2\n",
    "def returnSum(dict):\n",
    "     \n",
    "     sum = 0\n",
    "     for i in dict.values():\n",
    "           sum = sum + i\n",
    "      \n",
    "     return sum\n",
    " \n",
    "# Driver Function\n",
    "dict = {'a': 100, 'b':200, 'c':300}\n",
    "print(\"Sum :\", returnSum(dict))"
   ]
  },
  {
   "cell_type": "code",
   "execution_count": 3,
   "metadata": {},
   "outputs": [
    {
     "name": "stdout",
     "output_type": "stream",
     "text": [
      "Sum : 600\n"
     ]
    }
   ],
   "source": [
    "# Solution 3\n",
    "def returnSum(dict):\n",
    "     \n",
    "     sum = 0\n",
    "     for i in dict:\n",
    "           sum = sum + dict[i]\n",
    "      \n",
    "     return sum\n",
    " \n",
    "# Driver Function\n",
    "dict = {'a': 100, 'b':200, 'c':300}\n",
    "print(\"Sum :\", returnSum(dict))"
   ]
  },
  {
   "cell_type": "markdown",
   "metadata": {},
   "source": [
    "## Q - Find the highest from given two numbers. [Using Lambda Func]"
   ]
  },
  {
   "cell_type": "code",
   "execution_count": 4,
   "metadata": {},
   "outputs": [
    {
     "name": "stdout",
     "output_type": "stream",
     "text": [
      "20\n",
      "12\n",
      "13\n"
     ]
    }
   ],
   "source": [
    "result = lambda x,y : x if x > y else y\n",
    "  \n",
    "  \n",
    "# print for numbers\n",
    "print(result(20, 11))\n",
    "print(result(12, 12))\n",
    "print(result(12, 13))"
   ]
  },
  {
   "cell_type": "markdown",
   "metadata": {},
   "source": [
    "## Q - Check if number is even or odd [Using Lambda Func]"
   ]
  },
  {
   "cell_type": "code",
   "execution_count": 5,
   "metadata": {},
   "outputs": [
    {
     "name": "stdout",
     "output_type": "stream",
     "text": [
      "12 is even\n",
      "11 is odd\n"
     ]
    }
   ],
   "source": [
    "result = lambda x : f\"{x} is even\" if x%2 == 0 else f\"{x} is odd\"\n",
    "  \n",
    "# print for numbers\n",
    "print(result(12))\n",
    "print(result(11))"
   ]
  }
 ],
 "metadata": {
  "interpreter": {
   "hash": "68876b6383b62dc997f1e2adc12eb301a61958dc7fa62c10c14261960fd63dae"
  },
  "kernelspec": {
   "display_name": "Python 3.7.9 ('jupyterenv': venv)",
   "language": "python",
   "name": "python3"
  },
  "language_info": {
   "codemirror_mode": {
    "name": "ipython",
    "version": 3
   },
   "file_extension": ".py",
   "mimetype": "text/x-python",
   "name": "python",
   "nbconvert_exporter": "python",
   "pygments_lexer": "ipython3",
   "version": "3.7.9"
  },
  "orig_nbformat": 4
 },
 "nbformat": 4,
 "nbformat_minor": 2
}
