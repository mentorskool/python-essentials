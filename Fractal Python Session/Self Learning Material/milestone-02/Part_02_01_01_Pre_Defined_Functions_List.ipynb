{
 "cells": [
  {
   "cell_type": "markdown",
   "metadata": {},
   "source": [
    "## **List**"
   ]
  },
  {
   "cell_type": "markdown",
   "metadata": {},
   "source": [
    "Python has a set of built-in methods that you can use on lists/arrays."
   ]
  },
  {
   "cell_type": "markdown",
   "metadata": {},
   "source": [
    "* *append( )*"
   ]
  },
  {
   "cell_type": "code",
   "execution_count": 36,
   "metadata": {},
   "outputs": [
    {
     "name": "stdout",
     "output_type": "stream",
     "text": [
      "['New York', 'London', 'Mumbai', 'Berlin', 'Sydney', 'Beijing', 'Singapore', 'Chicago', 'Paris', 'Johannesburg', 'Dallas']\n"
     ]
    }
   ],
   "source": [
    "#Adds an element at the end of the list\n",
    "cities = ['New York','London','Mumbai','Berlin','Sydney','Beijing','Singapore','Chicago','Paris','Johannesburg']\n",
    "cities.append('Dallas')\n",
    "print(cities)"
   ]
  },
  {
   "cell_type": "markdown",
   "metadata": {},
   "source": [
    "* *clear( )*"
   ]
  },
  {
   "cell_type": "code",
   "execution_count": 38,
   "metadata": {},
   "outputs": [
    {
     "name": "stdout",
     "output_type": "stream",
     "text": [
      "[]\n"
     ]
    }
   ],
   "source": [
    "#Removes all the elements from the list\n",
    "cities = ['New York','London','Mumbai','Berlin','Sydney','Beijing','Singapore','Chicago','Paris','Johannesburg']\n",
    "cities.clear()\n",
    "print(cities)"
   ]
  },
  {
   "cell_type": "markdown",
   "metadata": {},
   "source": [
    "* *copy( )*"
   ]
  },
  {
   "cell_type": "code",
   "execution_count": 39,
   "metadata": {},
   "outputs": [
    {
     "name": "stdout",
     "output_type": "stream",
     "text": [
      "['New York', 'London', 'Mumbai', 'Berlin', 'Sydney', 'Beijing', 'Singapore', 'Chicago', 'Paris', 'Johannesburg']\n"
     ]
    }
   ],
   "source": [
    "#Returns a copy of the list\n",
    "cities = ['New York','London','Mumbai','Berlin','Sydney','Beijing','Singapore','Chicago','Paris','Johannesburg']\n",
    "x=cities.copy()\n",
    "print(x)"
   ]
  },
  {
   "cell_type": "markdown",
   "metadata": {},
   "source": [
    "* *count( )*"
   ]
  },
  {
   "cell_type": "code",
   "execution_count": 43,
   "metadata": {},
   "outputs": [
    {
     "name": "stdout",
     "output_type": "stream",
     "text": [
      "Singapore :  2\n",
      "New York : 4\n"
     ]
    }
   ],
   "source": [
    "#Returns the number of elements with the specified value\n",
    "cities = ['New York','Paris','London','Mumbai','Johannesburg','New York','Singapore','Sydney','Beijing','Mumbai','New York'\n",
    "'Singapore','Chicago','Paris','New York','Singapore','Johannesburg','Paris','New York']\n",
    "x=cities.count('Singapore')\n",
    "print('Singapore : ',x)\n",
    "y=cities.count('New York')\n",
    "print('New York :',y)"
   ]
  },
  {
   "cell_type": "markdown",
   "metadata": {},
   "source": [
    "* *extend( )*"
   ]
  },
  {
   "cell_type": "code",
   "execution_count": 45,
   "metadata": {},
   "outputs": [
    {
     "name": "stdout",
     "output_type": "stream",
     "text": [
      "['New York', 'London', 'Mumbai', 'Berlin', 'Sydney', 'Beijing', 'Singapore', 'Chicago', 'Paris', 'Johannesburg', 26, 22, 34, 21, 19, 36]\n"
     ]
    }
   ],
   "source": [
    "#Add the elements of a list (or any iterable), to the end of the current list\n",
    "cities = ['New York','London','Mumbai','Berlin','Sydney','Beijing','Singapore','Chicago','Paris','Johannesburg']\n",
    "population=[26,22,34,21,19,36]\n",
    "cities.extend(population)\n",
    "print(cities)"
   ]
  },
  {
   "cell_type": "markdown",
   "metadata": {},
   "source": [
    "* *index( )*"
   ]
  },
  {
   "cell_type": "code",
   "execution_count": 46,
   "metadata": {},
   "outputs": [
    {
     "name": "stdout",
     "output_type": "stream",
     "text": [
      "3\n"
     ]
    }
   ],
   "source": [
    "#Returns the index of the first element with the specified value\n",
    "cities = ['New York','London','Mumbai','Berlin','Sydney','Beijing','Singapore','Chicago','Paris','Johannesburg']\n",
    "x=cities.index('Berlin')\n",
    "print(x)"
   ]
  },
  {
   "cell_type": "markdown",
   "metadata": {},
   "source": [
    "* *insert( )*"
   ]
  },
  {
   "cell_type": "code",
   "execution_count": 49,
   "metadata": {},
   "outputs": [
    {
     "name": "stdout",
     "output_type": "stream",
     "text": [
      "['New York', 'London', 'Mumbai', 'Berlin', 'Dallas', 'Sydney', 'Beijing', 'Singapore', 'Chicago', 'Paris', 'Johannesburg']\n"
     ]
    }
   ],
   "source": [
    "#Adds an element at the specified position\n",
    "cities = ['New York','London','Mumbai','Berlin','Sydney','Beijing','Singapore','Chicago','Paris','Johannesburg']\n",
    "cities.insert(4,'Dallas')\n",
    "print(cities)"
   ]
  },
  {
   "cell_type": "markdown",
   "metadata": {},
   "source": [
    "* *pop( )*"
   ]
  },
  {
   "cell_type": "code",
   "execution_count": 51,
   "metadata": {},
   "outputs": [
    {
     "name": "stdout",
     "output_type": "stream",
     "text": [
      "['New York', 'London', 'Mumbai', 'Berlin', 'Beijing', 'Singapore', 'Chicago', 'Paris', 'Johannesburg']\n"
     ]
    }
   ],
   "source": [
    "#Removes the element at the specified position\n",
    "cities = ['New York','London','Mumbai','Berlin','Sydney','Beijing','Singapore','Chicago','Paris','Johannesburg']\n",
    "cities.pop(4)\n",
    "print(cities)"
   ]
  },
  {
   "cell_type": "markdown",
   "metadata": {},
   "source": [
    "* *remove( )*"
   ]
  },
  {
   "cell_type": "code",
   "execution_count": 52,
   "metadata": {},
   "outputs": [
    {
     "name": "stdout",
     "output_type": "stream",
     "text": [
      "['New York', 'London', 'Mumbai', 'Berlin', 'Beijing', 'Singapore', 'Chicago', 'Paris', 'Johannesburg']\n"
     ]
    }
   ],
   "source": [
    "#Removes the first item with the specified value\n",
    "cities = ['New York','London','Mumbai','Berlin','Sydney','Beijing','Singapore','Chicago','Paris','Johannesburg']\n",
    "cities.remove('Sydney')\n",
    "print(cities)"
   ]
  },
  {
   "cell_type": "markdown",
   "metadata": {},
   "source": [
    "* *reverse( )*"
   ]
  },
  {
   "cell_type": "code",
   "execution_count": 55,
   "metadata": {},
   "outputs": [
    {
     "name": "stdout",
     "output_type": "stream",
     "text": [
      "['Johannesburg', 'Paris', 'Chicago', 'Singapore', 'Beijing', 'Sydney', 'Berlin', 'Mumbai', 'London', 'New York']\n"
     ]
    }
   ],
   "source": [
    "#Reverses the order of the list\n",
    "cities = ['New York','London','Mumbai','Berlin','Sydney','Beijing','Singapore','Chicago','Paris','Johannesburg']\n",
    "cities.reverse()\n",
    "print(cities)"
   ]
  },
  {
   "cell_type": "markdown",
   "metadata": {},
   "source": [
    "* *sort( )*"
   ]
  },
  {
   "cell_type": "code",
   "execution_count": 56,
   "metadata": {},
   "outputs": [
    {
     "name": "stdout",
     "output_type": "stream",
     "text": [
      "['Beijing', 'Berlin', 'Chicago', 'Johannesburg', 'London', 'Mumbai', 'New York', 'Paris', 'Singapore', 'Sydney']\n"
     ]
    }
   ],
   "source": [
    "#Sorts the list\n",
    "cities = ['New York','London','Mumbai','Berlin','Sydney','Beijing','Singapore','Chicago','Paris','Johannesburg']\n",
    "cities.sort()\n",
    "print(cities)"
   ]
  }
 ],
 "metadata": {
  "interpreter": {
   "hash": "68876b6383b62dc997f1e2adc12eb301a61958dc7fa62c10c14261960fd63dae"
  },
  "kernelspec": {
   "display_name": "Python 3.7.9 ('jupyterenv': venv)",
   "language": "python",
   "name": "python3"
  },
  "language_info": {
   "codemirror_mode": {
    "name": "ipython",
    "version": 3
   },
   "file_extension": ".py",
   "mimetype": "text/x-python",
   "name": "python",
   "nbconvert_exporter": "python",
   "pygments_lexer": "ipython3",
   "version": "3.7.9"
  },
  "orig_nbformat": 4
 },
 "nbformat": 4,
 "nbformat_minor": 2
}
