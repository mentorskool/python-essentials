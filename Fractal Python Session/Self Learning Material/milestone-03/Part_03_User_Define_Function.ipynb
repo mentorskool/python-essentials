{
 "cells": [
  {
   "cell_type": "markdown",
   "metadata": {},
   "source": [
    "#### Writing a user-defined function"
   ]
  },
  {
   "cell_type": "code",
   "execution_count": 1,
   "metadata": {},
   "outputs": [],
   "source": [
    "def my_mean(a,b):\n",
    "    m = (a+b)/2\n",
    "    return m"
   ]
  },
  {
   "cell_type": "code",
   "execution_count": 2,
   "metadata": {},
   "outputs": [],
   "source": [
    "z = my_mean(2,3)"
   ]
  },
  {
   "cell_type": "code",
   "execution_count": 3,
   "metadata": {},
   "outputs": [
    {
     "data": {
      "text/plain": [
       "2.5"
      ]
     },
     "execution_count": 3,
     "metadata": {},
     "output_type": "execute_result"
    }
   ],
   "source": [
    "z"
   ]
  },
  {
   "cell_type": "code",
   "execution_count": 4,
   "metadata": {},
   "outputs": [],
   "source": [
    "# creating a user-defined function to aggregate by\n",
    "def max_to_min(arr):\n",
    "    '''\n",
    "    Function to calculate range based on max and min\n",
    "    inputs: numeric array\n",
    "    '''\n",
    "    z = arr.max() - arr.min()\n",
    "    return z"
   ]
  },
  {
   "cell_type": "code",
   "execution_count": 5,
   "metadata": {},
   "outputs": [
    {
     "data": {
      "text/plain": [
       "'\\n    Function to calculate range based on max and min\\n    inputs: numeric array\\n    '"
      ]
     },
     "execution_count": 5,
     "metadata": {},
     "output_type": "execute_result"
    }
   ],
   "source": [
    "#A Python docstring is a string used to document a Python module, class, function or method, \n",
    "# so programmers can understand what it does without having to read the details of the implementation. \n",
    "# Also, it is a common practice to generate online (html) documentation automatically from docstrings.\n",
    "max_to_min.__doc__"
   ]
  },
  {
   "cell_type": "code",
   "execution_count": 1,
   "metadata": {},
   "outputs": [],
   "source": [
    "def my_mean(a,b=12):\n",
    "    m = (a+b)/2\n",
    "    print(\"a: \", a)\n",
    "    print(\"b: \", b)\n",
    "    return m"
   ]
  },
  {
   "cell_type": "code",
   "execution_count": 2,
   "metadata": {},
   "outputs": [
    {
     "name": "stdout",
     "output_type": "stream",
     "text": [
      "a:  10\n",
      "b:  12\n"
     ]
    }
   ],
   "source": [
    "z = my_mean(10)"
   ]
  },
  {
   "cell_type": "code",
   "execution_count": 3,
   "metadata": {},
   "outputs": [
    {
     "data": {
      "text/plain": [
       "11.0"
      ]
     },
     "execution_count": 3,
     "metadata": {},
     "output_type": "execute_result"
    }
   ],
   "source": [
    "z"
   ]
  },
  {
   "cell_type": "code",
   "execution_count": 4,
   "metadata": {},
   "outputs": [],
   "source": [
    "def student(firstname, lastname): \n",
    "     print(firstname, lastname) "
   ]
  },
  {
   "cell_type": "code",
   "execution_count": 5,
   "metadata": {},
   "outputs": [
    {
     "name": "stdout",
     "output_type": "stream",
     "text": [
      "your_first_name your_last_name\n"
     ]
    }
   ],
   "source": [
    "#try with your name\n",
    "student(firstname= 'your_first_name', lastname= 'your_last_name')"
   ]
  },
  {
   "cell_type": "markdown",
   "metadata": {},
   "source": [
    "### Variable length arguments\n",
    "* *We can have both normal and keyword variable number of arguments.* \n",
    "\n",
    "    * The special syntax ***args** in function definitions in Python is used to pass a variable number of arguments to a function. It is used to pass a non-keyworded, variable-length argument list.\n",
    "    \n",
    "    * The special syntax ****kwargs** in function definitions in python is used to pass a keyworded, variable-length argument list. We use the name kwargs with the double star. The reason is because the double star allows us to pass through keyword arguments (and any number of them)."
   ]
  },
  {
   "cell_type": "code",
   "execution_count": 6,
   "metadata": {},
   "outputs": [
    {
     "name": "stdout",
     "output_type": "stream",
     "text": [
      "Result of * args: \n",
      "Hello\n",
      "Welcome\n",
      "to\n",
      "Mentorskool\n",
      "\n",
      "Result of **kwargs\n",
      "first == Mentor\n",
      "last == skool\n"
     ]
    }
   ],
   "source": [
    "def myFun1(*argv): \n",
    "    for arg in argv: \n",
    "        print (arg)\n",
    " \n",
    "def myFun2(**kwargs): \n",
    "    for key, value in kwargs.items():\n",
    "        print (\"% s == % s\" %(key, value))\n",
    "   \n",
    "# Driver code\n",
    "print(\"Result of * args: \")\n",
    "myFun1('Hello', 'Welcome', 'to', 'Mentorskool')\n",
    " \n",
    "print(\"\\nResult of **kwargs\")\n",
    "myFun2(first ='Mentor', last ='skool') "
   ]
  },
  {
   "cell_type": "markdown",
   "metadata": {},
   "source": [
    "### Pass by Reference or pass by value?\n",
    "One important thing to note is, in Python every variable name is a reference. When we pass a variable to a function, a new reference to the object is created. Parameter passing in Python is same as reference passing in Java. To confirm this Python’s built-in id() function is used in below example."
   ]
  },
  {
   "cell_type": "code",
   "execution_count": 7,
   "metadata": {},
   "outputs": [
    {
     "name": "stdout",
     "output_type": "stream",
     "text": [
      "Value passed: 12 id: 1403710128\n",
      "Value received: 12 id: 1403710128\n"
     ]
    }
   ],
   "source": [
    "def myFun(x):\n",
    "    print(\"Value received:\", x, \"id:\", id(x))\n",
    " \n",
    "# Driver's code\n",
    "x = 12\n",
    "print(\"Value passed:\", x, \"id:\", id(x))\n",
    "myFun(x)"
   ]
  },
  {
   "cell_type": "markdown",
   "metadata": {},
   "source": [
    "### A lambda function is a small anonymous function.\n",
    "\n",
    "A lambda function can take any number of arguments, but can only have one expression.\n",
    "\n",
    "* *Syntax*\n",
    "lambda arguments : expression"
   ]
  },
  {
   "cell_type": "code",
   "execution_count": 8,
   "metadata": {},
   "outputs": [
    {
     "name": "stdout",
     "output_type": "stream",
     "text": [
      "28\n"
     ]
    }
   ],
   "source": [
    "x = lambda a : a + 23\n",
    "print(x(5))"
   ]
  },
  {
   "cell_type": "code",
   "execution_count": 9,
   "metadata": {},
   "outputs": [
    {
     "name": "stdout",
     "output_type": "stream",
     "text": [
      "42\n"
     ]
    }
   ],
   "source": [
    "x = lambda a, b : a * b\n",
    "print(x(7, 6))"
   ]
  },
  {
   "cell_type": "markdown",
   "metadata": {},
   "source": [
    "### Why Use Lambda Functions?\n",
    "The power of lambda is better shown when you use them as an anonymous function inside another function."
   ]
  },
  {
   "cell_type": "code",
   "execution_count": 10,
   "metadata": {},
   "outputs": [],
   "source": [
    "def myfunc(n):\n",
    "  return lambda a : a * n"
   ]
  },
  {
   "cell_type": "code",
   "execution_count": 12,
   "metadata": {},
   "outputs": [
    {
     "name": "stdout",
     "output_type": "stream",
     "text": [
      "168\n"
     ]
    }
   ],
   "source": [
    "x=myfunc(24)\n",
    "y=x(7)\n",
    "print(y)"
   ]
  }
 ],
 "metadata": {
  "interpreter": {
   "hash": "68876b6383b62dc997f1e2adc12eb301a61958dc7fa62c10c14261960fd63dae"
  },
  "kernelspec": {
   "display_name": "Python 3.7.9 ('jupyterenv': venv)",
   "language": "python",
   "name": "python3"
  },
  "language_info": {
   "codemirror_mode": {
    "name": "ipython",
    "version": 3
   },
   "file_extension": ".py",
   "mimetype": "text/x-python",
   "name": "python",
   "nbconvert_exporter": "python",
   "pygments_lexer": "ipython3",
   "version": "3.7.9"
  },
  "orig_nbformat": 4
 },
 "nbformat": 4,
 "nbformat_minor": 2
}
