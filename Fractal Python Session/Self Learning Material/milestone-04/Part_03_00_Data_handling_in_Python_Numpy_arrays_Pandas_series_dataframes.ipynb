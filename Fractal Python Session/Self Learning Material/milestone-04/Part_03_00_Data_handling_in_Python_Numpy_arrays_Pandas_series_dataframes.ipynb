{
  "cells": [
    {
      "cell_type": "markdown",
      "metadata": {},
      "source": [
        "# Part 3\n",
        "\n",
        "\n",
        "## NumPy"
      ]
    },
    {
      "cell_type": "code",
      "execution_count": 6,
      "metadata": {
        "trusted": true
      },
      "outputs": [],
      "source": [
        "import numpy as np # import numpy and give it the short form ('nickname') np"
      ]
    },
    {
      "cell_type": "markdown",
      "metadata": {},
      "source": [
        "<b>From Wikipedia:\n",
        "    \n",
        "NumPy (pronounced /ˈnʌmpaɪ/ (NUM-py) or sometimes /ˈnʌmpi/ (NUM-pee)) is a library for the Python programming language, adding support for large, multi-dimensional arrays and matrices, along with a large collection of high-level mathematical functions to operate on these arrays. The ancestor of NumPy, Numeric, was originally created by Jim Hugunin with contributions from several other developers. In 2005, Travis Oliphant created NumPy by incorporating features of the competing Numarray into Numeric, with extensive modifications. NumPy is open-source software and has many contributors.</b>\n",
        "\n",
        "<a href = \"https://en.wikipedia.org/wiki/NumPy\">Full article here</a>"
      ]
    },
    {
      "cell_type": "markdown",
      "metadata": {},
      "source": [
        "Some important **Numpy** features:\n",
        "<ul>\n",
        "<li>ndarray: fast and space-efficient multidimensional array with vectorized arithmetic and sophisticated broadcasting</li>\n",
        "<li>Standard vectorized math</li>\n",
        "<li>Reading / writing arrays to disk</li>\n",
        "<li>Memory-mapped file access</li>\n",
        "<li>Linear algebra, rng, fourier transform</li>\n",
        "<li>Integration of C, C++, FORTRAN</li>\n",
        "</ul>"
      ]
    },
    {
      "cell_type": "markdown",
      "metadata": {},
      "source": [
        "**Creating NumPy arrays**\n",
        "\n",
        "The function *array()* is commonly used to create numpy ndarrays on the fly from other Python sequence-like objects such as tuples and lists."
      ]
    },
    {
      "cell_type": "code",
      "execution_count": null,
      "metadata": {
        "trusted": true
      },
      "outputs": [],
      "source": [
        "np.array(range(3))"
      ]
    },
    {
      "cell_type": "code",
      "execution_count": null,
      "metadata": {
        "trusted": true
      },
      "outputs": [],
      "source": [
        "np.array((1, 2, 3)) # from a tuple"
      ]
    },
    {
      "cell_type": "code",
      "execution_count": null,
      "metadata": {
        "trusted": true
      },
      "outputs": [],
      "source": [
        "np.array([1, 2, 3]) # from a list"
      ]
    },
    {
      "cell_type": "code",
      "execution_count": null,
      "metadata": {
        "trusted": true
      },
      "outputs": [],
      "source": [
        "type(np.array(range(3)))"
      ]
    },
    {
      "cell_type": "markdown",
      "metadata": {},
      "source": [
        "Nested lists result in mutlidimensional arrays:"
      ]
    },
    {
      "cell_type": "code",
      "execution_count": 1,
      "metadata": {
        "trusted": true
      },
      "outputs": [
        {
          "data": {
            "text/plain": [
              "[[8.536348291941575, 7.891253521865471, 7.102633827261235],\n",
              " [3.535019178626484, 5.375644307938026, 3.7624950708902203],\n",
              " [5.202315910294648, 5.316586496061198, 4.295567253931664],\n",
              " [2.9787051451413915, 3.1780647001719107, 2.609184108942338]]"
            ]
          },
          "execution_count": 1,
          "metadata": {},
          "output_type": "execute_result"
        }
      ],
      "source": [
        "import random\n",
        "nestedList = [[random.uniform(0, 9) for x in range(3)] for y in range(4)]\n",
        "nestedList"
      ]
    },
    {
      "cell_type": "code",
      "execution_count": 4,
      "metadata": {
        "trusted": true
      },
      "outputs": [
        {
          "data": {
            "text/plain": [
              "list"
            ]
          },
          "execution_count": 4,
          "metadata": {},
          "output_type": "execute_result"
        }
      ],
      "source": [
        "type(nestedList)"
      ]
    },
    {
      "cell_type": "code",
      "execution_count": 7,
      "metadata": {
        "trusted": true
      },
      "outputs": [
        {
          "data": {
            "text/plain": [
              "array([[8.53634829, 7.89125352, 7.10263383],\n",
              "       [3.53501918, 5.37564431, 3.76249507],\n",
              "       [5.20231591, 5.3165865 , 4.29556725],\n",
              "       [2.97870515, 3.1780647 , 2.60918411]])"
            ]
          },
          "execution_count": 7,
          "metadata": {},
          "output_type": "execute_result"
        }
      ],
      "source": [
        "myArray = np.array(nestedList)\n",
        "myArray"
      ]
    },
    {
      "cell_type": "markdown",
      "metadata": {},
      "source": [
        "**Important attributes of arrays**"
      ]
    },
    {
      "cell_type": "code",
      "execution_count": 8,
      "metadata": {
        "trusted": true
      },
      "outputs": [
        {
          "name": "stdout",
          "output_type": "stream",
          "text": [
            "2\n",
            "(4, 3)\n",
            "float64\n"
          ]
        }
      ],
      "source": [
        "print(myArray.ndim)  # Number of dimensions\n",
        "print(myArray.shape) # Shape of the ndarray\n",
        "print(myArray.dtype) # Data type contained in the array"
      ]
    },
    {
      "cell_type": "markdown",
      "metadata": {},
      "source": [
        "#### Other functions to create arrays"
      ]
    },
    {
      "cell_type": "markdown",
      "metadata": {},
      "source": [
        "**arange** - this is equivalent to the range function, except returns a one-dimensional array instead of a range object: "
      ]
    },
    {
      "cell_type": "code",
      "execution_count": null,
      "metadata": {
        "trusted": true
      },
      "outputs": [],
      "source": [
        "np.arange(10)"
      ]
    },
    {
      "cell_type": "markdown",
      "metadata": {},
      "source": [
        "**ones**, **zeros**, **ones_like**, **zeros_like** - to create arrays filled with ones or zeroes with a given shape or with a shape similar to a given object:"
      ]
    },
    {
      "cell_type": "code",
      "execution_count": null,
      "metadata": {
        "trusted": true
      },
      "outputs": [],
      "source": [
        "np.ones(3)"
      ]
    },
    {
      "cell_type": "code",
      "execution_count": null,
      "metadata": {
        "trusted": true
      },
      "outputs": [],
      "source": [
        "np.ones((3,4))"
      ]
    },
    {
      "cell_type": "code",
      "execution_count": null,
      "metadata": {
        "trusted": true
      },
      "outputs": [],
      "source": [
        "np.zeros(4)"
      ]
    },
    {
      "cell_type": "code",
      "execution_count": null,
      "metadata": {
        "trusted": true
      },
      "outputs": [],
      "source": [
        "np.zeros((4,3))"
      ]
    },
    {
      "cell_type": "markdown",
      "metadata": {},
      "source": [
        "We can explicitly specify the data type with which an array should be created:"
      ]
    },
    {
      "cell_type": "code",
      "execution_count": null,
      "metadata": {
        "trusted": true
      },
      "outputs": [],
      "source": [
        "newArray = np.array(nestedList, dtype = np.int)\n",
        "newArray"
      ]
    },
    {
      "cell_type": "code",
      "execution_count": null,
      "metadata": {
        "trusted": true
      },
      "outputs": [],
      "source": [
        "newArray = np.array(nestedList, dtype = np.float)\n",
        "newArray"
      ]
    },
    {
      "cell_type": "code",
      "execution_count": null,
      "metadata": {
        "trusted": true
      },
      "outputs": [],
      "source": [
        "newArray = np.array(nestedList, dtype = np.bool) # numbers = 0 are False\n",
        "newArray"
      ]
    },
    {
      "cell_type": "code",
      "execution_count": null,
      "metadata": {
        "trusted": true
      },
      "outputs": [],
      "source": [
        "newArray = np.array(nestedList, dtype = np.unicode) # Unicode strings\n",
        "newArray"
      ]
    },
    {
      "cell_type": "code",
      "execution_count": null,
      "metadata": {
        "trusted": true
      },
      "outputs": [],
      "source": [
        "newArray = np.array(nestedList, dtype = np.object) # arbitrary objects\n",
        "newArray"
      ]
    },
    {
      "cell_type": "markdown",
      "metadata": {},
      "source": [
        "## Vectorized math\n",
        "\n",
        "One of the most powerful and useful features of numpy, especially for data science, is the ability to vectorize mathmatical operations - that is to apply operations to each element of a vector or array simultaneously without needing to use a *for* loop"
      ]
    },
    {
      "cell_type": "code",
      "execution_count": 9,
      "metadata": {
        "trusted": true
      },
      "outputs": [
        {
          "data": {
            "text/plain": [
              "array([[8.53634829, 7.89125352, 7.10263383],\n",
              "       [3.53501918, 5.37564431, 3.76249507],\n",
              "       [5.20231591, 5.3165865 , 4.29556725],\n",
              "       [2.97870515, 3.1780647 , 2.60918411]])"
            ]
          },
          "execution_count": 9,
          "metadata": {},
          "output_type": "execute_result"
        }
      ],
      "source": [
        "myArray"
      ]
    },
    {
      "cell_type": "code",
      "execution_count": 10,
      "metadata": {
        "trusted": true
      },
      "outputs": [
        {
          "name": "stdout",
          "output_type": "stream",
          "text": [
            "CPU times: user 199 µs, sys: 94 µs, total: 293 µs\n",
            "Wall time: 313 µs\n"
          ]
        },
        {
          "data": {
            "text/plain": [
              "array([[11.53634829, 10.89125352, 10.10263383],\n",
              "       [ 6.53501918,  8.37564431,  6.76249507],\n",
              "       [ 8.20231591,  8.3165865 ,  7.29556725],\n",
              "       [ 5.97870515,  6.1780647 ,  5.60918411]])"
            ]
          },
          "execution_count": 10,
          "metadata": {},
          "output_type": "execute_result"
        }
      ],
      "source": [
        "%%time\n",
        "myArray + 3"
      ]
    },
    {
      "cell_type": "code",
      "execution_count": 11,
      "metadata": {
        "trusted": true
      },
      "outputs": [
        {
          "data": {
            "text/plain": [
              "array([[2.53433959, 0.34878003, 1.22546269],\n",
              "       [2.85883185, 0.85258116, 1.80331168],\n",
              "       [0.05563128, 2.0013303 , 1.38297307],\n",
              "       [2.74105944, 0.62555095, 0.72315589]])"
            ]
          },
          "execution_count": 11,
          "metadata": {},
          "output_type": "execute_result"
        }
      ],
      "source": [
        "myArray2 = np.array([[random.uniform(0, 3) for x in range(3)] for y in range(4)]) \n",
        "# creating a nested list and then a 2D array in one step\n",
        "myArray2"
      ]
    },
    {
      "cell_type": "code",
      "execution_count": 12,
      "metadata": {
        "trusted": true
      },
      "outputs": [
        {
          "data": {
            "text/plain": [
              "array([[11.07068788,  8.24003355,  8.32809652],\n",
              "       [ 6.39385103,  6.22822547,  5.56580675],\n",
              "       [ 5.25794719,  7.3179168 ,  5.67854032],\n",
              "       [ 5.71976459,  3.80361565,  3.33234   ]])"
            ]
          },
          "execution_count": 12,
          "metadata": {},
          "output_type": "execute_result"
        }
      ],
      "source": [
        "myArray + myArray2"
      ]
    },
    {
      "cell_type": "code",
      "execution_count": 13,
      "metadata": {
        "trusted": true
      },
      "outputs": [
        {
          "data": {
            "text/plain": [
              "array([[8, 7, 7],\n",
              "       [3, 5, 3],\n",
              "       [5, 5, 4],\n",
              "       [2, 3, 2]])"
            ]
          },
          "execution_count": 13,
          "metadata": {},
          "output_type": "execute_result"
        }
      ],
      "source": [
        "newArray = myArray.astype(np.int)\n",
        "newArray"
      ]
    },
    {
      "cell_type": "code",
      "execution_count": 14,
      "metadata": {
        "trusted": true
      },
      "outputs": [
        {
          "data": {
            "text/plain": [
              "array([[24, 21, 21],\n",
              "       [ 9, 15,  9],\n",
              "       [15, 15, 12],\n",
              "       [ 6,  9,  6]])"
            ]
          },
          "execution_count": 14,
          "metadata": {},
          "output_type": "execute_result"
        }
      ],
      "source": [
        "newArray * 3"
      ]
    },
    {
      "cell_type": "code",
      "execution_count": 15,
      "metadata": {
        "trusted": true
      },
      "outputs": [
        {
          "data": {
            "text/plain": [
              "array([[ 8, 14, 21],\n",
              "       [ 3, 10,  9],\n",
              "       [ 5, 10, 12],\n",
              "       [ 2,  6,  6]])"
            ]
          },
          "execution_count": 15,
          "metadata": {},
          "output_type": "execute_result"
        }
      ],
      "source": [
        "newArray * [1,2,3] \n",
        "# Elementwise multiplication on rows\n",
        "# That is, in each row, the first column is multiplied by 1, the second by 2 and the third by 3"
      ]
    },
    {
      "cell_type": "code",
      "execution_count": 19,
      "metadata": {
        "trusted": true
      },
      "outputs": [
        {
          "data": {
            "text/plain": [
              "(4, 1)"
            ]
          },
          "execution_count": 19,
          "metadata": {},
          "output_type": "execute_result"
        }
      ],
      "source": [
        "x = np.array([[1], [2], [3], [4]])\n",
        "x.shape"
      ]
    },
    {
      "cell_type": "code",
      "execution_count": 20,
      "metadata": {
        "trusted": true
      },
      "outputs": [
        {
          "data": {
            "text/plain": [
              "array([[ 8,  7,  7],\n",
              "       [ 6, 10,  6],\n",
              "       [15, 15, 12],\n",
              "       [ 8, 12,  8]])"
            ]
          },
          "execution_count": 20,
          "metadata": {},
          "output_type": "execute_result"
        }
      ],
      "source": [
        "newArray * [[1], [2], [3], [4]] # Elementwise multiplication on rows"
      ]
    },
    {
      "cell_type": "markdown",
      "metadata": {},
      "source": [
        "These types of numpy operations make it very easy and efficient to work with matrices and perform matrix algebra"
      ]
    },
    {
      "cell_type": "code",
      "execution_count": null,
      "metadata": {
        "trusted": true
      },
      "outputs": [],
      "source": [
        "np.sqrt(newArray)"
      ]
    },
    {
      "cell_type": "code",
      "execution_count": 26,
      "metadata": {
        "trusted": true
      },
      "outputs": [
        {
          "data": {
            "text/plain": [
              "array([[2.19722458, 2.07944154, 2.07944154],\n",
              "       [1.38629436, 1.79175947, 1.38629436],\n",
              "       [1.79175947, 1.79175947, 1.60943791],\n",
              "       [1.09861229, 1.38629436, 1.09861229]])"
            ]
          },
          "execution_count": 26,
          "metadata": {},
          "output_type": "execute_result"
        }
      ],
      "source": [
        "np.log(newArray + 1) # to avoid a log(0) error"
      ]
    },
    {
      "cell_type": "markdown",
      "metadata": {},
      "source": [
        "These vectorized functions return an array of the appropriate shape - the same shape as the input array in the examples above.\n",
        "\n",
        "There are also operations that are applied to an array which return a scalar value, usually the result of some type of aggregation"
      ]
    },
    {
      "cell_type": "code",
      "execution_count": 23,
      "metadata": {
        "trusted": true
      },
      "outputs": [
        {
          "data": {
            "text/plain": [
              "array([18, 20, 16])"
            ]
          },
          "execution_count": 23,
          "metadata": {},
          "output_type": "execute_result"
        }
      ],
      "source": [
        "np.sum(newArray,axis = 0)"
      ]
    },
    {
      "cell_type": "code",
      "execution_count": 24,
      "metadata": {
        "trusted": true
      },
      "outputs": [
        {
          "data": {
            "text/plain": [
              "8"
            ]
          },
          "execution_count": 24,
          "metadata": {},
          "output_type": "execute_result"
        }
      ],
      "source": [
        "np.max(newArray)"
      ]
    },
    {
      "cell_type": "code",
      "execution_count": 25,
      "metadata": {
        "trusted": true
      },
      "outputs": [
        {
          "data": {
            "text/plain": [
              "4.5"
            ]
          },
          "execution_count": 25,
          "metadata": {},
          "output_type": "execute_result"
        }
      ],
      "source": [
        "np.mean(newArray)"
      ]
    },
    {
      "cell_type": "markdown",
      "metadata": {},
      "source": [
        "#### What we have looked at here is just a small fraction of the operations and functionality available with numpy arrays - we have only looked at some of the features that are most relevant for us."
      ]
    },
    {
      "cell_type": "markdown",
      "metadata": {},
      "source": [
        "## Pandas"
      ]
    },
    {
      "cell_type": "code",
      "execution_count": null,
      "metadata": {
        "trusted": true
      },
      "outputs": [],
      "source": [
        "import pandas as pd"
      ]
    },
    {
      "cell_type": "markdown",
      "metadata": {},
      "source": [
        "<b>From Wikipedia:\n",
        "\n",
        "Pandas is a software library written for the Python programming language for data manipulation and analysis. In particular, it offers data structures and operations for manipulating numerical tables and time series. It is free software released under the three-clause BSD license. The name is derived from the term \"panel data\", an econometrics term for data sets that include observations over multiple time periods for the same individuals.</b>\n",
        "\n",
        "<a href = \"https://en.wikipedia.org/wiki/Pandas_(software)\">Full article here</a>"
      ]
    },
    {
      "cell_type": "markdown",
      "metadata": {},
      "source": [
        "**Pandas** is built on top of *NumPy* and has the following features:\n",
        "<ul>\n",
        "<li>Data structures with labeled axes</li>\n",
        "<li>Arithmetic Operations and reductions</li>\n",
        "<li>Integrated time series functionality</li>\n",
        "<li>Handling of Missing data</li>\n",
        "<li>Merge, sorting, filtering and other functionlities</li>\n",
        "</ul>\n",
        "\n",
        "*Pandas* has two main data structures - *Series* and *DataFrame*"
      ]
    },
    {
      "cell_type": "markdown",
      "metadata": {},
      "source": [
        "## Series"
      ]
    },
    {
      "cell_type": "code",
      "execution_count": 27,
      "metadata": {
        "trusted": true
      },
      "outputs": [],
      "source": [
        "from pandas import Series, DataFrame # this is actually optional; see below"
      ]
    },
    {
      "cell_type": "code",
      "execution_count": 28,
      "metadata": {
        "trusted": true
      },
      "outputs": [
        {
          "data": {
            "text/plain": [
              "[1, 2, 3, 4]"
            ]
          },
          "execution_count": 28,
          "metadata": {},
          "output_type": "execute_result"
        }
      ],
      "source": [
        "a = [1,2,3,4]\n",
        "a"
      ]
    },
    {
      "cell_type": "code",
      "execution_count": 29,
      "metadata": {
        "trusted": true
      },
      "outputs": [
        {
          "data": {
            "text/plain": [
              "[2, 3, 4]"
            ]
          },
          "execution_count": 29,
          "metadata": {},
          "output_type": "execute_result"
        }
      ],
      "source": [
        "a[1:]"
      ]
    },
    {
      "cell_type": "code",
      "execution_count": 30,
      "metadata": {
        "trusted": true
      },
      "outputs": [],
      "source": [
        "obj = Series([3,6,9,12])\n",
        "\n",
        "# I can use the method Series because I imported it explicitly from pandas in the previous step\n",
        "# If I do not import Series explicitly, I need to use the syntax pandas.Series or pd.Series"
      ]
    },
    {
      "cell_type": "code",
      "execution_count": 31,
      "metadata": {
        "trusted": true
      },
      "outputs": [
        {
          "data": {
            "text/plain": [
              "0     3\n",
              "1     6\n",
              "2     9\n",
              "3    12\n",
              "dtype: int64"
            ]
          },
          "execution_count": 31,
          "metadata": {},
          "output_type": "execute_result"
        }
      ],
      "source": [
        "obj"
      ]
    },
    {
      "cell_type": "code",
      "execution_count": 32,
      "metadata": {
        "trusted": true
      },
      "outputs": [
        {
          "data": {
            "text/plain": [
              "pandas.core.series.Series"
            ]
          },
          "execution_count": 32,
          "metadata": {},
          "output_type": "execute_result"
        }
      ],
      "source": [
        "type(obj)"
      ]
    },
    {
      "cell_type": "code",
      "execution_count": 33,
      "metadata": {
        "trusted": true
      },
      "outputs": [
        {
          "data": {
            "text/plain": [
              "array([ 3,  6,  9, 12])"
            ]
          },
          "execution_count": 33,
          "metadata": {},
          "output_type": "execute_result"
        }
      ],
      "source": [
        "obj.values # just the values"
      ]
    },
    {
      "cell_type": "code",
      "execution_count": 34,
      "metadata": {
        "trusted": true
      },
      "outputs": [
        {
          "data": {
            "text/plain": [
              "RangeIndex(start=0, stop=4, step=1)"
            ]
          },
          "execution_count": 34,
          "metadata": {},
          "output_type": "execute_result"
        }
      ],
      "source": [
        "obj.index # just the indices"
      ]
    },
    {
      "cell_type": "code",
      "execution_count": 35,
      "metadata": {
        "trusted": true
      },
      "outputs": [
        {
          "data": {
            "text/plain": [
              "USSR       8700000.0\n",
              "Germany    4300000.0\n",
              "China      3000000.0\n",
              "Japan      2100000.0\n",
              "USA         400000.0\n",
              "dtype: float64"
            ]
          },
          "execution_count": 35,
          "metadata": {},
          "output_type": "execute_result"
        }
      ],
      "source": [
        "# casualty counts in WW2\n",
        "ww2_cas = Series([8.7e6,4.3e6,3.0e6,2.1e6,4e5],index=['USSR','Germany','China','Japan','USA'])\n",
        "ww2_cas"
      ]
    },
    {
      "cell_type": "code",
      "execution_count": 36,
      "metadata": {
        "trusted": true
      },
      "outputs": [
        {
          "data": {
            "text/plain": [
              "array([8700000., 4300000., 3000000., 2100000.,  400000.])"
            ]
          },
          "execution_count": 36,
          "metadata": {},
          "output_type": "execute_result"
        }
      ],
      "source": [
        "ww2_cas.values"
      ]
    },
    {
      "cell_type": "code",
      "execution_count": 37,
      "metadata": {
        "trusted": true
      },
      "outputs": [
        {
          "data": {
            "text/plain": [
              "Index(['USSR', 'Germany', 'China', 'Japan', 'USA'], dtype='object')"
            ]
          },
          "execution_count": 37,
          "metadata": {},
          "output_type": "execute_result"
        }
      ],
      "source": [
        "ww2_cas.index"
      ]
    },
    {
      "cell_type": "code",
      "execution_count": 38,
      "metadata": {
        "trusted": true
      },
      "outputs": [
        {
          "data": {
            "text/plain": [
              "400000.0"
            ]
          },
          "execution_count": 38,
          "metadata": {},
          "output_type": "execute_result"
        }
      ],
      "source": [
        "ww2_cas['USA']"
      ]
    },
    {
      "cell_type": "code",
      "execution_count": 39,
      "metadata": {
        "trusted": true
      },
      "outputs": [
        {
          "data": {
            "text/plain": [
              "USSR       8700000.0\n",
              "Germany    4300000.0\n",
              "dtype: float64"
            ]
          },
          "execution_count": 39,
          "metadata": {},
          "output_type": "execute_result"
        }
      ],
      "source": [
        "ww2_cas[ww2_cas > 4e6]"
      ]
    },
    {
      "cell_type": "code",
      "execution_count": 40,
      "metadata": {
        "trusted": true
      },
      "outputs": [
        {
          "data": {
            "text/plain": [
              "2"
            ]
          },
          "execution_count": 40,
          "metadata": {},
          "output_type": "execute_result"
        }
      ],
      "source": [
        "sum(ww2_cas > 4e6)"
      ]
    },
    {
      "cell_type": "code",
      "execution_count": 41,
      "metadata": {
        "trusted": true
      },
      "outputs": [
        {
          "data": {
            "text/plain": [
              "USSR       8700000.0\n",
              "Germany    4300000.0\n",
              "dtype: float64"
            ]
          },
          "execution_count": 41,
          "metadata": {},
          "output_type": "execute_result"
        }
      ],
      "source": [
        "ww2_cas[ww2_cas > 4e6] # check which countries had casualties > 4 million"
      ]
    },
    {
      "cell_type": "code",
      "execution_count": 42,
      "metadata": {
        "trusted": true
      },
      "outputs": [
        {
          "data": {
            "text/plain": [
              "True"
            ]
          },
          "execution_count": 42,
          "metadata": {},
          "output_type": "execute_result"
        }
      ],
      "source": [
        "'USSR' in ww2_cas"
      ]
    },
    {
      "cell_type": "code",
      "execution_count": null,
      "metadata": {
        "trusted": true
      },
      "outputs": [],
      "source": [
        "'France' in ww2_cas"
      ]
    },
    {
      "cell_type": "code",
      "execution_count": null,
      "metadata": {
        "trusted": true
      },
      "outputs": [],
      "source": [
        "ww2_dict = ww2_cas.to_dict() # convert series into a dictionary\n",
        "ww2_dict"
      ]
    },
    {
      "cell_type": "code",
      "execution_count": null,
      "metadata": {
        "trusted": true
      },
      "outputs": [],
      "source": [
        "ww2_series = Series(ww2_dict) # convert dictionary into a series\n",
        "ww2_series"
      ]
    },
    {
      "cell_type": "code",
      "execution_count": null,
      "metadata": {
        "trusted": true
      },
      "outputs": [],
      "source": [
        "countries = ['China','Germany','Japan','USA','USSR','Argentina'] # a list"
      ]
    },
    {
      "cell_type": "code",
      "execution_count": null,
      "metadata": {
        "trusted": true
      },
      "outputs": [],
      "source": [
        "ww2_dict"
      ]
    },
    {
      "cell_type": "code",
      "execution_count": null,
      "metadata": {
        "trusted": true
      },
      "outputs": [],
      "source": [
        "obj2 = Series(ww2_dict,index = countries) # passing indices from a list\n",
        "obj2"
      ]
    },
    {
      "cell_type": "code",
      "execution_count": null,
      "metadata": {
        "trusted": true
      },
      "outputs": [],
      "source": [
        "import pandas as pd\n",
        "pd.isnull(obj2) # check for null values"
      ]
    },
    {
      "cell_type": "code",
      "execution_count": null,
      "metadata": {
        "trusted": true
      },
      "outputs": [],
      "source": [
        "pd.notnull(obj2) # check for non-null values"
      ]
    },
    {
      "cell_type": "markdown",
      "metadata": {},
      "source": [
        "# Data frames"
      ]
    },
    {
      "cell_type": "code",
      "execution_count": null,
      "metadata": {
        "trusted": true
      },
      "outputs": [],
      "source": [
        "#import webbrowser"
      ]
    },
    {
      "cell_type": "code",
      "execution_count": null,
      "metadata": {
        "trusted": true
      },
      "outputs": [],
      "source": [
        "#website = 'https://en.wikipedia.org/wiki/NFL_win%E2%80%93loss_records'"
      ]
    },
    {
      "cell_type": "code",
      "execution_count": null,
      "metadata": {
        "trusted": true
      },
      "outputs": [],
      "source": [
        "#webbrowser.open(website) # opens the webpage in browser"
      ]
    },
    {
      "cell_type": "markdown",
      "metadata": {},
      "source": [
        "<a href = \"https://en.wikipedia.org/wiki/NFL_win%E2%80%93loss_records\">Click here </a>"
      ]
    },
    {
      "cell_type": "markdown",
      "metadata": {},
      "source": [
        "Copy the first few lines (including header) from the table on the webpage"
      ]
    },
    {
      "cell_type": "code",
      "execution_count": 43,
      "metadata": {
        "trusted": true
      },
      "outputs": [],
      "source": [
        "import pandas as pd"
      ]
    },
    {
      "cell_type": "code",
      "execution_count": 44,
      "metadata": {
        "trusted": true
      },
      "outputs": [],
      "source": [
        "#nfl_frame = pd.read_clipboard()\n",
        "nfl_frame = pd.read_csv('data/nfl_frame.csv')"
      ]
    },
    {
      "cell_type": "code",
      "execution_count": null,
      "metadata": {
        "scrolled": true,
        "trusted": true
      },
      "outputs": [],
      "source": [
        "type(nfl_frame)"
      ]
    },
    {
      "cell_type": "code",
      "execution_count": 45,
      "metadata": {
        "trusted": true
      },
      "outputs": [
        {
          "data": {
            "text/html": [
              "<div>\n",
              "<table border=\"1\" class=\"dataframe\">\n",
              "  <thead>\n",
              "    <tr style=\"text-align: right;\">\n",
              "      <th></th>\n",
              "      <th>Unnamed: 0</th>\n",
              "      <th>Rank</th>\n",
              "      <th>Team</th>\n",
              "      <th>GP</th>\n",
              "      <th>Won</th>\n",
              "      <th>Lost</th>\n",
              "      <th>Tied</th>\n",
              "      <th>Pct.</th>\n",
              "      <th>First NFL Season</th>\n",
              "      <th>Division</th>\n",
              "    </tr>\n",
              "  </thead>\n",
              "  <tbody>\n",
              "    <tr>\n",
              "      <th>0</th>\n",
              "      <td>0</td>\n",
              "      <td>1</td>\n",
              "      <td>Dallas Cowboys</td>\n",
              "      <td>882</td>\n",
              "      <td>502</td>\n",
              "      <td>374</td>\n",
              "      <td>6</td>\n",
              "      <td>0.573</td>\n",
              "      <td>1960</td>\n",
              "      <td>NFC East</td>\n",
              "    </tr>\n",
              "    <tr>\n",
              "      <th>1</th>\n",
              "      <td>1</td>\n",
              "      <td>2</td>\n",
              "      <td>Green Bay Packers</td>\n",
              "      <td>1,336</td>\n",
              "      <td>737</td>\n",
              "      <td>562</td>\n",
              "      <td>37</td>\n",
              "      <td>0.565</td>\n",
              "      <td>1921</td>\n",
              "      <td>NFC North</td>\n",
              "    </tr>\n",
              "    <tr>\n",
              "      <th>2</th>\n",
              "      <td>2</td>\n",
              "      <td>3</td>\n",
              "      <td>Chicago Bears</td>\n",
              "      <td>1,370</td>\n",
              "      <td>749</td>\n",
              "      <td>579</td>\n",
              "      <td>42</td>\n",
              "      <td>0.562</td>\n",
              "      <td>1920</td>\n",
              "      <td>NFC North</td>\n",
              "    </tr>\n",
              "    <tr>\n",
              "      <th>3</th>\n",
              "      <td>3</td>\n",
              "      <td>4</td>\n",
              "      <td>Miami Dolphins</td>\n",
              "      <td>800</td>\n",
              "      <td>445</td>\n",
              "      <td>351</td>\n",
              "      <td>4</td>\n",
              "      <td>0.559</td>\n",
              "      <td>1966</td>\n",
              "      <td>AFC East</td>\n",
              "    </tr>\n",
              "    <tr>\n",
              "      <th>4</th>\n",
              "      <td>4</td>\n",
              "      <td>5</td>\n",
              "      <td>New England Patriots[b]</td>\n",
              "      <td>884</td>\n",
              "      <td>489</td>\n",
              "      <td>386</td>\n",
              "      <td>9</td>\n",
              "      <td>0.558</td>\n",
              "      <td>1960</td>\n",
              "      <td>AFC East</td>\n",
              "    </tr>\n",
              "    <tr>\n",
              "      <th>5</th>\n",
              "      <td>5</td>\n",
              "      <td>6</td>\n",
              "      <td>Minnesota Vikings</td>\n",
              "      <td>870</td>\n",
              "      <td>470</td>\n",
              "      <td>390</td>\n",
              "      <td>10</td>\n",
              "      <td>0.546</td>\n",
              "      <td>1961</td>\n",
              "      <td>NFC North</td>\n",
              "    </tr>\n",
              "    <tr>\n",
              "      <th>6</th>\n",
              "      <td>6</td>\n",
              "      <td>7</td>\n",
              "      <td>Baltimore Ravens</td>\n",
              "      <td>352</td>\n",
              "      <td>190</td>\n",
              "      <td>161</td>\n",
              "      <td>1</td>\n",
              "      <td>0.541</td>\n",
              "      <td>1996</td>\n",
              "      <td>AFC North</td>\n",
              "    </tr>\n",
              "    <tr>\n",
              "      <th>7</th>\n",
              "      <td>7</td>\n",
              "      <td>8</td>\n",
              "      <td>New York Giants</td>\n",
              "      <td>1,305</td>\n",
              "      <td>687</td>\n",
              "      <td>585</td>\n",
              "      <td>33</td>\n",
              "      <td>0.539</td>\n",
              "      <td>1925</td>\n",
              "      <td>NFC East</td>\n",
              "    </tr>\n",
              "    <tr>\n",
              "      <th>8</th>\n",
              "      <td>8</td>\n",
              "      <td>9</td>\n",
              "      <td>Denver Broncos</td>\n",
              "      <td>884</td>\n",
              "      <td>470</td>\n",
              "      <td>404</td>\n",
              "      <td>10</td>\n",
              "      <td>0.537</td>\n",
              "      <td>1960</td>\n",
              "      <td>AFC West</td>\n",
              "    </tr>\n",
              "    <tr>\n",
              "      <th>9</th>\n",
              "      <td>9</td>\n",
              "      <td>10</td>\n",
              "      <td>San Francisco 49ers</td>\n",
              "      <td>1,002</td>\n",
              "      <td>528</td>\n",
              "      <td>460</td>\n",
              "      <td>14</td>\n",
              "      <td>0.534</td>\n",
              "      <td>1950</td>\n",
              "      <td>NFC West</td>\n",
              "    </tr>\n",
              "    <tr>\n",
              "      <th>10</th>\n",
              "      <td>10</td>\n",
              "      <td>11</td>\n",
              "      <td>Pittsburgh Steelers</td>\n",
              "      <td>1,179</td>\n",
              "      <td>614</td>\n",
              "      <td>538</td>\n",
              "      <td>20</td>\n",
              "      <td>0.532</td>\n",
              "      <td>1933</td>\n",
              "      <td>AFC North</td>\n",
              "    </tr>\n",
              "    <tr>\n",
              "      <th>11</th>\n",
              "      <td>11</td>\n",
              "      <td>12</td>\n",
              "      <td>Oakland Raiders</td>\n",
              "      <td>884</td>\n",
              "      <td>462</td>\n",
              "      <td>411</td>\n",
              "      <td>11</td>\n",
              "      <td>0.529</td>\n",
              "      <td>1960</td>\n",
              "      <td>AFC West</td>\n",
              "    </tr>\n",
              "  </tbody>\n",
              "</table>\n",
              "</div>"
            ],
            "text/plain": [
              "    Unnamed: 0  Rank                     Team     GP  Won  Lost  Tied   Pct.  \\\n",
              "0            0     1           Dallas Cowboys    882  502   374     6  0.573   \n",
              "1            1     2        Green Bay Packers  1,336  737   562    37  0.565   \n",
              "2            2     3            Chicago Bears  1,370  749   579    42  0.562   \n",
              "3            3     4           Miami Dolphins    800  445   351     4  0.559   \n",
              "4            4     5  New England Patriots[b]    884  489   386     9  0.558   \n",
              "5            5     6        Minnesota Vikings    870  470   390    10  0.546   \n",
              "6            6     7         Baltimore Ravens    352  190   161     1  0.541   \n",
              "7            7     8          New York Giants  1,305  687   585    33  0.539   \n",
              "8            8     9           Denver Broncos    884  470   404    10  0.537   \n",
              "9            9    10      San Francisco 49ers  1,002  528   460    14  0.534   \n",
              "10          10    11      Pittsburgh Steelers  1,179  614   538    20  0.532   \n",
              "11          11    12          Oakland Raiders    884  462   411    11  0.529   \n",
              "\n",
              "    First NFL Season   Division  \n",
              "0               1960   NFC East  \n",
              "1               1921  NFC North  \n",
              "2               1920  NFC North  \n",
              "3               1966   AFC East  \n",
              "4               1960   AFC East  \n",
              "5               1961  NFC North  \n",
              "6               1996  AFC North  \n",
              "7               1925   NFC East  \n",
              "8               1960   AFC West  \n",
              "9               1950   NFC West  \n",
              "10              1933  AFC North  \n",
              "11              1960   AFC West  "
            ]
          },
          "execution_count": 45,
          "metadata": {},
          "output_type": "execute_result"
        }
      ],
      "source": [
        "nfl_frame"
      ]
    },
    {
      "cell_type": "code",
      "execution_count": 46,
      "metadata": {
        "trusted": true
      },
      "outputs": [
        {
          "data": {
            "text/plain": [
              "Index(['Unnamed: 0', 'Rank', 'Team', 'GP', 'Won', 'Lost', 'Tied', 'Pct.',\n",
              "       'First NFL Season', 'Division'],\n",
              "      dtype='object')"
            ]
          },
          "execution_count": 46,
          "metadata": {},
          "output_type": "execute_result"
        }
      ],
      "source": [
        "nfl_frame.columns"
      ]
    },
    {
      "cell_type": "code",
      "execution_count": 47,
      "metadata": {
        "trusted": true
      },
      "outputs": [
        {
          "data": {
            "text/plain": [
              "(12, 10)"
            ]
          },
          "execution_count": 47,
          "metadata": {},
          "output_type": "execute_result"
        }
      ],
      "source": [
        "nfl_frame.shape"
      ]
    },
    {
      "cell_type": "code",
      "execution_count": 48,
      "metadata": {
        "trusted": true
      },
      "outputs": [
        {
          "data": {
            "text/plain": [
              "0     374\n",
              "1     562\n",
              "2     579\n",
              "3     351\n",
              "4     386\n",
              "5     390\n",
              "6     161\n",
              "7     585\n",
              "8     404\n",
              "9     460\n",
              "10    538\n",
              "11    411\n",
              "Name: Lost, dtype: int64"
            ]
          },
          "execution_count": 48,
          "metadata": {},
          "output_type": "execute_result"
        }
      ],
      "source": [
        "nfl_frame.Lost"
      ]
    },
    {
      "cell_type": "code",
      "execution_count": 49,
      "metadata": {
        "scrolled": true,
        "trusted": true
      },
      "outputs": [
        {
          "ename": "SyntaxError",
          "evalue": "invalid syntax (<ipython-input-49-a29c00d3d266>, line 1)",
          "output_type": "error",
          "traceback": [
            "\u001b[0;36m  File \u001b[0;32m\"<ipython-input-49-a29c00d3d266>\"\u001b[0;36m, line \u001b[0;32m1\u001b[0m\n\u001b[0;31m    nfl_frame.First NFL Season # In R:nfl_frame$Rank\u001b[0m\n\u001b[0m                      ^\u001b[0m\n\u001b[0;31mSyntaxError\u001b[0m\u001b[0;31m:\u001b[0m invalid syntax\n"
          ]
        }
      ],
      "source": [
        "nfl_frame.First NFL Season # In R:nfl_frame$Rank\n",
        "# this won't work for column names with spaces"
      ]
    },
    {
      "cell_type": "code",
      "execution_count": null,
      "metadata": {
        "trusted": true
      },
      "outputs": [],
      "source": [
        "nfl_frame.Total Games"
      ]
    },
    {
      "cell_type": "code",
      "execution_count": 50,
      "metadata": {
        "trusted": true
      },
      "outputs": [
        {
          "data": {
            "text/plain": [
              "0     1960\n",
              "1     1921\n",
              "2     1920\n",
              "3     1966\n",
              "4     1960\n",
              "5     1961\n",
              "6     1996\n",
              "7     1925\n",
              "8     1960\n",
              "9     1950\n",
              "10    1933\n",
              "11    1960\n",
              "Name: First NFL Season, dtype: int64"
            ]
          },
          "execution_count": 50,
          "metadata": {},
          "output_type": "execute_result"
        }
      ],
      "source": [
        "nfl_frame['First NFL Season']"
      ]
    },
    {
      "cell_type": "code",
      "execution_count": null,
      "metadata": {
        "trusted": true
      },
      "outputs": [],
      "source": [
        "nfl_frame[nfl_frame.Won > 500]"
      ]
    },
    {
      "cell_type": "code",
      "execution_count": null,
      "metadata": {
        "trusted": true
      },
      "outputs": [],
      "source": [
        "nfl_frame[(nfl_frame.Won > 500) & (nfl_frame.Lost < 500)]"
      ]
    },
    {
      "cell_type": "code",
      "execution_count": null,
      "metadata": {
        "trusted": true
      },
      "outputs": [],
      "source": [
        "nfl_frame[(nfl_frame.Won > 500) | (nfl_frame.Lost < 500)]"
      ]
    },
    {
      "cell_type": "code",
      "execution_count": 51,
      "metadata": {
        "trusted": true
      },
      "outputs": [],
      "source": [
        "my_new_df = DataFrame(nfl_frame,columns=['Team','First NFL Season','Total Games'])"
      ]
    },
    {
      "cell_type": "code",
      "execution_count": 52,
      "metadata": {
        "trusted": true
      },
      "outputs": [
        {
          "data": {
            "text/html": [
              "<div>\n",
              "<table border=\"1\" class=\"dataframe\">\n",
              "  <thead>\n",
              "    <tr style=\"text-align: right;\">\n",
              "      <th></th>\n",
              "      <th>Team</th>\n",
              "      <th>First NFL Season</th>\n",
              "      <th>Total Games</th>\n",
              "    </tr>\n",
              "  </thead>\n",
              "  <tbody>\n",
              "    <tr>\n",
              "      <th>0</th>\n",
              "      <td>Dallas Cowboys</td>\n",
              "      <td>1960</td>\n",
              "      <td>NaN</td>\n",
              "    </tr>\n",
              "    <tr>\n",
              "      <th>1</th>\n",
              "      <td>Green Bay Packers</td>\n",
              "      <td>1921</td>\n",
              "      <td>NaN</td>\n",
              "    </tr>\n",
              "    <tr>\n",
              "      <th>2</th>\n",
              "      <td>Chicago Bears</td>\n",
              "      <td>1920</td>\n",
              "      <td>NaN</td>\n",
              "    </tr>\n",
              "    <tr>\n",
              "      <th>3</th>\n",
              "      <td>Miami Dolphins</td>\n",
              "      <td>1966</td>\n",
              "      <td>NaN</td>\n",
              "    </tr>\n",
              "    <tr>\n",
              "      <th>4</th>\n",
              "      <td>New England Patriots[b]</td>\n",
              "      <td>1960</td>\n",
              "      <td>NaN</td>\n",
              "    </tr>\n",
              "    <tr>\n",
              "      <th>5</th>\n",
              "      <td>Minnesota Vikings</td>\n",
              "      <td>1961</td>\n",
              "      <td>NaN</td>\n",
              "    </tr>\n",
              "    <tr>\n",
              "      <th>6</th>\n",
              "      <td>Baltimore Ravens</td>\n",
              "      <td>1996</td>\n",
              "      <td>NaN</td>\n",
              "    </tr>\n",
              "    <tr>\n",
              "      <th>7</th>\n",
              "      <td>New York Giants</td>\n",
              "      <td>1925</td>\n",
              "      <td>NaN</td>\n",
              "    </tr>\n",
              "    <tr>\n",
              "      <th>8</th>\n",
              "      <td>Denver Broncos</td>\n",
              "      <td>1960</td>\n",
              "      <td>NaN</td>\n",
              "    </tr>\n",
              "    <tr>\n",
              "      <th>9</th>\n",
              "      <td>San Francisco 49ers</td>\n",
              "      <td>1950</td>\n",
              "      <td>NaN</td>\n",
              "    </tr>\n",
              "    <tr>\n",
              "      <th>10</th>\n",
              "      <td>Pittsburgh Steelers</td>\n",
              "      <td>1933</td>\n",
              "      <td>NaN</td>\n",
              "    </tr>\n",
              "    <tr>\n",
              "      <th>11</th>\n",
              "      <td>Oakland Raiders</td>\n",
              "      <td>1960</td>\n",
              "      <td>NaN</td>\n",
              "    </tr>\n",
              "  </tbody>\n",
              "</table>\n",
              "</div>"
            ],
            "text/plain": [
              "                       Team  First NFL Season  Total Games\n",
              "0            Dallas Cowboys              1960          NaN\n",
              "1         Green Bay Packers              1921          NaN\n",
              "2             Chicago Bears              1920          NaN\n",
              "3            Miami Dolphins              1966          NaN\n",
              "4   New England Patriots[b]              1960          NaN\n",
              "5         Minnesota Vikings              1961          NaN\n",
              "6          Baltimore Ravens              1996          NaN\n",
              "7           New York Giants              1925          NaN\n",
              "8            Denver Broncos              1960          NaN\n",
              "9       San Francisco 49ers              1950          NaN\n",
              "10      Pittsburgh Steelers              1933          NaN\n",
              "11          Oakland Raiders              1960          NaN"
            ]
          },
          "execution_count": 52,
          "metadata": {},
          "output_type": "execute_result"
        }
      ],
      "source": [
        "my_new_df"
      ]
    },
    {
      "cell_type": "code",
      "execution_count": 53,
      "metadata": {
        "trusted": true
      },
      "outputs": [
        {
          "data": {
            "text/html": [
              "<div>\n",
              "<table border=\"1\" class=\"dataframe\">\n",
              "  <thead>\n",
              "    <tr style=\"text-align: right;\">\n",
              "      <th></th>\n",
              "      <th>Team</th>\n",
              "      <th>First NFL Season</th>\n",
              "      <th>Total Games</th>\n",
              "      <th>Stadium</th>\n",
              "    </tr>\n",
              "  </thead>\n",
              "  <tbody>\n",
              "    <tr>\n",
              "      <th>0</th>\n",
              "      <td>Dallas Cowboys</td>\n",
              "      <td>1960</td>\n",
              "      <td>NaN</td>\n",
              "      <td>NaN</td>\n",
              "    </tr>\n",
              "    <tr>\n",
              "      <th>1</th>\n",
              "      <td>Green Bay Packers</td>\n",
              "      <td>1921</td>\n",
              "      <td>NaN</td>\n",
              "      <td>NaN</td>\n",
              "    </tr>\n",
              "    <tr>\n",
              "      <th>2</th>\n",
              "      <td>Chicago Bears</td>\n",
              "      <td>1920</td>\n",
              "      <td>NaN</td>\n",
              "      <td>NaN</td>\n",
              "    </tr>\n",
              "    <tr>\n",
              "      <th>3</th>\n",
              "      <td>Miami Dolphins</td>\n",
              "      <td>1966</td>\n",
              "      <td>NaN</td>\n",
              "      <td>NaN</td>\n",
              "    </tr>\n",
              "    <tr>\n",
              "      <th>4</th>\n",
              "      <td>New England Patriots[b]</td>\n",
              "      <td>1960</td>\n",
              "      <td>NaN</td>\n",
              "      <td>NaN</td>\n",
              "    </tr>\n",
              "    <tr>\n",
              "      <th>5</th>\n",
              "      <td>Minnesota Vikings</td>\n",
              "      <td>1961</td>\n",
              "      <td>NaN</td>\n",
              "      <td>NaN</td>\n",
              "    </tr>\n",
              "    <tr>\n",
              "      <th>6</th>\n",
              "      <td>Baltimore Ravens</td>\n",
              "      <td>1996</td>\n",
              "      <td>NaN</td>\n",
              "      <td>NaN</td>\n",
              "    </tr>\n",
              "    <tr>\n",
              "      <th>7</th>\n",
              "      <td>New York Giants</td>\n",
              "      <td>1925</td>\n",
              "      <td>NaN</td>\n",
              "      <td>NaN</td>\n",
              "    </tr>\n",
              "    <tr>\n",
              "      <th>8</th>\n",
              "      <td>Denver Broncos</td>\n",
              "      <td>1960</td>\n",
              "      <td>NaN</td>\n",
              "      <td>NaN</td>\n",
              "    </tr>\n",
              "    <tr>\n",
              "      <th>9</th>\n",
              "      <td>San Francisco 49ers</td>\n",
              "      <td>1950</td>\n",
              "      <td>NaN</td>\n",
              "      <td>NaN</td>\n",
              "    </tr>\n",
              "    <tr>\n",
              "      <th>10</th>\n",
              "      <td>Pittsburgh Steelers</td>\n",
              "      <td>1933</td>\n",
              "      <td>NaN</td>\n",
              "      <td>NaN</td>\n",
              "    </tr>\n",
              "    <tr>\n",
              "      <th>11</th>\n",
              "      <td>Oakland Raiders</td>\n",
              "      <td>1960</td>\n",
              "      <td>NaN</td>\n",
              "      <td>NaN</td>\n",
              "    </tr>\n",
              "  </tbody>\n",
              "</table>\n",
              "</div>"
            ],
            "text/plain": [
              "                       Team  First NFL Season  Total Games  Stadium\n",
              "0            Dallas Cowboys              1960          NaN      NaN\n",
              "1         Green Bay Packers              1921          NaN      NaN\n",
              "2             Chicago Bears              1920          NaN      NaN\n",
              "3            Miami Dolphins              1966          NaN      NaN\n",
              "4   New England Patriots[b]              1960          NaN      NaN\n",
              "5         Minnesota Vikings              1961          NaN      NaN\n",
              "6          Baltimore Ravens              1996          NaN      NaN\n",
              "7           New York Giants              1925          NaN      NaN\n",
              "8            Denver Broncos              1960          NaN      NaN\n",
              "9       San Francisco 49ers              1950          NaN      NaN\n",
              "10      Pittsburgh Steelers              1933          NaN      NaN\n",
              "11          Oakland Raiders              1960          NaN      NaN"
            ]
          },
          "execution_count": 53,
          "metadata": {},
          "output_type": "execute_result"
        }
      ],
      "source": [
        "DataFrame(nfl_frame,columns=['Team','First NFL Season','Total Games','Stadium'])"
      ]
    },
    {
      "cell_type": "markdown",
      "metadata": {},
      "source": [
        "If column doesn't exist, creates a column with that name and fills with null values"
      ]
    },
    {
      "cell_type": "code",
      "execution_count": 54,
      "metadata": {
        "trusted": true
      },
      "outputs": [
        {
          "data": {
            "text/html": [
              "<div>\n",
              "<table border=\"1\" class=\"dataframe\">\n",
              "  <thead>\n",
              "    <tr style=\"text-align: right;\">\n",
              "      <th></th>\n",
              "      <th>Unnamed: 0</th>\n",
              "      <th>Rank</th>\n",
              "      <th>Team</th>\n",
              "      <th>GP</th>\n",
              "      <th>Won</th>\n",
              "      <th>Lost</th>\n",
              "      <th>Tied</th>\n",
              "      <th>Pct.</th>\n",
              "      <th>First NFL Season</th>\n",
              "      <th>Division</th>\n",
              "    </tr>\n",
              "  </thead>\n",
              "  <tbody>\n",
              "    <tr>\n",
              "      <th>0</th>\n",
              "      <td>0</td>\n",
              "      <td>1</td>\n",
              "      <td>Dallas Cowboys</td>\n",
              "      <td>882</td>\n",
              "      <td>502</td>\n",
              "      <td>374</td>\n",
              "      <td>6</td>\n",
              "      <td>0.573</td>\n",
              "      <td>1960</td>\n",
              "      <td>NFC East</td>\n",
              "    </tr>\n",
              "    <tr>\n",
              "      <th>1</th>\n",
              "      <td>1</td>\n",
              "      <td>2</td>\n",
              "      <td>Green Bay Packers</td>\n",
              "      <td>1,336</td>\n",
              "      <td>737</td>\n",
              "      <td>562</td>\n",
              "      <td>37</td>\n",
              "      <td>0.565</td>\n",
              "      <td>1921</td>\n",
              "      <td>NFC North</td>\n",
              "    </tr>\n",
              "    <tr>\n",
              "      <th>2</th>\n",
              "      <td>2</td>\n",
              "      <td>3</td>\n",
              "      <td>Chicago Bears</td>\n",
              "      <td>1,370</td>\n",
              "      <td>749</td>\n",
              "      <td>579</td>\n",
              "      <td>42</td>\n",
              "      <td>0.562</td>\n",
              "      <td>1920</td>\n",
              "      <td>NFC North</td>\n",
              "    </tr>\n",
              "    <tr>\n",
              "      <th>3</th>\n",
              "      <td>3</td>\n",
              "      <td>4</td>\n",
              "      <td>Miami Dolphins</td>\n",
              "      <td>800</td>\n",
              "      <td>445</td>\n",
              "      <td>351</td>\n",
              "      <td>4</td>\n",
              "      <td>0.559</td>\n",
              "      <td>1966</td>\n",
              "      <td>AFC East</td>\n",
              "    </tr>\n",
              "    <tr>\n",
              "      <th>4</th>\n",
              "      <td>4</td>\n",
              "      <td>5</td>\n",
              "      <td>New England Patriots[b]</td>\n",
              "      <td>884</td>\n",
              "      <td>489</td>\n",
              "      <td>386</td>\n",
              "      <td>9</td>\n",
              "      <td>0.558</td>\n",
              "      <td>1960</td>\n",
              "      <td>AFC East</td>\n",
              "    </tr>\n",
              "  </tbody>\n",
              "</table>\n",
              "</div>"
            ],
            "text/plain": [
              "   Unnamed: 0  Rank                     Team     GP  Won  Lost  Tied   Pct.  \\\n",
              "0           0     1           Dallas Cowboys    882  502   374     6  0.573   \n",
              "1           1     2        Green Bay Packers  1,336  737   562    37  0.565   \n",
              "2           2     3            Chicago Bears  1,370  749   579    42  0.562   \n",
              "3           3     4           Miami Dolphins    800  445   351     4  0.559   \n",
              "4           4     5  New England Patriots[b]    884  489   386     9  0.558   \n",
              "\n",
              "   First NFL Season   Division  \n",
              "0              1960   NFC East  \n",
              "1              1921  NFC North  \n",
              "2              1920  NFC North  \n",
              "3              1966   AFC East  \n",
              "4              1960   AFC East  "
            ]
          },
          "execution_count": 54,
          "metadata": {},
          "output_type": "execute_result"
        }
      ],
      "source": [
        "nfl_frame.head() # head; default first 5 rows"
      ]
    },
    {
      "cell_type": "code",
      "execution_count": 55,
      "metadata": {
        "trusted": true
      },
      "outputs": [
        {
          "data": {
            "text/html": [
              "<div>\n",
              "<table border=\"1\" class=\"dataframe\">\n",
              "  <thead>\n",
              "    <tr style=\"text-align: right;\">\n",
              "      <th></th>\n",
              "      <th>Unnamed: 0</th>\n",
              "      <th>Rank</th>\n",
              "      <th>Team</th>\n",
              "      <th>GP</th>\n",
              "      <th>Won</th>\n",
              "      <th>Lost</th>\n",
              "      <th>Tied</th>\n",
              "      <th>Pct.</th>\n",
              "      <th>First NFL Season</th>\n",
              "      <th>Division</th>\n",
              "    </tr>\n",
              "  </thead>\n",
              "  <tbody>\n",
              "    <tr>\n",
              "      <th>0</th>\n",
              "      <td>0</td>\n",
              "      <td>1</td>\n",
              "      <td>Dallas Cowboys</td>\n",
              "      <td>882</td>\n",
              "      <td>502</td>\n",
              "      <td>374</td>\n",
              "      <td>6</td>\n",
              "      <td>0.573</td>\n",
              "      <td>1960</td>\n",
              "      <td>NFC East</td>\n",
              "    </tr>\n",
              "    <tr>\n",
              "      <th>1</th>\n",
              "      <td>1</td>\n",
              "      <td>2</td>\n",
              "      <td>Green Bay Packers</td>\n",
              "      <td>1,336</td>\n",
              "      <td>737</td>\n",
              "      <td>562</td>\n",
              "      <td>37</td>\n",
              "      <td>0.565</td>\n",
              "      <td>1921</td>\n",
              "      <td>NFC North</td>\n",
              "    </tr>\n",
              "    <tr>\n",
              "      <th>2</th>\n",
              "      <td>2</td>\n",
              "      <td>3</td>\n",
              "      <td>Chicago Bears</td>\n",
              "      <td>1,370</td>\n",
              "      <td>749</td>\n",
              "      <td>579</td>\n",
              "      <td>42</td>\n",
              "      <td>0.562</td>\n",
              "      <td>1920</td>\n",
              "      <td>NFC North</td>\n",
              "    </tr>\n",
              "  </tbody>\n",
              "</table>\n",
              "</div>"
            ],
            "text/plain": [
              "   Unnamed: 0  Rank               Team     GP  Won  Lost  Tied   Pct.  \\\n",
              "0           0     1     Dallas Cowboys    882  502   374     6  0.573   \n",
              "1           1     2  Green Bay Packers  1,336  737   562    37  0.565   \n",
              "2           2     3      Chicago Bears  1,370  749   579    42  0.562   \n",
              "\n",
              "   First NFL Season   Division  \n",
              "0              1960   NFC East  \n",
              "1              1921  NFC North  \n",
              "2              1920  NFC North  "
            ]
          },
          "execution_count": 55,
          "metadata": {},
          "output_type": "execute_result"
        }
      ],
      "source": [
        "nfl_frame.head(3)"
      ]
    },
    {
      "cell_type": "code",
      "execution_count": 56,
      "metadata": {
        "trusted": true
      },
      "outputs": [
        {
          "data": {
            "text/html": [
              "<div>\n",
              "<table border=\"1\" class=\"dataframe\">\n",
              "  <thead>\n",
              "    <tr style=\"text-align: right;\">\n",
              "      <th></th>\n",
              "      <th>Unnamed: 0</th>\n",
              "      <th>Rank</th>\n",
              "      <th>Team</th>\n",
              "      <th>GP</th>\n",
              "      <th>Won</th>\n",
              "      <th>Lost</th>\n",
              "      <th>Tied</th>\n",
              "      <th>Pct.</th>\n",
              "      <th>First NFL Season</th>\n",
              "      <th>Division</th>\n",
              "    </tr>\n",
              "  </thead>\n",
              "  <tbody>\n",
              "    <tr>\n",
              "      <th>7</th>\n",
              "      <td>7</td>\n",
              "      <td>8</td>\n",
              "      <td>New York Giants</td>\n",
              "      <td>1,305</td>\n",
              "      <td>687</td>\n",
              "      <td>585</td>\n",
              "      <td>33</td>\n",
              "      <td>0.539</td>\n",
              "      <td>1925</td>\n",
              "      <td>NFC East</td>\n",
              "    </tr>\n",
              "    <tr>\n",
              "      <th>8</th>\n",
              "      <td>8</td>\n",
              "      <td>9</td>\n",
              "      <td>Denver Broncos</td>\n",
              "      <td>884</td>\n",
              "      <td>470</td>\n",
              "      <td>404</td>\n",
              "      <td>10</td>\n",
              "      <td>0.537</td>\n",
              "      <td>1960</td>\n",
              "      <td>AFC West</td>\n",
              "    </tr>\n",
              "    <tr>\n",
              "      <th>9</th>\n",
              "      <td>9</td>\n",
              "      <td>10</td>\n",
              "      <td>San Francisco 49ers</td>\n",
              "      <td>1,002</td>\n",
              "      <td>528</td>\n",
              "      <td>460</td>\n",
              "      <td>14</td>\n",
              "      <td>0.534</td>\n",
              "      <td>1950</td>\n",
              "      <td>NFC West</td>\n",
              "    </tr>\n",
              "    <tr>\n",
              "      <th>10</th>\n",
              "      <td>10</td>\n",
              "      <td>11</td>\n",
              "      <td>Pittsburgh Steelers</td>\n",
              "      <td>1,179</td>\n",
              "      <td>614</td>\n",
              "      <td>538</td>\n",
              "      <td>20</td>\n",
              "      <td>0.532</td>\n",
              "      <td>1933</td>\n",
              "      <td>AFC North</td>\n",
              "    </tr>\n",
              "    <tr>\n",
              "      <th>11</th>\n",
              "      <td>11</td>\n",
              "      <td>12</td>\n",
              "      <td>Oakland Raiders</td>\n",
              "      <td>884</td>\n",
              "      <td>462</td>\n",
              "      <td>411</td>\n",
              "      <td>11</td>\n",
              "      <td>0.529</td>\n",
              "      <td>1960</td>\n",
              "      <td>AFC West</td>\n",
              "    </tr>\n",
              "  </tbody>\n",
              "</table>\n",
              "</div>"
            ],
            "text/plain": [
              "    Unnamed: 0  Rank                 Team     GP  Won  Lost  Tied   Pct.  \\\n",
              "7            7     8      New York Giants  1,305  687   585    33  0.539   \n",
              "8            8     9       Denver Broncos    884  470   404    10  0.537   \n",
              "9            9    10  San Francisco 49ers  1,002  528   460    14  0.534   \n",
              "10          10    11  Pittsburgh Steelers  1,179  614   538    20  0.532   \n",
              "11          11    12      Oakland Raiders    884  462   411    11  0.529   \n",
              "\n",
              "    First NFL Season   Division  \n",
              "7               1925   NFC East  \n",
              "8               1960   AFC West  \n",
              "9               1950   NFC West  \n",
              "10              1933  AFC North  \n",
              "11              1960   AFC West  "
            ]
          },
          "execution_count": 56,
          "metadata": {},
          "output_type": "execute_result"
        }
      ],
      "source": [
        "nfl_frame.tail()"
      ]
    },
    {
      "cell_type": "code",
      "execution_count": 57,
      "metadata": {
        "trusted": true
      },
      "outputs": [
        {
          "data": {
            "text/html": [
              "<div>\n",
              "<table border=\"1\" class=\"dataframe\">\n",
              "  <thead>\n",
              "    <tr style=\"text-align: right;\">\n",
              "      <th></th>\n",
              "      <th>Unnamed: 0</th>\n",
              "      <th>Rank</th>\n",
              "      <th>Team</th>\n",
              "      <th>GP</th>\n",
              "      <th>Won</th>\n",
              "      <th>Lost</th>\n",
              "      <th>Tied</th>\n",
              "      <th>Pct.</th>\n",
              "      <th>First NFL Season</th>\n",
              "      <th>Division</th>\n",
              "    </tr>\n",
              "  </thead>\n",
              "  <tbody>\n",
              "    <tr>\n",
              "      <th>10</th>\n",
              "      <td>10</td>\n",
              "      <td>11</td>\n",
              "      <td>Pittsburgh Steelers</td>\n",
              "      <td>1,179</td>\n",
              "      <td>614</td>\n",
              "      <td>538</td>\n",
              "      <td>20</td>\n",
              "      <td>0.532</td>\n",
              "      <td>1933</td>\n",
              "      <td>AFC North</td>\n",
              "    </tr>\n",
              "    <tr>\n",
              "      <th>11</th>\n",
              "      <td>11</td>\n",
              "      <td>12</td>\n",
              "      <td>Oakland Raiders</td>\n",
              "      <td>884</td>\n",
              "      <td>462</td>\n",
              "      <td>411</td>\n",
              "      <td>11</td>\n",
              "      <td>0.529</td>\n",
              "      <td>1960</td>\n",
              "      <td>AFC West</td>\n",
              "    </tr>\n",
              "  </tbody>\n",
              "</table>\n",
              "</div>"
            ],
            "text/plain": [
              "    Unnamed: 0  Rank                 Team     GP  Won  Lost  Tied   Pct.  \\\n",
              "10          10    11  Pittsburgh Steelers  1,179  614   538    20  0.532   \n",
              "11          11    12      Oakland Raiders    884  462   411    11  0.529   \n",
              "\n",
              "    First NFL Season   Division  \n",
              "10              1933  AFC North  \n",
              "11              1960   AFC West  "
            ]
          },
          "execution_count": 57,
          "metadata": {},
          "output_type": "execute_result"
        }
      ],
      "source": [
        "nfl_frame.tail(2)"
      ]
    },
    {
      "cell_type": "code",
      "execution_count": null,
      "metadata": {
        "trusted": true
      },
      "outputs": [],
      "source": [
        "nfl_frame"
      ]
    },
    {
      "cell_type": "code",
      "execution_count": 58,
      "metadata": {
        "trusted": true
      },
      "outputs": [],
      "source": [
        "nfl_frame['Stadium'] = \"Levi's Stadium\" # create a new column with the same value for all rows"
      ]
    },
    {
      "cell_type": "code",
      "execution_count": 59,
      "metadata": {
        "trusted": true
      },
      "outputs": [
        {
          "data": {
            "text/html": [
              "<div>\n",
              "<table border=\"1\" class=\"dataframe\">\n",
              "  <thead>\n",
              "    <tr style=\"text-align: right;\">\n",
              "      <th></th>\n",
              "      <th>Unnamed: 0</th>\n",
              "      <th>Rank</th>\n",
              "      <th>Team</th>\n",
              "      <th>GP</th>\n",
              "      <th>Won</th>\n",
              "      <th>Lost</th>\n",
              "      <th>Tied</th>\n",
              "      <th>Pct.</th>\n",
              "      <th>First NFL Season</th>\n",
              "      <th>Division</th>\n",
              "      <th>Stadium</th>\n",
              "    </tr>\n",
              "  </thead>\n",
              "  <tbody>\n",
              "    <tr>\n",
              "      <th>0</th>\n",
              "      <td>0</td>\n",
              "      <td>1</td>\n",
              "      <td>Dallas Cowboys</td>\n",
              "      <td>882</td>\n",
              "      <td>502</td>\n",
              "      <td>374</td>\n",
              "      <td>6</td>\n",
              "      <td>0.573</td>\n",
              "      <td>1960</td>\n",
              "      <td>NFC East</td>\n",
              "      <td>Levi's Stadium</td>\n",
              "    </tr>\n",
              "    <tr>\n",
              "      <th>1</th>\n",
              "      <td>1</td>\n",
              "      <td>2</td>\n",
              "      <td>Green Bay Packers</td>\n",
              "      <td>1,336</td>\n",
              "      <td>737</td>\n",
              "      <td>562</td>\n",
              "      <td>37</td>\n",
              "      <td>0.565</td>\n",
              "      <td>1921</td>\n",
              "      <td>NFC North</td>\n",
              "      <td>Levi's Stadium</td>\n",
              "    </tr>\n",
              "    <tr>\n",
              "      <th>2</th>\n",
              "      <td>2</td>\n",
              "      <td>3</td>\n",
              "      <td>Chicago Bears</td>\n",
              "      <td>1,370</td>\n",
              "      <td>749</td>\n",
              "      <td>579</td>\n",
              "      <td>42</td>\n",
              "      <td>0.562</td>\n",
              "      <td>1920</td>\n",
              "      <td>NFC North</td>\n",
              "      <td>Levi's Stadium</td>\n",
              "    </tr>\n",
              "    <tr>\n",
              "      <th>3</th>\n",
              "      <td>3</td>\n",
              "      <td>4</td>\n",
              "      <td>Miami Dolphins</td>\n",
              "      <td>800</td>\n",
              "      <td>445</td>\n",
              "      <td>351</td>\n",
              "      <td>4</td>\n",
              "      <td>0.559</td>\n",
              "      <td>1966</td>\n",
              "      <td>AFC East</td>\n",
              "      <td>Levi's Stadium</td>\n",
              "    </tr>\n",
              "    <tr>\n",
              "      <th>4</th>\n",
              "      <td>4</td>\n",
              "      <td>5</td>\n",
              "      <td>New England Patriots[b]</td>\n",
              "      <td>884</td>\n",
              "      <td>489</td>\n",
              "      <td>386</td>\n",
              "      <td>9</td>\n",
              "      <td>0.558</td>\n",
              "      <td>1960</td>\n",
              "      <td>AFC East</td>\n",
              "      <td>Levi's Stadium</td>\n",
              "    </tr>\n",
              "    <tr>\n",
              "      <th>5</th>\n",
              "      <td>5</td>\n",
              "      <td>6</td>\n",
              "      <td>Minnesota Vikings</td>\n",
              "      <td>870</td>\n",
              "      <td>470</td>\n",
              "      <td>390</td>\n",
              "      <td>10</td>\n",
              "      <td>0.546</td>\n",
              "      <td>1961</td>\n",
              "      <td>NFC North</td>\n",
              "      <td>Levi's Stadium</td>\n",
              "    </tr>\n",
              "    <tr>\n",
              "      <th>6</th>\n",
              "      <td>6</td>\n",
              "      <td>7</td>\n",
              "      <td>Baltimore Ravens</td>\n",
              "      <td>352</td>\n",
              "      <td>190</td>\n",
              "      <td>161</td>\n",
              "      <td>1</td>\n",
              "      <td>0.541</td>\n",
              "      <td>1996</td>\n",
              "      <td>AFC North</td>\n",
              "      <td>Levi's Stadium</td>\n",
              "    </tr>\n",
              "    <tr>\n",
              "      <th>7</th>\n",
              "      <td>7</td>\n",
              "      <td>8</td>\n",
              "      <td>New York Giants</td>\n",
              "      <td>1,305</td>\n",
              "      <td>687</td>\n",
              "      <td>585</td>\n",
              "      <td>33</td>\n",
              "      <td>0.539</td>\n",
              "      <td>1925</td>\n",
              "      <td>NFC East</td>\n",
              "      <td>Levi's Stadium</td>\n",
              "    </tr>\n",
              "    <tr>\n",
              "      <th>8</th>\n",
              "      <td>8</td>\n",
              "      <td>9</td>\n",
              "      <td>Denver Broncos</td>\n",
              "      <td>884</td>\n",
              "      <td>470</td>\n",
              "      <td>404</td>\n",
              "      <td>10</td>\n",
              "      <td>0.537</td>\n",
              "      <td>1960</td>\n",
              "      <td>AFC West</td>\n",
              "      <td>Levi's Stadium</td>\n",
              "    </tr>\n",
              "    <tr>\n",
              "      <th>9</th>\n",
              "      <td>9</td>\n",
              "      <td>10</td>\n",
              "      <td>San Francisco 49ers</td>\n",
              "      <td>1,002</td>\n",
              "      <td>528</td>\n",
              "      <td>460</td>\n",
              "      <td>14</td>\n",
              "      <td>0.534</td>\n",
              "      <td>1950</td>\n",
              "      <td>NFC West</td>\n",
              "      <td>Levi's Stadium</td>\n",
              "    </tr>\n",
              "    <tr>\n",
              "      <th>10</th>\n",
              "      <td>10</td>\n",
              "      <td>11</td>\n",
              "      <td>Pittsburgh Steelers</td>\n",
              "      <td>1,179</td>\n",
              "      <td>614</td>\n",
              "      <td>538</td>\n",
              "      <td>20</td>\n",
              "      <td>0.532</td>\n",
              "      <td>1933</td>\n",
              "      <td>AFC North</td>\n",
              "      <td>Levi's Stadium</td>\n",
              "    </tr>\n",
              "    <tr>\n",
              "      <th>11</th>\n",
              "      <td>11</td>\n",
              "      <td>12</td>\n",
              "      <td>Oakland Raiders</td>\n",
              "      <td>884</td>\n",
              "      <td>462</td>\n",
              "      <td>411</td>\n",
              "      <td>11</td>\n",
              "      <td>0.529</td>\n",
              "      <td>1960</td>\n",
              "      <td>AFC West</td>\n",
              "      <td>Levi's Stadium</td>\n",
              "    </tr>\n",
              "  </tbody>\n",
              "</table>\n",
              "</div>"
            ],
            "text/plain": [
              "    Unnamed: 0  Rank                     Team     GP  Won  Lost  Tied   Pct.  \\\n",
              "0            0     1           Dallas Cowboys    882  502   374     6  0.573   \n",
              "1            1     2        Green Bay Packers  1,336  737   562    37  0.565   \n",
              "2            2     3            Chicago Bears  1,370  749   579    42  0.562   \n",
              "3            3     4           Miami Dolphins    800  445   351     4  0.559   \n",
              "4            4     5  New England Patriots[b]    884  489   386     9  0.558   \n",
              "5            5     6        Minnesota Vikings    870  470   390    10  0.546   \n",
              "6            6     7         Baltimore Ravens    352  190   161     1  0.541   \n",
              "7            7     8          New York Giants  1,305  687   585    33  0.539   \n",
              "8            8     9           Denver Broncos    884  470   404    10  0.537   \n",
              "9            9    10      San Francisco 49ers  1,002  528   460    14  0.534   \n",
              "10          10    11      Pittsburgh Steelers  1,179  614   538    20  0.532   \n",
              "11          11    12          Oakland Raiders    884  462   411    11  0.529   \n",
              "\n",
              "    First NFL Season   Division         Stadium  \n",
              "0               1960   NFC East  Levi's Stadium  \n",
              "1               1921  NFC North  Levi's Stadium  \n",
              "2               1920  NFC North  Levi's Stadium  \n",
              "3               1966   AFC East  Levi's Stadium  \n",
              "4               1960   AFC East  Levi's Stadium  \n",
              "5               1961  NFC North  Levi's Stadium  \n",
              "6               1996  AFC North  Levi's Stadium  \n",
              "7               1925   NFC East  Levi's Stadium  \n",
              "8               1960   AFC West  Levi's Stadium  \n",
              "9               1950   NFC West  Levi's Stadium  \n",
              "10              1933  AFC North  Levi's Stadium  \n",
              "11              1960   AFC West  Levi's Stadium  "
            ]
          },
          "execution_count": 59,
          "metadata": {},
          "output_type": "execute_result"
        }
      ],
      "source": [
        "nfl_frame"
      ]
    },
    {
      "cell_type": "code",
      "execution_count": null,
      "metadata": {
        "trusted": true
      },
      "outputs": [],
      "source": [
        "nfl_array = np.array(nfl_frame)"
      ]
    },
    {
      "cell_type": "code",
      "execution_count": null,
      "metadata": {
        "trusted": true
      },
      "outputs": [],
      "source": [
        "nfl_array"
      ]
    },
    {
      "cell_type": "code",
      "execution_count": null,
      "metadata": {
        "trusted": true
      },
      "outputs": [],
      "source": [
        "nfl_array.shape"
      ]
    },
    {
      "cell_type": "code",
      "execution_count": null,
      "metadata": {
        "trusted": true
      },
      "outputs": [],
      "source": []
    },
    {
      "cell_type": "code",
      "execution_count": null,
      "metadata": {
        "trusted": true
      },
      "outputs": [],
      "source": [
        "import numpy as np\n",
        "np.arange(10)"
      ]
    },
    {
      "cell_type": "code",
      "execution_count": 60,
      "metadata": {
        "trusted": true
      },
      "outputs": [],
      "source": [
        "nfl_frame['StadiumNumber'] = np.arange(nfl_frame.shape[0]) # create a new column with continuous numbering"
      ]
    },
    {
      "cell_type": "code",
      "execution_count": 61,
      "metadata": {
        "trusted": true
      },
      "outputs": [
        {
          "data": {
            "text/html": [
              "<div>\n",
              "<table border=\"1\" class=\"dataframe\">\n",
              "  <thead>\n",
              "    <tr style=\"text-align: right;\">\n",
              "      <th></th>\n",
              "      <th>Unnamed: 0</th>\n",
              "      <th>Rank</th>\n",
              "      <th>Team</th>\n",
              "      <th>GP</th>\n",
              "      <th>Won</th>\n",
              "      <th>Lost</th>\n",
              "      <th>Tied</th>\n",
              "      <th>Pct.</th>\n",
              "      <th>First NFL Season</th>\n",
              "      <th>Division</th>\n",
              "      <th>Stadium</th>\n",
              "      <th>StadiumNumber</th>\n",
              "    </tr>\n",
              "  </thead>\n",
              "  <tbody>\n",
              "    <tr>\n",
              "      <th>0</th>\n",
              "      <td>0</td>\n",
              "      <td>1</td>\n",
              "      <td>Dallas Cowboys</td>\n",
              "      <td>882</td>\n",
              "      <td>502</td>\n",
              "      <td>374</td>\n",
              "      <td>6</td>\n",
              "      <td>0.573</td>\n",
              "      <td>1960</td>\n",
              "      <td>NFC East</td>\n",
              "      <td>Levi's Stadium</td>\n",
              "      <td>0</td>\n",
              "    </tr>\n",
              "    <tr>\n",
              "      <th>1</th>\n",
              "      <td>1</td>\n",
              "      <td>2</td>\n",
              "      <td>Green Bay Packers</td>\n",
              "      <td>1,336</td>\n",
              "      <td>737</td>\n",
              "      <td>562</td>\n",
              "      <td>37</td>\n",
              "      <td>0.565</td>\n",
              "      <td>1921</td>\n",
              "      <td>NFC North</td>\n",
              "      <td>Levi's Stadium</td>\n",
              "      <td>1</td>\n",
              "    </tr>\n",
              "    <tr>\n",
              "      <th>2</th>\n",
              "      <td>2</td>\n",
              "      <td>3</td>\n",
              "      <td>Chicago Bears</td>\n",
              "      <td>1,370</td>\n",
              "      <td>749</td>\n",
              "      <td>579</td>\n",
              "      <td>42</td>\n",
              "      <td>0.562</td>\n",
              "      <td>1920</td>\n",
              "      <td>NFC North</td>\n",
              "      <td>Levi's Stadium</td>\n",
              "      <td>2</td>\n",
              "    </tr>\n",
              "    <tr>\n",
              "      <th>3</th>\n",
              "      <td>3</td>\n",
              "      <td>4</td>\n",
              "      <td>Miami Dolphins</td>\n",
              "      <td>800</td>\n",
              "      <td>445</td>\n",
              "      <td>351</td>\n",
              "      <td>4</td>\n",
              "      <td>0.559</td>\n",
              "      <td>1966</td>\n",
              "      <td>AFC East</td>\n",
              "      <td>Levi's Stadium</td>\n",
              "      <td>3</td>\n",
              "    </tr>\n",
              "    <tr>\n",
              "      <th>4</th>\n",
              "      <td>4</td>\n",
              "      <td>5</td>\n",
              "      <td>New England Patriots[b]</td>\n",
              "      <td>884</td>\n",
              "      <td>489</td>\n",
              "      <td>386</td>\n",
              "      <td>9</td>\n",
              "      <td>0.558</td>\n",
              "      <td>1960</td>\n",
              "      <td>AFC East</td>\n",
              "      <td>Levi's Stadium</td>\n",
              "      <td>4</td>\n",
              "    </tr>\n",
              "    <tr>\n",
              "      <th>5</th>\n",
              "      <td>5</td>\n",
              "      <td>6</td>\n",
              "      <td>Minnesota Vikings</td>\n",
              "      <td>870</td>\n",
              "      <td>470</td>\n",
              "      <td>390</td>\n",
              "      <td>10</td>\n",
              "      <td>0.546</td>\n",
              "      <td>1961</td>\n",
              "      <td>NFC North</td>\n",
              "      <td>Levi's Stadium</td>\n",
              "      <td>5</td>\n",
              "    </tr>\n",
              "    <tr>\n",
              "      <th>6</th>\n",
              "      <td>6</td>\n",
              "      <td>7</td>\n",
              "      <td>Baltimore Ravens</td>\n",
              "      <td>352</td>\n",
              "      <td>190</td>\n",
              "      <td>161</td>\n",
              "      <td>1</td>\n",
              "      <td>0.541</td>\n",
              "      <td>1996</td>\n",
              "      <td>AFC North</td>\n",
              "      <td>Levi's Stadium</td>\n",
              "      <td>6</td>\n",
              "    </tr>\n",
              "    <tr>\n",
              "      <th>7</th>\n",
              "      <td>7</td>\n",
              "      <td>8</td>\n",
              "      <td>New York Giants</td>\n",
              "      <td>1,305</td>\n",
              "      <td>687</td>\n",
              "      <td>585</td>\n",
              "      <td>33</td>\n",
              "      <td>0.539</td>\n",
              "      <td>1925</td>\n",
              "      <td>NFC East</td>\n",
              "      <td>Levi's Stadium</td>\n",
              "      <td>7</td>\n",
              "    </tr>\n",
              "    <tr>\n",
              "      <th>8</th>\n",
              "      <td>8</td>\n",
              "      <td>9</td>\n",
              "      <td>Denver Broncos</td>\n",
              "      <td>884</td>\n",
              "      <td>470</td>\n",
              "      <td>404</td>\n",
              "      <td>10</td>\n",
              "      <td>0.537</td>\n",
              "      <td>1960</td>\n",
              "      <td>AFC West</td>\n",
              "      <td>Levi's Stadium</td>\n",
              "      <td>8</td>\n",
              "    </tr>\n",
              "    <tr>\n",
              "      <th>9</th>\n",
              "      <td>9</td>\n",
              "      <td>10</td>\n",
              "      <td>San Francisco 49ers</td>\n",
              "      <td>1,002</td>\n",
              "      <td>528</td>\n",
              "      <td>460</td>\n",
              "      <td>14</td>\n",
              "      <td>0.534</td>\n",
              "      <td>1950</td>\n",
              "      <td>NFC West</td>\n",
              "      <td>Levi's Stadium</td>\n",
              "      <td>9</td>\n",
              "    </tr>\n",
              "    <tr>\n",
              "      <th>10</th>\n",
              "      <td>10</td>\n",
              "      <td>11</td>\n",
              "      <td>Pittsburgh Steelers</td>\n",
              "      <td>1,179</td>\n",
              "      <td>614</td>\n",
              "      <td>538</td>\n",
              "      <td>20</td>\n",
              "      <td>0.532</td>\n",
              "      <td>1933</td>\n",
              "      <td>AFC North</td>\n",
              "      <td>Levi's Stadium</td>\n",
              "      <td>10</td>\n",
              "    </tr>\n",
              "    <tr>\n",
              "      <th>11</th>\n",
              "      <td>11</td>\n",
              "      <td>12</td>\n",
              "      <td>Oakland Raiders</td>\n",
              "      <td>884</td>\n",
              "      <td>462</td>\n",
              "      <td>411</td>\n",
              "      <td>11</td>\n",
              "      <td>0.529</td>\n",
              "      <td>1960</td>\n",
              "      <td>AFC West</td>\n",
              "      <td>Levi's Stadium</td>\n",
              "      <td>11</td>\n",
              "    </tr>\n",
              "  </tbody>\n",
              "</table>\n",
              "</div>"
            ],
            "text/plain": [
              "    Unnamed: 0  Rank                     Team     GP  Won  Lost  Tied   Pct.  \\\n",
              "0            0     1           Dallas Cowboys    882  502   374     6  0.573   \n",
              "1            1     2        Green Bay Packers  1,336  737   562    37  0.565   \n",
              "2            2     3            Chicago Bears  1,370  749   579    42  0.562   \n",
              "3            3     4           Miami Dolphins    800  445   351     4  0.559   \n",
              "4            4     5  New England Patriots[b]    884  489   386     9  0.558   \n",
              "5            5     6        Minnesota Vikings    870  470   390    10  0.546   \n",
              "6            6     7         Baltimore Ravens    352  190   161     1  0.541   \n",
              "7            7     8          New York Giants  1,305  687   585    33  0.539   \n",
              "8            8     9           Denver Broncos    884  470   404    10  0.537   \n",
              "9            9    10      San Francisco 49ers  1,002  528   460    14  0.534   \n",
              "10          10    11      Pittsburgh Steelers  1,179  614   538    20  0.532   \n",
              "11          11    12          Oakland Raiders    884  462   411    11  0.529   \n",
              "\n",
              "    First NFL Season   Division         Stadium  StadiumNumber  \n",
              "0               1960   NFC East  Levi's Stadium              0  \n",
              "1               1921  NFC North  Levi's Stadium              1  \n",
              "2               1920  NFC North  Levi's Stadium              2  \n",
              "3               1966   AFC East  Levi's Stadium              3  \n",
              "4               1960   AFC East  Levi's Stadium              4  \n",
              "5               1961  NFC North  Levi's Stadium              5  \n",
              "6               1996  AFC North  Levi's Stadium              6  \n",
              "7               1925   NFC East  Levi's Stadium              7  \n",
              "8               1960   AFC West  Levi's Stadium              8  \n",
              "9               1950   NFC West  Levi's Stadium              9  \n",
              "10              1933  AFC North  Levi's Stadium             10  \n",
              "11              1960   AFC West  Levi's Stadium             11  "
            ]
          },
          "execution_count": 61,
          "metadata": {},
          "output_type": "execute_result"
        }
      ],
      "source": [
        "nfl_frame"
      ]
    },
    {
      "cell_type": "code",
      "execution_count": null,
      "metadata": {
        "trusted": true
      },
      "outputs": [],
      "source": [
        "nfl_frame['Total2'] = nfl_frame['Won'] + nfl_frame.Lost # create a new column by applying some calculations to existing columns"
      ]
    },
    {
      "cell_type": "code",
      "execution_count": null,
      "metadata": {
        "trusted": true
      },
      "outputs": [],
      "source": [
        "nfl_frame"
      ]
    },
    {
      "cell_type": "code",
      "execution_count": null,
      "metadata": {
        "trusted": true
      },
      "outputs": [],
      "source": [
        "del nfl_frame['StadiumNumber']"
      ]
    },
    {
      "cell_type": "code",
      "execution_count": null,
      "metadata": {},
      "outputs": [],
      "source": [
        "# alternative del , drop command , which is used to drop columns from pandas dataframe\n",
        "\n",
        "nfl_frame.drop(['StadiumNumber'],axis=1)"
      ]
    },
    {
      "cell_type": "code",
      "execution_count": null,
      "metadata": {
        "trusted": true
      },
      "outputs": [],
      "source": [
        "nfl_frame"
      ]
    },
    {
      "cell_type": "code",
      "execution_count": null,
      "metadata": {
        "trusted": true
      },
      "outputs": [],
      "source": [
        "del nfl_frame['Stadium']"
      ]
    },
    {
      "cell_type": "code",
      "execution_count": null,
      "metadata": {
        "trusted": true
      },
      "outputs": [],
      "source": [
        "nfl_frame"
      ]
    },
    {
      "cell_type": "code",
      "execution_count": 63,
      "metadata": {
        "trusted": true
      },
      "outputs": [
        {
          "data": {
            "text/plain": [
              "{'LA': 3880000.0, 'NYC': 8400000.0, 'SF': 837000.0}"
            ]
          },
          "execution_count": 63,
          "metadata": {},
          "output_type": "execute_result"
        }
      ],
      "source": [
        "old_dict = {'SF':8.37e5,'LA':3.88e6,'NYC':8.4e6}\n",
        "old_dict"
      ]
    },
    {
      "cell_type": "code",
      "execution_count": 64,
      "metadata": {
        "trusted": true
      },
      "outputs": [],
      "source": [
        "old = DataFrame(old_dict,index=old_dict.keys())"
      ]
    },
    {
      "cell_type": "code",
      "execution_count": 65,
      "metadata": {
        "trusted": true
      },
      "outputs": [
        {
          "data": {
            "text/html": [
              "<div>\n",
              "<table border=\"1\" class=\"dataframe\">\n",
              "  <thead>\n",
              "    <tr style=\"text-align: right;\">\n",
              "      <th></th>\n",
              "      <th>LA</th>\n",
              "      <th>NYC</th>\n",
              "      <th>SF</th>\n",
              "    </tr>\n",
              "  </thead>\n",
              "  <tbody>\n",
              "    <tr>\n",
              "      <th>SF</th>\n",
              "      <td>3880000.0</td>\n",
              "      <td>8400000.0</td>\n",
              "      <td>837000.0</td>\n",
              "    </tr>\n",
              "    <tr>\n",
              "      <th>LA</th>\n",
              "      <td>3880000.0</td>\n",
              "      <td>8400000.0</td>\n",
              "      <td>837000.0</td>\n",
              "    </tr>\n",
              "    <tr>\n",
              "      <th>NYC</th>\n",
              "      <td>3880000.0</td>\n",
              "      <td>8400000.0</td>\n",
              "      <td>837000.0</td>\n",
              "    </tr>\n",
              "  </tbody>\n",
              "</table>\n",
              "</div>"
            ],
            "text/plain": [
              "            LA        NYC        SF\n",
              "SF   3880000.0  8400000.0  837000.0\n",
              "LA   3880000.0  8400000.0  837000.0\n",
              "NYC  3880000.0  8400000.0  837000.0"
            ]
          },
          "execution_count": 65,
          "metadata": {},
          "output_type": "execute_result"
        }
      ],
      "source": [
        "old"
      ]
    },
    {
      "cell_type": "code",
      "execution_count": 66,
      "metadata": {
        "trusted": true
      },
      "outputs": [],
      "source": [
        "data_dict = {'City':['SF','LA','NYC'],'Population':[8.37e5,3.88e6,8.4e6]} # create a dictionary"
      ]
    },
    {
      "cell_type": "code",
      "execution_count": 67,
      "metadata": {
        "trusted": true
      },
      "outputs": [
        {
          "data": {
            "text/plain": [
              "{'City': ['SF', 'LA', 'NYC'], 'Population': [837000.0, 3880000.0, 8400000.0]}"
            ]
          },
          "execution_count": 67,
          "metadata": {},
          "output_type": "execute_result"
        }
      ],
      "source": [
        "data_dict"
      ]
    },
    {
      "cell_type": "code",
      "execution_count": 69,
      "metadata": {
        "trusted": true
      },
      "outputs": [],
      "source": [
        "city_frame = DataFrame(data_dict) #create a data frame from a dictionary"
      ]
    },
    {
      "cell_type": "code",
      "execution_count": null,
      "metadata": {
        "trusted": true
      },
      "outputs": [],
      "source": [
        "city_frame"
      ]
    },
    {
      "cell_type": "markdown",
      "metadata": {},
      "source": [
        "## End of part 3"
      ]
    }
  ],
  "metadata": {
    "kernelspec": {
      "display_name": "Python 3",
      "language": "python",
      "name": "python3"
    },
    "language_info": {
      "codemirror_mode": {
        "name": "ipython",
        "version": 3
      },
      "file_extension": ".py",
      "mimetype": "text/x-python",
      "name": "python",
      "nbconvert_exporter": "python",
      "pygments_lexer": "ipython3",
      "version": "3.5.4"
    }
  },
  "nbformat": 4,
  "nbformat_minor": 1
}
