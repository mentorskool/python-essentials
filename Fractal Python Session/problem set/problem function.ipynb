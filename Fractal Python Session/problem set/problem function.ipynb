{
 "cells": [
  {
   "cell_type": "markdown",
   "metadata": {},
   "source": [
    "### Write a Python program to print the even numbers from a given list. \n",
    "\n",
    "Sample List : [1, 2, 3, 4, 5, 6, 7, 8, 9]\n",
    "\n",
    "Expected Result : [2, 4, 6, 8]"
   ]
  },
  {
   "cell_type": "code",
   "execution_count": null,
   "metadata": {},
   "outputs": [],
   "source": [
    "#try your code here"
   ]
  },
  {
   "cell_type": "markdown",
   "metadata": {},
   "source": [
    "### Write a Python function that takes a list and returns a new list with unique elements of the first list.\n",
    "\n",
    "Sample List : [1,2,3,3,3,3,4,5]\n",
    "\n",
    "Unique List : [1, 2, 3, 4, 5]"
   ]
  },
  {
   "cell_type": "code",
   "execution_count": null,
   "metadata": {},
   "outputs": [],
   "source": [
    "#try your code here\n"
   ]
  },
  {
   "cell_type": "markdown",
   "metadata": {},
   "source": [
    "### Write a Python function to create and print a list where the values are square of numbers between 1 and 30 (both included)."
   ]
  },
  {
   "cell_type": "code",
   "execution_count": null,
   "metadata": {},
   "outputs": [],
   "source": [
    "#try your code here"
   ]
  },
  {
   "cell_type": "markdown",
   "metadata": {},
   "source": [
    "### Write a Python function that accepts a string and calculate the number of upper case letters and lower case letters.\n",
    "\n",
    "Sample String : 'The quick Brow Fox'\n",
    "\n",
    "Expected Output :\n",
    "\n",
    "No. of Upper case characters : 3\n",
    "\n",
    "No. of Lower case Characters : 13"
   ]
  },
  {
   "cell_type": "code",
   "execution_count": 1,
   "metadata": {},
   "outputs": [
    {
     "name": "stdout",
     "output_type": "stream",
     "text": [
      "Original String :  The quick Brown Fox\n",
      "No. of Upper case characters :  3\n",
      "No. of Lower case Characters :  13\n"
     ]
    }
   ],
   "source": [
    "#try your code here"
   ]
  },
  {
   "cell_type": "markdown",
   "metadata": {},
   "source": [
    "### Write a Python program to create a function that takes one argument, and that argument will be multiplied with an unknown given number.\n",
    "\n",
    "Sample Output:\n",
    "\n",
    "Double the number of 15 = 30\n",
    "\n",
    "Triple the number of 15 = 45\n",
    "\n",
    "Quadruple the number of 15 = 60\n",
    "\n",
    "Quintuple the number 15 = 75"
   ]
  },
  {
   "cell_type": "code",
   "execution_count": null,
   "metadata": {},
   "outputs": [],
   "source": [
    "#try your code here"
   ]
  },
  {
   "cell_type": "markdown",
   "metadata": {},
   "source": [
    "### Write a Python program to filter a list of integers using Lambda. \n",
    "\n",
    "Original list of integers:\n",
    "[1, 2, 3, 4, 5, 6, 7, 8, 9, 10]\n",
    "\n",
    "Even numbers from the said list:\n",
    "[2, 4, 6, 8, 10]\n",
    "\n",
    "Odd numbers from the said list:\n",
    "[1, 3, 5, 7, 9]"
   ]
  },
  {
   "cell_type": "code",
   "execution_count": null,
   "metadata": {},
   "outputs": [],
   "source": [
    "#try your code here"
   ]
  },
  {
   "cell_type": "markdown",
   "metadata": {},
   "source": [
    "### Write a Python program to find intersection of two given arrays using Lambda.\n",
    "\n",
    "Original arrays:\n",
    "\n",
    "[1, 2, 3, 5, 7, 8, 9, 10]\n",
    "\n",
    "[1, 2, 4, 8, 9]\n",
    "\n",
    "Intersection of the said arrays: [1, 2, 8, 9]"
   ]
  },
  {
   "cell_type": "code",
   "execution_count": null,
   "metadata": {},
   "outputs": [],
   "source": [
    "#try your code here"
   ]
  }
 ],
 "metadata": {
  "interpreter": {
   "hash": "68876b6383b62dc997f1e2adc12eb301a61958dc7fa62c10c14261960fd63dae"
  },
  "kernelspec": {
   "display_name": "Python 3 (ipykernel)",
   "language": "python",
   "name": "python3"
  },
  "language_info": {
   "codemirror_mode": {
    "name": "ipython",
    "version": 3
   },
   "file_extension": ".py",
   "mimetype": "text/x-python",
   "name": "python",
   "nbconvert_exporter": "python",
   "pygments_lexer": "ipython3",
   "version": "3.7.11"
  }
 },
 "nbformat": 4,
 "nbformat_minor": 4
}
