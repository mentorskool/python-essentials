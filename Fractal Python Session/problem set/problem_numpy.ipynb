{
 "cells": [
  {
   "cell_type": "markdown",
   "metadata": {},
   "source": [
    "### Write a NumPy program to generate five random numbers from the normal distribution.\n",
    "\n",
    "Expected Output:\n",
    "[-0.43262625 -1.10836787 1.80791413 0.69287463 -0.53742101]"
   ]
  },
  {
   "cell_type": "code",
   "execution_count": null,
   "metadata": {},
   "outputs": [],
   "source": [
    "#try your code here"
   ]
  },
  {
   "cell_type": "markdown",
   "metadata": {},
   "source": [
    "### Write a NumPy program to generate six random integers between 10 and 30.\n",
    "\n",
    "Expected Output:\n",
    "[20 28 27 17 28 29]"
   ]
  },
  {
   "cell_type": "code",
   "execution_count": null,
   "metadata": {},
   "outputs": [],
   "source": [
    "#try your code here"
   ]
  },
  {
   "cell_type": "markdown",
   "metadata": {},
   "source": [
    "### Write a NumPy program to get the powers of an array values element-wise. \n",
    "\n",
    "Note: First array elements raised to powers from second array\n",
    "\n",
    "Expected Output:\n",
    "\n",
    "Original array\n",
    "[0 1 2 3 4 5 6]\n",
    "\n",
    "First array elements raised to powers from second array, element-wise:\n",
    "[ 0 1 8 27 64 125 216]"
   ]
  },
  {
   "cell_type": "code",
   "execution_count": null,
   "metadata": {},
   "outputs": [],
   "source": [
    "#try your code here"
   ]
  },
  {
   "cell_type": "markdown",
   "metadata": {},
   "source": [
    "### Write a NumPy program to repeat all the elements three times of a given array of string \n",
    "\n",
    "Expected Output:\n",
    "\n",
    "Original Array:\n",
    "['Python' 'PHP' 'Java' 'C++']\n",
    "\n",
    "New array:\n",
    "['PythonPythonPython' 'PHPPHPPHP' 'JavaJavaJava' 'C++C++C++']"
   ]
  },
  {
   "cell_type": "code",
   "execution_count": null,
   "metadata": {},
   "outputs": [],
   "source": [
    "#try your code here"
   ]
  },
  {
   "cell_type": "markdown",
   "metadata": {},
   "source": [
    "### Write a NumPy program to remove the leading whitespaces of all the elements of a given array. \n",
    "\n",
    "Sample Output:\n",
    "\n",
    "Original Array:\n",
    "[' python exercises ' ,' PHP ' ,' java ' ,' C++']\n",
    "\n",
    "Remove the leading whitespaces : ['python exercises ', 'PHP ' ,'java ' ,'C++']"
   ]
  },
  {
   "cell_type": "code",
   "execution_count": null,
   "metadata": {},
   "outputs": [],
   "source": [
    "#try your code here"
   ]
  },
  {
   "cell_type": "markdown",
   "metadata": {},
   "source": [
    "### Write a NumPy program to sort the specified number of elements from beginning of a given array. \n",
    "\n",
    "Sample output:\n",
    "\n",
    "Original array:\n",
    "[0.39536213 0.11779404 0.32612381 0.16327394 0.98837963 0.25510787 0.01398678 0.15188239 0.12057667 0.67278699]\n",
    "\n",
    "Sorted first 5 elements:\n",
    "[0.01398678 0.11779404 0.12057667 0.15188239 0.16327394 0.25510787 0.39536213 0.98837963 0.32612381 0.67278699]"
   ]
  },
  {
   "cell_type": "code",
   "execution_count": null,
   "metadata": {},
   "outputs": [],
   "source": [
    "#try your code here"
   ]
  }
 ],
 "metadata": {
  "interpreter": {
   "hash": "68876b6383b62dc997f1e2adc12eb301a61958dc7fa62c10c14261960fd63dae"
  },
  "kernelspec": {
   "display_name": "Python 3 (ipykernel)",
   "language": "python",
   "name": "python3"
  },
  "language_info": {
   "codemirror_mode": {
    "name": "ipython",
    "version": 3
   },
   "file_extension": ".py",
   "mimetype": "text/x-python",
   "name": "python",
   "nbconvert_exporter": "python",
   "pygments_lexer": "ipython3",
   "version": "3.7.11"
  }
 },
 "nbformat": 4,
 "nbformat_minor": 4
}
