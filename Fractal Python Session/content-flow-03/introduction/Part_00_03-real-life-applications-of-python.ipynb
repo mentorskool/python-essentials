{
 "cells": [
  {
   "cell_type": "markdown",
   "metadata": {},
   "source": [
    "## **Web Development**\n",
    "* **Python Framework**\n",
    "<br/><br/>\n",
    "![](https://www.mindinventory.com/blog/wp-content/uploads/2019/07/python-web-framework1200.png)\n",
    "\n"
   ]
  },
  {
   "cell_type": "markdown",
   "metadata": {},
   "source": [
    "###  Wait! Wait! \n",
    "Are you thinking about real time applications?\n",
    "\n",
    "    Ready to be astonished now \n",
    "\n",
    "* **Here we go popular sites made on django**\n",
    "    * Instagram\n",
    "    * YouTube\n",
    "    * Spotify\n",
    "    * NASA Official Website\n",
    "    * National Geographic\n",
    "    * Quora\n",
    "    * Pinterest  \n",
    "<br/><br/>  \n",
    "\n",
    "*clicking the image lead to you the webpage*\n",
    "\n",
    "[![][1]][2]\n",
    "\n",
    "[1]:  https://www.monocubed.com/wp-content/uploads/2021/06/popular-django-website-examples.jpg\n",
    "[2]:  https://djangostars.com/blog/10-popular-sites-made-on-django/\n"
   ]
  },
  {
   "cell_type": "markdown",
   "metadata": {},
   "source": [
    "### Ok!! Are you thinking why python framework?\n",
    "\n",
    "*clicking the image lead to you the webpage*\n",
    "\n",
    "[![][1]][2]\n",
    "\n",
    "[1]:  https://www.monocubed.com/wp-content/uploads/2021/04/why-do-companies-use-django.png\n",
    "[2]:  https://www.mindinventory.com/blog/best-python-web-frameworks/"
   ]
  },
  {
   "cell_type": "markdown",
   "metadata": {},
   "source": [
    "***"
   ]
  },
  {
   "cell_type": "markdown",
   "metadata": {},
   "source": [
    "## **Game Development**\n",
    "* **Python Frameworks**\n",
    "<br/><br/>\n",
    "![](https://artistixeit.com/assets/front/img/service_icon/641643795360.jpg)"
   ]
  },
  {
   "cell_type": "markdown",
   "metadata": {},
   "source": [
    "### Yeah I know ! you are curious to know about games\n",
    "\n",
    "* **These are some of the games in which Python was used either for logic or server controls or both.**\n",
    "    * Battle Field 2 and 2142\n",
    "    * Battlefield Heroes\n",
    "    * BalazarBrothers\n",
    "    * Freedom Force\n",
    "    * pydance\n",
    "    * Disney's Toontown MMORPG\n",
    "    * Snakeworlds (3D snake game)\n",
    "\n",
    "\n",
    "\n",
    "\n"
   ]
  },
  {
   "cell_type": "markdown",
   "metadata": {},
   "source": [
    "***"
   ]
  },
  {
   "cell_type": "markdown",
   "metadata": {},
   "source": [
    "### Machine Learning and Artificial Intelligence\n",
    "* **Python Frameworks**\n",
    "\n",
    "*clicking the image lead to you the webpage*\n",
    "\n",
    "[![][1]][2]\n",
    "\n",
    "[1]:  https://miro.medium.com/max/1400/1*RIrPOCyMFwFC-XULbja3rw.png\n",
    "[2]:  https://www.botreetechnologies.com/blog/top-11-python-frameworks-for-machine-learning-and-deep-learning/"
   ]
  },
  {
   "cell_type": "markdown",
   "metadata": {},
   "source": [
    "### I know you confused why Python more popular than R in AI?\n",
    "\n",
    "*clicking the image lead to you the webpage*\n",
    "\n",
    "[![][1]][2]\n",
    "\n",
    "[1]:  https://static.javatpoint.com/tutorial/r/images/r-vs-python.png\n",
    "[2]:  https://towardsdatascience.com/python-is-better-than-r-f7bb963a1c85\n",
    "\n",
    "*clicking the image lead to you the webpage*\n",
    "\n",
    "[![][3]][4]\n",
    "\n",
    "[3]:  https://www.botreetechnologies.com/blog/wp-content/uploads/2021/09/why-python-is-most-popular-language-for-machine-learning.png\n",
    "[4]:  https://www.edureka.co/blog/machine-learning-applications/\n"
   ]
  },
  {
   "cell_type": "markdown",
   "metadata": {},
   "source": [
    "***"
   ]
  },
  {
   "cell_type": "markdown",
   "metadata": {},
   "source": [
    "## Web Scraping Applications\n",
    "* **Python Frameworks**\n",
    "\n",
    "*clicking the image lead to you the webpage*\n",
    "\n",
    "[![][1]][2]\n",
    "\n",
    "[1]:  https://miro.medium.com/max/1400/1*1QcqrOoDE1rKa0NTp1iEtw.png\n",
    "[2]:  https://analyticsindiamag.com/top-7-python-web-scraping-tools-for-data-scientists/"
   ]
  }
 ],
 "metadata": {
  "language_info": {
   "name": "python"
  },
  "orig_nbformat": 4
 },
 "nbformat": 4,
 "nbformat_minor": 2
}
