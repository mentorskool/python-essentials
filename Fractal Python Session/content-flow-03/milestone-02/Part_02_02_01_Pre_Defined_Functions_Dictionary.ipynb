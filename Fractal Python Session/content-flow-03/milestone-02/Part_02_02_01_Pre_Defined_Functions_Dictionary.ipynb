{
 "cells": [
  {
   "cell_type": "markdown",
   "metadata": {},
   "source": [
    "## **Dictionary**"
   ]
  },
  {
   "cell_type": "markdown",
   "metadata": {},
   "source": [
    "Python has a set of built-in methods that you can use on dictionaries."
   ]
  },
  {
   "cell_type": "markdown",
   "metadata": {},
   "source": [
    "* *clear( )*"
   ]
  },
  {
   "cell_type": "code",
   "execution_count": 4,
   "metadata": {},
   "outputs": [
    {
     "name": "stdout",
     "output_type": "stream",
     "text": [
      "{}\n"
     ]
    }
   ],
   "source": [
    "#Removes all the elements from the dictionary\n",
    "\n",
    "my_dict = {'New York':28,'Chicago':22,'Phoenix':31,'Dallas':27,'Los Angeles':32}\n",
    "my_dict.clear()\n",
    "print(my_dict)\n"
   ]
  },
  {
   "cell_type": "markdown",
   "metadata": {},
   "source": [
    "* *copy( )*"
   ]
  },
  {
   "cell_type": "code",
   "execution_count": 5,
   "metadata": {},
   "outputs": [
    {
     "name": "stdout",
     "output_type": "stream",
     "text": [
      "{'New York': 28, 'Chicago': 22, 'Phoenix': 31, 'Dallas': 27, 'Los Angeles': 32}\n"
     ]
    }
   ],
   "source": [
    "#Returns a copy of the dictionary\n",
    "my_dict = {'New York':28,'Chicago':22,'Phoenix':31,'Dallas':27,'Los Angeles':32}\n",
    "x=my_dict.copy()\n",
    "print(x)"
   ]
  },
  {
   "cell_type": "markdown",
   "metadata": {},
   "source": [
    "* *fromkeys( )*"
   ]
  },
  {
   "cell_type": "code",
   "execution_count": 10,
   "metadata": {},
   "outputs": [
    {
     "name": "stdout",
     "output_type": "stream",
     "text": [
      "new_dict_1 :  {'New York': 30, 'Chicago': 30, 'Phoenix': 30, 'Dallas': 30, 'Los Angeles': 30}\n"
     ]
    }
   ],
   "source": [
    "#Returns a dictionary with the specified keys and value\n",
    "x=('New York','Chicago','Phoenix','Dallas','Los Angeles')\n",
    "y=30\n",
    "new_dict_1=dict.fromkeys(x,y)\n",
    "print('new_dict_1 : ',new_dict_1)"
   ]
  },
  {
   "cell_type": "code",
   "execution_count": 11,
   "metadata": {},
   "outputs": [
    {
     "name": "stdout",
     "output_type": "stream",
     "text": [
      "new_dict_2 :  {'New York': None, 'Chicago': None, 'Phoenix': None, 'Dallas': None, 'Los Angeles': None}\n"
     ]
    }
   ],
   "source": [
    "#Keys required. An iterable specifying the keys of the new dictionary\n",
    "#Values Optional. The value for all keys. Default value is None\n",
    "new_dict_2=dict.fromkeys(x) #values are optional\n",
    "print('new_dict_2 : ',new_dict_2)"
   ]
  },
  {
   "cell_type": "markdown",
   "metadata": {},
   "source": [
    "* *get( )*"
   ]
  },
  {
   "cell_type": "code",
   "execution_count": 12,
   "metadata": {},
   "outputs": [
    {
     "data": {
      "text/plain": [
       "31"
      ]
     },
     "execution_count": 12,
     "metadata": {},
     "output_type": "execute_result"
    }
   ],
   "source": [
    "#Returns the value of the specified key\n",
    "my_dict = {'New York':28,'Chicago':22,'Phoenix':31,'Dallas':27,'Los Angeles':32}\n",
    "my_dict.get('Phoenix')"
   ]
  },
  {
   "cell_type": "markdown",
   "metadata": {},
   "source": [
    "* *items( )*"
   ]
  },
  {
   "cell_type": "code",
   "execution_count": 13,
   "metadata": {},
   "outputs": [
    {
     "data": {
      "text/plain": [
       "dict_items([('New York', 28), ('Chicago', 22), ('Phoenix', 31), ('Dallas', 27), ('Los Angeles', 32)])"
      ]
     },
     "execution_count": 13,
     "metadata": {},
     "output_type": "execute_result"
    }
   ],
   "source": [
    "#Returns a list containing a tuple for each key value pair\n",
    "my_dict = {'New York':28,'Chicago':22,'Phoenix':31,'Dallas':27,'Los Angeles':32}\n",
    "my_dict.items()"
   ]
  },
  {
   "cell_type": "code",
   "execution_count": 15,
   "metadata": {},
   "outputs": [
    {
     "name": "stdout",
     "output_type": "stream",
     "text": [
      "dict_items([('New York', 28), ('Chicago', 22), ('Phoenix', 31), ('Dallas', 27), ('Los Angeles', 32)])\n",
      "dict_items([('New York', 28), ('Chicago', 29), ('Phoenix', 31), ('Dallas', 27), ('Los Angeles', 32)])\n"
     ]
    }
   ],
   "source": [
    "#Update value of dict and see! items() returns updated dict\n",
    "my_dict = {'New York':28,'Chicago':22,'Phoenix':31,'Dallas':27,'Los Angeles':32}\n",
    "\n",
    "x=my_dict.items()\n",
    "print('old: ',x)\n",
    "\n",
    "my_dict['Chicago']=29\n",
    "print('updated :',x)"
   ]
  },
  {
   "cell_type": "markdown",
   "metadata": {},
   "source": [
    "* *keys( )*"
   ]
  },
  {
   "cell_type": "code",
   "execution_count": 16,
   "metadata": {},
   "outputs": [
    {
     "data": {
      "text/plain": [
       "dict_keys(['New York', 'Chicago', 'Phoenix', 'Dallas', 'Los Angeles'])"
      ]
     },
     "execution_count": 16,
     "metadata": {},
     "output_type": "execute_result"
    }
   ],
   "source": [
    "#Returns a list containing the dictionary's keys\n",
    "my_dict = {'New York':28,'Chicago':22,'Phoenix':31,'Dallas':27,'Los Angeles':32}\n",
    "my_dict.keys()"
   ]
  },
  {
   "cell_type": "code",
   "execution_count": 17,
   "metadata": {},
   "outputs": [
    {
     "name": "stdout",
     "output_type": "stream",
     "text": [
      "old:  dict_keys(['New York', 'Chicago', 'Phoenix', 'Dallas', 'Los Angeles'])\n",
      "updated : dict_keys(['New York', 'Chicago', 'Phoenix', 'Dallas', 'Los Angeles', 'Tokyo'])\n"
     ]
    }
   ],
   "source": [
    "#Update value of dict and see! keys() returns updated dict\n",
    "my_dict = {'New York':28,'Chicago':22,'Phoenix':31,'Dallas':27,'Los Angeles':32}\n",
    "\n",
    "x=my_dict.keys()\n",
    "print('old: ',x)\n",
    "\n",
    "my_dict['Tokyo']=29\n",
    "print('updated :',x)"
   ]
  },
  {
   "cell_type": "markdown",
   "metadata": {},
   "source": [
    "* *values( )*"
   ]
  },
  {
   "cell_type": "code",
   "execution_count": 34,
   "metadata": {},
   "outputs": [
    {
     "data": {
      "text/plain": [
       "dict_values([28, 22, 31, 27, 32])"
      ]
     },
     "execution_count": 34,
     "metadata": {},
     "output_type": "execute_result"
    }
   ],
   "source": [
    "#Returns a list containing the dictionary's values\n",
    "my_dict = {'New York':28,'Chicago':22,'Phoenix':31,'Dallas':27,'Los Angeles':32}\n",
    "my_dict.values()"
   ]
  },
  {
   "cell_type": "markdown",
   "metadata": {},
   "source": [
    "* *pop( )*"
   ]
  },
  {
   "cell_type": "code",
   "execution_count": 18,
   "metadata": {},
   "outputs": [
    {
     "name": "stdout",
     "output_type": "stream",
     "text": [
      "{'New York': 28, 'Phoenix': 31, 'Dallas': 27, 'Los Angeles': 32}\n"
     ]
    }
   ],
   "source": [
    "#Removes the element with the specified key\n",
    "my_dict = {'New York':28,'Chicago':22,'Phoenix':31,'Dallas':27,'Los Angeles':32}\n",
    "my_dict.pop('Chicago')\n",
    "print(my_dict)"
   ]
  },
  {
   "cell_type": "code",
   "execution_count": 19,
   "metadata": {},
   "outputs": [
    {
     "name": "stdout",
     "output_type": "stream",
     "text": [
      "22\n"
     ]
    }
   ],
   "source": [
    "#Returns the value of the removed item \n",
    "my_dict = {'New York':28,'Chicago':22,'Phoenix':31,'Dallas':27,'Los Angeles':32}\n",
    "x=my_dict.pop('Chicago')\n",
    "print(x)"
   ]
  },
  {
   "cell_type": "markdown",
   "metadata": {},
   "source": [
    "* *popitem( )*"
   ]
  },
  {
   "cell_type": "code",
   "execution_count": 20,
   "metadata": {},
   "outputs": [
    {
     "name": "stdout",
     "output_type": "stream",
     "text": [
      "{'New York': 28, 'Chicago': 22, 'Phoenix': 31, 'Dallas': 27}\n"
     ]
    }
   ],
   "source": [
    "#Removes the last inserted key-value pair\n",
    "my_dict = {'New York':28,'Chicago':22,'Phoenix':31,'Dallas':27,'Los Angeles':32}\n",
    "my_dict.popitem()\n",
    "print(my_dict)"
   ]
  },
  {
   "cell_type": "code",
   "execution_count": 21,
   "metadata": {},
   "outputs": [
    {
     "name": "stdout",
     "output_type": "stream",
     "text": [
      "('Los Angeles', 32)\n"
     ]
    }
   ],
   "source": [
    "#Returns the value of the removed item \n",
    "my_dict = {'New York':28,'Chicago':22,'Phoenix':31,'Dallas':27,'Los Angeles':32}\n",
    "x=my_dict.popitem()\n",
    "print(x)"
   ]
  },
  {
   "cell_type": "markdown",
   "metadata": {},
   "source": [
    "* *setdefault( )*"
   ]
  },
  {
   "cell_type": "code",
   "execution_count": 30,
   "metadata": {},
   "outputs": [
    {
     "name": "stdout",
     "output_type": "stream",
     "text": [
      "29\n",
      "22\n"
     ]
    }
   ],
   "source": [
    "#Returns the value of the specified key. If the key does not exist: insert the key, with the specified value\n",
    "my_dict = {'New York':28,'Chicago':22,'Phoenix':31,'Dallas':27,'Los Angeles':32}\n",
    "x=my_dict.setdefault('Tokyo',29)\n",
    "print(x)\n",
    "y=my_dict.setdefault('Chicago',31)\n",
    "print(y)"
   ]
  },
  {
   "cell_type": "markdown",
   "metadata": {},
   "source": [
    "* *update( )*"
   ]
  },
  {
   "cell_type": "code",
   "execution_count": 32,
   "metadata": {},
   "outputs": [
    {
     "name": "stdout",
     "output_type": "stream",
     "text": [
      "{'New York': 28, 'Chicago': 22, 'Phoenix': 31, 'Dallas': 27, 'Los Angeles': 32, 'Tokyo': 29}\n"
     ]
    }
   ],
   "source": [
    "#Updates the dictionary with the specified key-value pairs\n",
    "my_dict = {'New York':28,'Chicago':22,'Phoenix':31,'Dallas':27,'Los Angeles':32}\n",
    "my_dict.update({'Tokyo':29}) \n",
    "print(my_dict)"
   ]
  }
 ],
 "metadata": {
  "interpreter": {
   "hash": "68876b6383b62dc997f1e2adc12eb301a61958dc7fa62c10c14261960fd63dae"
  },
  "kernelspec": {
   "display_name": "Python 3.7.9 ('jupyterenv': venv)",
   "language": "python",
   "name": "python3"
  },
  "language_info": {
   "codemirror_mode": {
    "name": "ipython",
    "version": 3
   },
   "file_extension": ".py",
   "mimetype": "text/x-python",
   "name": "python",
   "nbconvert_exporter": "python",
   "pygments_lexer": "ipython3",
   "version": "3.7.9"
  },
  "orig_nbformat": 4
 },
 "nbformat": 4,
 "nbformat_minor": 2
}
