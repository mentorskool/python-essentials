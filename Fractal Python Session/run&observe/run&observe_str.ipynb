{
 "cells": [
  {
   "cell_type": "code",
   "execution_count": null,
   "metadata": {},
   "outputs": [],
   "source": [
    "name = str(input(\"Enter your first name: \"))\n",
    "food = str(input(\"Enter your favourite food: \"))\n",
    "f'Hello. My name is {name} and I like {food}.'"
   ]
  },
  {
   "cell_type": "code",
   "execution_count": 2,
   "metadata": {},
   "outputs": [
    {
     "data": {
      "text/plain": [
       "'dlrow olleh'"
      ]
     },
     "execution_count": 2,
     "metadata": {},
     "output_type": "execute_result"
    }
   ],
   "source": [
    "#Reverse the string “hello world”\n",
    "''.join(reversed(\"hello world\"))"
   ]
  },
  {
   "cell_type": "code",
   "execution_count": 3,
   "metadata": {},
   "outputs": [
    {
     "data": {
      "text/plain": [
       "'d-l-r-o-w- -o-l-l-e-h'"
      ]
     },
     "execution_count": 3,
     "metadata": {},
     "output_type": "execute_result"
    }
   ],
   "source": [
    "'-'.join(reversed(\"hello world\"))"
   ]
  },
  {
   "cell_type": "code",
   "execution_count": 4,
   "metadata": {},
   "outputs": [
    {
     "data": {
      "text/plain": [
       "'TigeR'"
      ]
     },
     "execution_count": 4,
     "metadata": {},
     "output_type": "execute_result"
    }
   ],
   "source": [
    "#Uppercase first and last character of a string\n",
    "animal = 'tiger'\n",
    "animal[0].upper() + animal[1:-1] + animal[-1].upper()"
   ]
  },
  {
   "cell_type": "code",
   "execution_count": 5,
   "metadata": {},
   "outputs": [
    {
     "data": {
      "text/plain": [
       "['It was a stormy night', 'The house creeked', 'The wind blew.']"
      ]
     },
     "execution_count": 5,
     "metadata": {},
     "output_type": "execute_result"
    }
   ],
   "source": [
    "#splits a string on line breaks.\n",
    "sentence = \"It was a stormy night\\nThe house creeked\\nThe wind blew.\"\n",
    "sentence.split('\\n')"
   ]
  },
  {
   "cell_type": "code",
   "execution_count": 6,
   "metadata": {},
   "outputs": [
    {
     "data": {
      "text/plain": [
       "['It was a stormy night', 'The house creeked', 'The wind blew.']"
      ]
     },
     "execution_count": 6,
     "metadata": {},
     "output_type": "execute_result"
    }
   ],
   "source": [
    "sentence = \"It was a stormy night\\nThe house creeked\\nThe wind blew.\"\n",
    "sentence.splitlines()"
   ]
  },
  {
   "cell_type": "code",
   "execution_count": 7,
   "metadata": {},
   "outputs": [
    {
     "name": "stdout",
     "output_type": "stream",
     "text": [
      "I like\n",
      "to eat\n",
      "Ilk oetape\n"
     ]
    }
   ],
   "source": [
    "#Slicing a string takes up to 3 arguments, string[start_index:end_index:step]\n",
    "string = 'I like to eat apples'\n",
    "print(string[:6])\n",
    "print(string[7:13])\n",
    "print(string[0:-1:2]) #every 2nd character"
   ]
  },
  {
   "cell_type": "code",
   "execution_count": 8,
   "metadata": {},
   "outputs": [
    {
     "data": {
      "text/plain": [
       "'g'"
      ]
     },
     "execution_count": 8,
     "metadata": {},
     "output_type": "execute_result"
    }
   ],
   "source": [
    "#Return the minimum character in a string\n",
    "#Capitalized characters and characters earlier in the alphabet have lower indexes. \n",
    "# min() will return the character with the lowest index.\n",
    "min('strings')"
   ]
  },
  {
   "cell_type": "code",
   "execution_count": 9,
   "metadata": {},
   "outputs": [
    {
     "name": "stdout",
     "output_type": "stream",
     "text": [
      "string of whitespace    \n",
      "  string of whitespace\n",
      "string of whitespace\n"
     ]
    }
   ],
   "source": [
    "string = '  string of whitespace    '\n",
    "print(string.lstrip())\n",
    "print(string.rstrip())\n",
    "print(string.strip())"
   ]
  },
  {
   "cell_type": "code",
   "execution_count": 10,
   "metadata": {},
   "outputs": [
    {
     "data": {
      "text/plain": [
       "False"
      ]
     },
     "execution_count": 10,
     "metadata": {},
     "output_type": "execute_result"
    }
   ],
   "source": [
    "city = 'New York'\n",
    "city.startswith('New') \n",
    "city.endswith('N')"
   ]
  }
 ],
 "metadata": {
  "interpreter": {
   "hash": "68876b6383b62dc997f1e2adc12eb301a61958dc7fa62c10c14261960fd63dae"
  },
  "kernelspec": {
   "display_name": "Python 3.7.9 ('jupyterenv': venv)",
   "language": "python",
   "name": "python3"
  },
  "language_info": {
   "codemirror_mode": {
    "name": "ipython",
    "version": 3
   },
   "file_extension": ".py",
   "mimetype": "text/x-python",
   "name": "python",
   "nbconvert_exporter": "python",
   "pygments_lexer": "ipython3",
   "version": "3.7.9"
  },
  "orig_nbformat": 4
 },
 "nbformat": 4,
 "nbformat_minor": 2
}
