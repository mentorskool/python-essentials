{
 "cells": [
  {
   "cell_type": "code",
   "execution_count": 2,
   "metadata": {},
   "outputs": [],
   "source": [
    "import numpy as np"
   ]
  },
  {
   "cell_type": "markdown",
   "metadata": {},
   "source": [
    "### Write a NumPy program to create an element-wise comparison (greater, greater_equal, less and less_equal) of two given arrays."
   ]
  },
  {
   "cell_type": "code",
   "execution_count": 3,
   "metadata": {},
   "outputs": [
    {
     "name": "stdout",
     "output_type": "stream",
     "text": [
      "Original numbers:\n",
      "[3 5]\n",
      "[2 5]\n",
      "Comparison - greater\n",
      "[ True False]\n",
      "Comparison - greater_equal\n",
      "[ True  True]\n",
      "Comparison - less\n",
      "[False False]\n",
      "Comparison - less_equal\n",
      "[False  True]\n"
     ]
    }
   ],
   "source": [
    "x = np.array([3, 5])\n",
    "y = np.array([2, 5])\n",
    "print(\"Original numbers:\")\n",
    "print(x)\n",
    "print(y)\n",
    "print(\"Comparison - greater\")\n",
    "print(np.greater(x, y))\n",
    "print(\"Comparison - greater_equal\")\n",
    "print(np.greater_equal(x, y))\n",
    "print(\"Comparison - less\")\n",
    "print(np.less(x, y))\n",
    "print(\"Comparison - less_equal\")\n",
    "print(np.less_equal(x, y))"
   ]
  },
  {
   "cell_type": "markdown",
   "metadata": {},
   "source": [
    "### Write a NumPy program to create a 3x3 identity matrix."
   ]
  },
  {
   "cell_type": "code",
   "execution_count": 4,
   "metadata": {},
   "outputs": [
    {
     "name": "stdout",
     "output_type": "stream",
     "text": [
      "3x3 matrix:\n",
      "[[1. 0. 0.]\n",
      " [0. 1. 0.]\n",
      " [0. 0. 1.]]\n"
     ]
    }
   ],
   "source": [
    "array_2D=np.identity(3)\n",
    "print('3x3 matrix:')\n",
    "print(array_2D)"
   ]
  },
  {
   "cell_type": "markdown",
   "metadata": {},
   "source": [
    "### Write a NumPy program to create a structured array from given student name, height, class and their data types. Now sort the array on height. \n",
    "\n",
    "Sample Output:\n",
    "\n",
    "Original array:\n",
    "\n",
    "[(b'James', 5, 48.5 ) (b'Nail', 6, 52.5 ) (b'Paul', 5, 42.1 )\n",
    "(b'Pit', 5, 40.11)]\n",
    "\n",
    "Sort by height\n",
    "\n",
    "[(b'Pit', 5, 40.11) (b'Paul', 5, 42.1 ) (b'James', 5, 48.5 )\n",
    "(b'Nail', 6, 52.5 )]"
   ]
  },
  {
   "cell_type": "code",
   "execution_count": 5,
   "metadata": {},
   "outputs": [
    {
     "name": "stdout",
     "output_type": "stream",
     "text": [
      "Original array:\n",
      "[(b'James', 5, 48.5 ) (b'Nail', 6, 52.5 ) (b'Paul', 5, 42.1 )\n",
      " (b'Pit', 5, 40.11)]\n",
      "Sort by height\n",
      "[(b'Pit', 5, 40.11) (b'Paul', 5, 42.1 ) (b'James', 5, 48.5 )\n",
      " (b'Nail', 6, 52.5 )]\n"
     ]
    }
   ],
   "source": [
    "data_type = [('name', 'S15'), ('class', int), ('height', float)]\n",
    "students_details = [('James', 5, 48.5), ('Nail', 6, 52.5),('Paul', 5, 42.10), ('Pit', 5, 40.11)]\n",
    "# create a structured array\n",
    "students = np.array(students_details, dtype=data_type)   \n",
    "print(\"Original array:\")\n",
    "print(students)\n",
    "print(\"Sort by height\")\n",
    "print(np.sort(students, order='height')) "
   ]
  },
  {
   "cell_type": "markdown",
   "metadata": {},
   "source": [
    "### Write a NumPy program to get the indices of the sorted elements of a given array. \n",
    "\n",
    "Expected Output:\n",
    "\n",
    "Original array:\n",
    "\n",
    "[1023 5202 6230 1671 1682 5241 4532]\n",
    "\n",
    "Indices of the sorted elements of a given array:\n",
    "\n",
    "[0 3 4 6 1 5 2]"
   ]
  },
  {
   "cell_type": "code",
   "execution_count": 6,
   "metadata": {},
   "outputs": [
    {
     "name": "stdout",
     "output_type": "stream",
     "text": [
      "Original array:\n",
      "[1023 5202 6230 1671 1682 5241 4532]\n",
      "Indices of the sorted elements of a given array:\n",
      "[0 3 4 6 1 5 2]\n"
     ]
    }
   ],
   "source": [
    "student_id = np.array([1023, 5202, 6230, 1671, 1682, 5241, 4532])\n",
    "print(\"Original array:\")\n",
    "print(student_id)\n",
    "i = np.argsort(student_id)\n",
    "print(\"Indices of the sorted elements of a given array:\")\n",
    "print(i)"
   ]
  },
  {
   "cell_type": "markdown",
   "metadata": {},
   "source": [
    "### Write a NumPy program to sort an given array by the nth column.\n",
    "\n",
    "Original array:\n",
    "\n",
    "[[1 5 0]\n",
    "\n",
    "[3 2 5]\n",
    "\n",
    "[8 7 6]]\n",
    "\n",
    "Sort the said array by the nth column:\n",
    "\n",
    "[[3 2 5]\n",
    "\n",
    "[1 5 0]\n",
    "\n",
    "[8 7 6]]"
   ]
  },
  {
   "cell_type": "code",
   "execution_count": 7,
   "metadata": {},
   "outputs": [
    {
     "name": "stdout",
     "output_type": "stream",
     "text": [
      "Original array:\n",
      "\n",
      "[[1 3 0]\n",
      " [0 9 6]\n",
      " [5 8 0]]\n",
      "\n",
      "Sort the said array by the nth column: \n",
      "[[1 3 0]\n",
      " [5 8 0]\n",
      " [0 9 6]]\n"
     ]
    }
   ],
   "source": [
    "print(\"Original array:\\n\")\n",
    "nums = np.random.randint(0,10,(3,3))\n",
    "print(nums)\n",
    "print(\"\\nSort the said array by the nth column: \")\n",
    "print(nums[nums[:,1].argsort()])"
   ]
  },
  {
   "cell_type": "markdown",
   "metadata": {},
   "source": [
    "### Write a NumPy program to get the dates of yesterday, today and tomorrow.\n",
    "\n",
    "Sample Output:\n",
    "\n",
    "Yestraday:  2022-04-11\n",
    "\n",
    "Today:  2022-04-12\n",
    "\n",
    "Tomorrow:  2022-04-13"
   ]
  },
  {
   "cell_type": "code",
   "execution_count": 8,
   "metadata": {},
   "outputs": [
    {
     "name": "stdout",
     "output_type": "stream",
     "text": [
      "Yestraday:  2022-04-11\n",
      "Today:  2022-04-12\n",
      "Tomorrow:  2022-04-13\n"
     ]
    }
   ],
   "source": [
    "yesterday = np.datetime64('today', 'D') - np.timedelta64(1, 'D')\n",
    "print(\"Yestraday: \",yesterday)\n",
    "today     = np.datetime64('today', 'D')\n",
    "print(\"Today: \",today)\n",
    "tomorrow  = np.datetime64('today', 'D') + np.timedelta64(1, 'D')\n",
    "print(\"Tomorrow: \",tomorrow)"
   ]
  },
  {
   "cell_type": "markdown",
   "metadata": {},
   "source": [
    "### Write a NumPy program to find the number of weekdays in March 2017.\n",
    "Note: \"busday\" default of Monday through Friday being valid days.\n",
    "\n",
    "Sample Output:\n",
    "\n",
    "Number of weekdays in March 2022:\n",
    "23"
   ]
  },
  {
   "cell_type": "code",
   "execution_count": 10,
   "metadata": {},
   "outputs": [
    {
     "name": "stdout",
     "output_type": "stream",
     "text": [
      "Number of weekdays in March 2022:\n",
      "23\n"
     ]
    }
   ],
   "source": [
    "print(\"Number of weekdays in March 2022:\")\n",
    "print(np.busday_count('2022-03', '2022-04'))"
   ]
  },
  {
   "cell_type": "markdown",
   "metadata": {},
   "source": [
    "### Write a NumPy program to convert numpy datetime64 to Timestamp.\n",
    "\n",
    "Sample output:\n",
    "\n",
    "Current date:\n",
    "2022-04-12 12:28:12.526553\n",
    "\n",
    "Timestamp:\n",
    "1649766492.526553\n",
    "\n",
    "UTC from Timestamp:\n",
    "2022-04-12 12:28:12.526553"
   ]
  },
  {
   "cell_type": "code",
   "execution_count": 11,
   "metadata": {},
   "outputs": [
    {
     "name": "stdout",
     "output_type": "stream",
     "text": [
      "Current date:\n",
      "2022-04-12 12:28:12.526553\n",
      "Timestamp:\n",
      "1649766492.526553\n",
      "UTC from Timestamp:\n",
      "2022-04-12 12:28:12.526553\n"
     ]
    },
    {
     "name": "stderr",
     "output_type": "stream",
     "text": [
      "d:\\VSPROJECTS\\jupyterenv\\lib\\site-packages\\ipykernel_launcher.py:6: DeprecationWarning: parsing timezone aware datetimes is deprecated; this will raise an error in the future\n",
      "  \n"
     ]
    }
   ],
   "source": [
    "from datetime import datetime\n",
    "dt = datetime.utcnow()\n",
    "print(\"Current date:\")\n",
    "print(dt)\n",
    "dt64 = np.datetime64(dt)\n",
    "ts = (dt64 - np.datetime64('1970-01-01T00:00:00Z')) / np.timedelta64(1, 's')\n",
    "print(\"Timestamp:\")\n",
    "print(ts)\n",
    "print(\"UTC from Timestamp:\")\n",
    "print(datetime.utcfromtimestamp(ts))"
   ]
  },
  {
   "cell_type": "markdown",
   "metadata": {},
   "source": [
    "### Write a NumPy program to get true division of the element-wise array inputs.\n",
    "\n",
    "Expected Output:\n",
    "\n",
    "Original array:\n",
    "[0 1 2 3 4 5 6 7 8 9]\n",
    "\n",
    "Division of the array inputs, element-wise:\n",
    "[ 0. 0.33333333 0.66666667 1. 1.33333333 1.6666666\n",
    "7 2. 2.33333333 2.66666667 3. ]"
   ]
  },
  {
   "cell_type": "code",
   "execution_count": 12,
   "metadata": {},
   "outputs": [
    {
     "name": "stdout",
     "output_type": "stream",
     "text": [
      "Original array:\n",
      "[0 1 2 3 4 5 6 7 8 9]\n",
      "Division of the array inputs, element-wise:\n",
      "[0.         0.33333333 0.66666667 1.         1.33333333 1.66666667\n",
      " 2.         2.33333333 2.66666667 3.        ]\n"
     ]
    }
   ],
   "source": [
    "x = np.arange(10)\n",
    "print(\"Original array:\")\n",
    "print(x)\n",
    "print(\"Division of the array inputs, element-wise:\")\n",
    "print(np.true_divide(x, 3))"
   ]
  },
  {
   "cell_type": "markdown",
   "metadata": {},
   "source": [
    "### Write a NumPy program to get the largest integer smaller or equal to the division of the inputs. \n",
    "\n",
    "Expected Output:\n",
    "\n",
    "Original array:\n",
    "[1.0, 2.0, 3.0, 4.0]\n",
    "\n",
    "Largest integer smaller or equal to the division of the inputs:\n",
    "[ 0. 1. 2. 2.]"
   ]
  },
  {
   "cell_type": "code",
   "execution_count": 13,
   "metadata": {},
   "outputs": [
    {
     "name": "stdout",
     "output_type": "stream",
     "text": [
      "Original array:\n",
      "[1.0, 2.0, 3.0, 4.0]\n",
      "Largest integer smaller or equal to the division of the inputs:\n",
      "[0. 1. 2. 2.]\n"
     ]
    }
   ],
   "source": [
    "x = [1., 2., 3., 4.]\n",
    "print(\"Original array:\")\n",
    "print(x)\n",
    "print(\"Largest integer smaller or equal to the division of the inputs:\")\n",
    "print(np.floor_divide(x, 1.5))"
   ]
  }
 ],
 "metadata": {
  "interpreter": {
   "hash": "68876b6383b62dc997f1e2adc12eb301a61958dc7fa62c10c14261960fd63dae"
  },
  "kernelspec": {
   "display_name": "Python 3 (ipykernel)",
   "language": "python",
   "name": "python3"
  },
  "language_info": {
   "codemirror_mode": {
    "name": "ipython",
    "version": 3
   },
   "file_extension": ".py",
   "mimetype": "text/x-python",
   "name": "python",
   "nbconvert_exporter": "python",
   "pygments_lexer": "ipython3",
   "version": "3.7.11"
  }
 },
 "nbformat": 4,
 "nbformat_minor": 4
}
