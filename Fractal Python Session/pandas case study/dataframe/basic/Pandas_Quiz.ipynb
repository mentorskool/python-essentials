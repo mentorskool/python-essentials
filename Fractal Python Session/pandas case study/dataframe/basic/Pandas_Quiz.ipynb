{
 "cells": [
  {
   "cell_type": "code",
   "execution_count": 1,
   "id": "f1eb5e94-66cd-4110-9075-79f272abeae8",
   "metadata": {},
   "outputs": [],
   "source": [
    "import numpy as np \n",
    "import pandas as pd"
   ]
  },
  {
   "cell_type": "code",
   "execution_count": 2,
   "id": "2fd469c6-045f-4d4e-b84c-d81295b865a2",
   "metadata": {},
   "outputs": [],
   "source": [
    "data = {'animal': ['cat', 'cat', 'snake', 'dog', 'dog', 'cat', 'snake', 'cat', 'dog', 'dog'],\n",
    "        'age': [2.5, 3, 0.5, np.nan, 5, 2, 4.5, np.nan, 7, 3],\n",
    "        'visits': [1, 3, 2, 3, 2, 3, 1, 1, 2, 1],\n",
    "        'priority': ['yes', 'yes', 'no', 'yes', 'no', 'no', 'no', 'yes', 'no', 'no']}\n",
    "\n",
    "labels = ['a', 'b', 'c', 'd', 'e', 'f', 'g', 'h', 'i', 'j']"
   ]
  },
  {
   "cell_type": "markdown",
   "id": "a6916262",
   "metadata": {},
   "source": [
    "### Create a DataFrame df from this dictionary data which has the index labels."
   ]
  },
  {
   "cell_type": "code",
   "execution_count": 3,
   "id": "d23934ba",
   "metadata": {},
   "outputs": [],
   "source": [
    "#try your code here"
   ]
  },
  {
   "cell_type": "markdown",
   "id": "f9769d4e",
   "metadata": {},
   "source": [
    "### Extract basic information from the dataframe"
   ]
  },
  {
   "cell_type": "code",
   "execution_count": 4,
   "id": "65692515",
   "metadata": {},
   "outputs": [],
   "source": [
    "#try your code here"
   ]
  },
  {
   "cell_type": "markdown",
   "id": "7d72367a",
   "metadata": {},
   "source": [
    "### Return the first 3 rows of the DataFrame df"
   ]
  },
  {
   "cell_type": "code",
   "execution_count": 5,
   "id": "a6c54118",
   "metadata": {},
   "outputs": [],
   "source": [
    "#try your code here"
   ]
  },
  {
   "cell_type": "markdown",
   "id": "b1bbf07f",
   "metadata": {},
   "source": [
    "### Select just the 'animal' and 'age' columns from the DataFrame df"
   ]
  },
  {
   "cell_type": "code",
   "execution_count": 6,
   "id": "76facc40",
   "metadata": {},
   "outputs": [],
   "source": [
    "#try your code here"
   ]
  },
  {
   "cell_type": "markdown",
   "id": "96863b2b",
   "metadata": {},
   "source": [
    "### Select the data in rows [3, 4, 8] and in columns ['animal', 'age']"
   ]
  },
  {
   "cell_type": "code",
   "execution_count": 7,
   "id": "4a42e493-6b8a-4980-ba3c-15360718f431",
   "metadata": {},
   "outputs": [],
   "source": [
    "#try your code here"
   ]
  },
  {
   "cell_type": "markdown",
   "id": "3c807bb4",
   "metadata": {},
   "source": [
    "### Select only the rows where the number of visits is greater than 2. (visit>2)"
   ]
  },
  {
   "cell_type": "code",
   "execution_count": 8,
   "id": "1c5494b4",
   "metadata": {},
   "outputs": [],
   "source": [
    "#try your code here"
   ]
  },
  {
   "cell_type": "markdown",
   "id": "0d01af80",
   "metadata": {},
   "source": [
    "### Select the rows where the age is missing"
   ]
  },
  {
   "cell_type": "code",
   "execution_count": 9,
   "id": "51ed70f3",
   "metadata": {},
   "outputs": [],
   "source": [
    "#try your code here"
   ]
  },
  {
   "cell_type": "markdown",
   "id": "6beb8011",
   "metadata": {},
   "source": [
    "### Select the rows where the animal is a cat and the age is less than 3."
   ]
  },
  {
   "cell_type": "code",
   "execution_count": 10,
   "id": "726eb9a4",
   "metadata": {},
   "outputs": [],
   "source": [
    "#try your code here"
   ]
  },
  {
   "cell_type": "markdown",
   "id": "e5b21b16",
   "metadata": {},
   "source": [
    "### Change the age in row 'f' to 1.5."
   ]
  },
  {
   "cell_type": "code",
   "execution_count": 11,
   "id": "b25255e6",
   "metadata": {},
   "outputs": [],
   "source": [
    "#try your code here"
   ]
  },
  {
   "cell_type": "markdown",
   "id": "33572afc",
   "metadata": {},
   "source": [
    "### Calculate the sum of all visits in df (i.e. the total number of visits)."
   ]
  },
  {
   "cell_type": "code",
   "execution_count": 12,
   "id": "93d563a1",
   "metadata": {},
   "outputs": [],
   "source": [
    "#try your code here"
   ]
  },
  {
   "cell_type": "markdown",
   "id": "f7d2a19b",
   "metadata": {},
   "source": [
    "### Calculate the mean age for each different animal in df."
   ]
  },
  {
   "cell_type": "markdown",
   "id": "c6bccffb",
   "metadata": {},
   "source": [
    "https://www.geeksforgeeks.org/python-pandas-dataframe-groupby/"
   ]
  },
  {
   "cell_type": "code",
   "execution_count": 13,
   "id": "d6dd432c",
   "metadata": {},
   "outputs": [],
   "source": [
    "#try your code here"
   ]
  },
  {
   "cell_type": "markdown",
   "id": "4f4f95d4",
   "metadata": {},
   "source": [
    "### Append a new row 'k' to df with your choice of values for each column. "
   ]
  },
  {
   "cell_type": "code",
   "execution_count": 14,
   "id": "76c5e81f",
   "metadata": {},
   "outputs": [],
   "source": [
    "#try your code here"
   ]
  },
  {
   "cell_type": "markdown",
   "id": "0209e295",
   "metadata": {},
   "source": [
    "### Then delete that row to return the original DataFrame."
   ]
  },
  {
   "cell_type": "code",
   "execution_count": 15,
   "id": "bcd8b6f7",
   "metadata": {},
   "outputs": [],
   "source": [
    "#try your code here"
   ]
  },
  {
   "cell_type": "markdown",
   "id": "56d81222",
   "metadata": {},
   "source": [
    "### Count the number of each type of animal in df."
   ]
  },
  {
   "cell_type": "markdown",
   "id": "e6788ee5",
   "metadata": {},
   "source": [
    "https://www.geeksforgeeks.org/python-pandas-series-value_counts/"
   ]
  },
  {
   "cell_type": "code",
   "execution_count": 16,
   "id": "41cfcecc",
   "metadata": {},
   "outputs": [],
   "source": [
    "#try your code here"
   ]
  },
  {
   "cell_type": "markdown",
   "id": "6b9c4ae9",
   "metadata": {},
   "source": [
    "### Sort df first by the values in the 'age' in decending order, then by the value in the 'visits' column in ascending order"
   ]
  },
  {
   "cell_type": "code",
   "execution_count": 17,
   "id": "45657db2",
   "metadata": {},
   "outputs": [],
   "source": [
    "#try your code here"
   ]
  },
  {
   "cell_type": "markdown",
   "id": "864ffd3a",
   "metadata": {},
   "source": [
    "### The 'priority' column contains the values 'yes' and 'no'. Replace this column with a column of boolean values: 'yes' should be True and 'no' should be False."
   ]
  },
  {
   "cell_type": "code",
   "execution_count": 18,
   "id": "80d4df6c",
   "metadata": {},
   "outputs": [],
   "source": [
    "#try your code here"
   ]
  },
  {
   "cell_type": "markdown",
   "id": "c2d40f5b",
   "metadata": {},
   "source": [
    "### a DataFrame df with a column 'A' of integers.\n",
    "### df = pd.DataFrame({'A': [1, 2, 2, 3, 4, 5, 5, 5, 6, 7, 7]})\n",
    "### How do you filter out rows which contain the same integer as the row immediately above?\n",
    "\n",
    "You should be left with a column containing the following values:\n",
    "\n",
    "1, 2, 3, 4, 5, 6, 7"
   ]
  },
  {
   "cell_type": "markdown",
   "id": "378e44de",
   "metadata": {},
   "source": [
    "https://www.geeksforgeeks.org/python-pandas-dataframe-drop_duplicates/"
   ]
  },
  {
   "cell_type": "code",
   "execution_count": 19,
   "id": "8e3f3054",
   "metadata": {},
   "outputs": [],
   "source": [
    "#try your code here"
   ]
  },
  {
   "cell_type": "markdown",
   "id": "635edb30",
   "metadata": {},
   "source": [
    "### Given a DataFrame of random numeric values:\n",
    "\n",
    "df = pd.DataFrame(np.random.random(size=(5, 3)))\n",
    "\n",
    "how do you subtract the row mean from each element in the row?"
   ]
  },
  {
   "cell_type": "code",
   "execution_count": 20,
   "id": "3e48c0b0",
   "metadata": {},
   "outputs": [],
   "source": [
    "#try your code here"
   ]
  },
  {
   "cell_type": "markdown",
   "id": "094b7f52",
   "metadata": {},
   "source": [
    "https://www.geeksforgeeks.org/python-pandas-dataframe-sub/#:~:text=sub()%20function%20is%20used,in%20one%20of%20the%20inputs."
   ]
  },
  {
   "cell_type": "markdown",
   "id": "b5a13ed6",
   "metadata": {},
   "source": [
    "### Suppose you have DataFrame with 10 columns of real numbers, for example:\n",
    "\n",
    "df = pd.DataFrame(np.random.random(size=(5, 10)), columns=list('abcdefghij'))\n",
    "\n",
    "Which column of numbers has the smallest sum? Return that column's label."
   ]
  },
  {
   "cell_type": "markdown",
   "id": "9354b7d9",
   "metadata": {},
   "source": [
    "https://www.geeksforgeeks.org/python-pandas-dataframe-idxmin/"
   ]
  },
  {
   "cell_type": "code",
   "execution_count": 21,
   "id": "485435cd",
   "metadata": {},
   "outputs": [],
   "source": [
    "#try your code here"
   ]
  },
  {
   "cell_type": "markdown",
   "id": "ff477ad7",
   "metadata": {},
   "source": [
    "### How do you count how many unique rows a DataFrame has (i.e. ignore all rows that are duplicates)?\n",
    "df = pd.DataFrame(np.random.randint(0, 2, size=(10, 3)))"
   ]
  },
  {
   "cell_type": "markdown",
   "id": "a36673dc",
   "metadata": {},
   "source": [
    "https://www.geeksforgeeks.org/python-pandas-dataframe-duplicated/"
   ]
  },
  {
   "cell_type": "code",
   "execution_count": 22,
   "id": "7918201f",
   "metadata": {},
   "outputs": [],
   "source": [
    "#try your code here"
   ]
  }
 ],
 "metadata": {
  "kernelspec": {
   "display_name": "Python 3 (ipykernel)",
   "language": "python",
   "name": "python3"
  },
  "language_info": {
   "codemirror_mode": {
    "name": "ipython",
    "version": 3
   },
   "file_extension": ".py",
   "mimetype": "text/x-python",
   "name": "python",
   "nbconvert_exporter": "python",
   "pygments_lexer": "ipython3",
   "version": "3.7.11"
  }
 },
 "nbformat": 4,
 "nbformat_minor": 5
}
