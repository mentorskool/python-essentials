{
 "cells": [
  {
   "cell_type": "markdown",
   "id": "209011eb",
   "metadata": {},
   "source": [
    "### 1.What are the column names?"
   ]
  },
  {
   "cell_type": "code",
   "execution_count": 1,
   "id": "ccd357a5",
   "metadata": {},
   "outputs": [],
   "source": [
    "#try your code here"
   ]
  },
  {
   "cell_type": "markdown",
   "id": "f1485bf9",
   "metadata": {},
   "source": [
    "### 2.How many States (ST) are represented in this data set?"
   ]
  },
  {
   "cell_type": "code",
   "execution_count": 2,
   "id": "03e0cde6",
   "metadata": {},
   "outputs": [],
   "source": [
    "#try your code here"
   ]
  },
  {
   "cell_type": "markdown",
   "id": "7e5402af",
   "metadata": {},
   "source": [
    "### 3.Get a list or array of all the states in the data set."
   ]
  },
  {
   "cell_type": "code",
   "execution_count": 3,
   "id": "23f6c67b",
   "metadata": {},
   "outputs": [],
   "source": [
    "#try your code here"
   ]
  },
  {
   "cell_type": "markdown",
   "id": "c6957a3a",
   "metadata": {},
   "source": [
    "### 4.What are the top 5 states with the most failed banks?"
   ]
  },
  {
   "cell_type": "code",
   "execution_count": 4,
   "id": "deb92c73",
   "metadata": {},
   "outputs": [],
   "source": [
    "#try your code here"
   ]
  },
  {
   "cell_type": "markdown",
   "id": "07ab3a8b",
   "metadata": {},
   "source": [
    "### 5.What are the top 5 acquiring institutions?"
   ]
  },
  {
   "cell_type": "code",
   "execution_count": 5,
   "id": "e20a38b2",
   "metadata": {},
   "outputs": [],
   "source": [
    "#try your code here"
   ]
  },
  {
   "cell_type": "markdown",
   "id": "97140c08",
   "metadata": {},
   "source": [
    "### 6.How many banks has the State Bank of Texas acquired? How many of them were actually in Texas?"
   ]
  },
  {
   "cell_type": "code",
   "execution_count": 6,
   "id": "5cbe5346",
   "metadata": {},
   "outputs": [],
   "source": [
    "#try your code here"
   ]
  },
  {
   "cell_type": "markdown",
   "id": "c48bcc76",
   "metadata": {},
   "source": [
    "### 7.What is the most common city in California for a bank to fail in?"
   ]
  },
  {
   "cell_type": "code",
   "execution_count": 7,
   "id": "9e379a99",
   "metadata": {},
   "outputs": [],
   "source": [
    "#try your code here"
   ]
  },
  {
   "cell_type": "markdown",
   "id": "4e32921d",
   "metadata": {},
   "source": [
    "### 8.How many failed banks don't have the word \"Bank\" in their name?"
   ]
  },
  {
   "cell_type": "code",
   "execution_count": 8,
   "id": "22792b15",
   "metadata": {},
   "outputs": [],
   "source": [
    "#try your code here"
   ]
  },
  {
   "cell_type": "markdown",
   "id": "31e30ffe",
   "metadata": {},
   "source": [
    "### 9.How many bank names start with the letter 's' ?"
   ]
  },
  {
   "cell_type": "code",
   "execution_count": 9,
   "id": "746ae567",
   "metadata": {},
   "outputs": [],
   "source": [
    "#try your code here"
   ]
  },
  {
   "cell_type": "markdown",
   "id": "3f68b28d",
   "metadata": {},
   "source": [
    "### 10.How many CERT values are above 20000 ?"
   ]
  },
  {
   "cell_type": "code",
   "execution_count": 10,
   "id": "5397d38d",
   "metadata": {},
   "outputs": [],
   "source": [
    "#try your code here"
   ]
  },
  {
   "cell_type": "markdown",
   "id": "03b5fc6e",
   "metadata": {},
   "source": [
    "### 11.How many bank names consist of just two words?"
   ]
  },
  {
   "cell_type": "code",
   "execution_count": 11,
   "id": "91eb7477",
   "metadata": {},
   "outputs": [],
   "source": [
    "#try your code here"
   ]
  },
  {
   "cell_type": "code",
   "execution_count": null,
   "id": "6a79a99d",
   "metadata": {},
   "outputs": [],
   "source": []
  }
 ],
 "metadata": {
  "kernelspec": {
   "display_name": "Python 3 (ipykernel)",
   "language": "python",
   "name": "python3"
  },
  "language_info": {
   "codemirror_mode": {
    "name": "ipython",
    "version": 3
   },
   "file_extension": ".py",
   "mimetype": "text/x-python",
   "name": "python",
   "nbconvert_exporter": "python",
   "pygments_lexer": "ipython3",
   "version": "3.7.11"
  }
 },
 "nbformat": 4,
 "nbformat_minor": 5
}
