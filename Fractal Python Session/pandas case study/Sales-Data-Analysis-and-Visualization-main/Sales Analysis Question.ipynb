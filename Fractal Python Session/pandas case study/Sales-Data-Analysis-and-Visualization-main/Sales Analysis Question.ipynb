{
 "cells": [
  {
   "cell_type": "markdown",
   "id": "d75225b0",
   "metadata": {},
   "source": [
    "## GETTING KNOW ABOUT DATASET"
   ]
  },
  {
   "cell_type": "markdown",
   "id": "f63474f8",
   "metadata": {},
   "source": [
    "#### IMPORT LIBRARIES"
   ]
  },
  {
   "cell_type": "code",
   "execution_count": 1,
   "id": "d016c6fc",
   "metadata": {},
   "outputs": [],
   "source": [
    "#try your code here"
   ]
  },
  {
   "cell_type": "markdown",
   "id": "69a78514",
   "metadata": {},
   "source": [
    "#### IMPORT DATASET"
   ]
  },
  {
   "cell_type": "code",
   "execution_count": 2,
   "id": "f9e51398",
   "metadata": {},
   "outputs": [],
   "source": [
    "#try your code here"
   ]
  },
  {
   "cell_type": "markdown",
   "id": "f2d12803",
   "metadata": {},
   "source": [
    "#### DISPLAY DATASET FIRST ROWS"
   ]
  },
  {
   "cell_type": "code",
   "execution_count": 3,
   "id": "d048380b",
   "metadata": {},
   "outputs": [],
   "source": [
    "#try your code here"
   ]
  },
  {
   "cell_type": "markdown",
   "id": "ca343968",
   "metadata": {},
   "source": [
    "#### DISPLAY DATASET LAST ROWS"
   ]
  },
  {
   "cell_type": "code",
   "execution_count": 4,
   "id": "a7319145",
   "metadata": {},
   "outputs": [],
   "source": [
    "#try your code here"
   ]
  },
  {
   "cell_type": "markdown",
   "id": "adec5760",
   "metadata": {},
   "source": [
    "#### GETTING KNOW ABOUT DATSET SHAPE & COLUMNS"
   ]
  },
  {
   "cell_type": "code",
   "execution_count": 5,
   "id": "4adfd9df",
   "metadata": {},
   "outputs": [],
   "source": [
    "#try your code here"
   ]
  },
  {
   "cell_type": "code",
   "execution_count": 6,
   "id": "76c89b01",
   "metadata": {},
   "outputs": [],
   "source": [
    "#try your code here"
   ]
  },
  {
   "cell_type": "markdown",
   "id": "a0243cee",
   "metadata": {},
   "source": [
    "#### GET INFORMATIONS ABOUT DATASET"
   ]
  },
  {
   "cell_type": "code",
   "execution_count": 7,
   "id": "781ce397",
   "metadata": {},
   "outputs": [],
   "source": [
    "#try your code here"
   ]
  },
  {
   "cell_type": "markdown",
   "id": "6f1ec7e9",
   "metadata": {},
   "source": [
    "## DATA CLEANING"
   ]
  },
  {
   "cell_type": "markdown",
   "id": "a525c002",
   "metadata": {},
   "source": [
    "#### CHECK NULL VALUES"
   ]
  },
  {
   "cell_type": "code",
   "execution_count": 8,
   "id": "6ab5dfd0",
   "metadata": {},
   "outputs": [],
   "source": [
    "#try your code here"
   ]
  },
  {
   "cell_type": "markdown",
   "id": "a9ccfd24",
   "metadata": {},
   "source": [
    "#### GET DESCRIPTIVE STATISTICS ABOUT DATASET"
   ]
  },
  {
   "cell_type": "code",
   "execution_count": 9,
   "id": "d384d48d",
   "metadata": {},
   "outputs": [],
   "source": [
    "#try your code here"
   ]
  },
  {
   "cell_type": "code",
   "execution_count": 10,
   "id": "964b9065",
   "metadata": {},
   "outputs": [],
   "source": [
    "#try your code here"
   ]
  },
  {
   "cell_type": "markdown",
   "id": "538ad261",
   "metadata": {},
   "source": [
    "#### DRIVE YEAR AND MONTH FROM 'order_date' FOR FUTURE ANALYSIS"
   ]
  },
  {
   "cell_type": "code",
   "execution_count": 11,
   "id": "29538960",
   "metadata": {},
   "outputs": [],
   "source": [
    "#try your code here"
   ]
  },
  {
   "cell_type": "markdown",
   "id": "49c16106",
   "metadata": {},
   "source": [
    "## EXPLORATORY ANALYSIS"
   ]
  },
  {
   "cell_type": "markdown",
   "id": "d4502196",
   "metadata": {},
   "source": [
    "#### GROUP SALES BY MONTHS "
   ]
  },
  {
   "cell_type": "code",
   "execution_count": 12,
   "id": "279f13bc",
   "metadata": {},
   "outputs": [],
   "source": [
    "#try your code here"
   ]
  },
  {
   "cell_type": "markdown",
   "id": "703311e4",
   "metadata": {},
   "source": [
    "### VISUALIZE SALES TRAND BY MONTHS"
   ]
  },
  {
   "cell_type": "code",
   "execution_count": 13,
   "id": "e9aea80c",
   "metadata": {},
   "outputs": [],
   "source": [
    "#try your code here"
   ]
  },
  {
   "cell_type": "code",
   "execution_count": 14,
   "id": "766de95b",
   "metadata": {},
   "outputs": [],
   "source": [
    "#try your code here"
   ]
  },
  {
   "cell_type": "markdown",
   "id": "a4408895",
   "metadata": {},
   "source": [
    "### DISPLAY MOST SELLING PRODCUTS"
   ]
  },
  {
   "cell_type": "code",
   "execution_count": 15,
   "id": "11bbaf4e",
   "metadata": {},
   "outputs": [],
   "source": [
    "#try your code here"
   ]
  },
  {
   "cell_type": "markdown",
   "id": "702fc35c",
   "metadata": {},
   "source": [
    "### TOP 10 MOST SALES PRODUCTS "
   ]
  },
  {
   "cell_type": "code",
   "execution_count": 16,
   "id": "5792d7df",
   "metadata": {},
   "outputs": [],
   "source": [
    "#try your code here"
   ]
  },
  {
   "cell_type": "markdown",
   "id": "5f49259e",
   "metadata": {},
   "source": [
    "#### TOP 10 MOST QUANTITY SELLING PRODUCTS ITEMS"
   ]
  },
  {
   "cell_type": "code",
   "execution_count": 17,
   "id": "ad201730",
   "metadata": {},
   "outputs": [],
   "source": [
    "#try your code here"
   ]
  },
  {
   "cell_type": "markdown",
   "id": "facb48ee",
   "metadata": {},
   "source": [
    "#### VISUALIZE MOST USED SHIP MODS"
   ]
  },
  {
   "cell_type": "code",
   "execution_count": 18,
   "id": "f4b7cc2e",
   "metadata": {},
   "outputs": [],
   "source": [
    "#try your code here"
   ]
  },
  {
   "cell_type": "markdown",
   "id": "c39bfd0d",
   "metadata": {},
   "source": [
    "### Distribution of Shiping Modes"
   ]
  },
  {
   "cell_type": "code",
   "execution_count": 19,
   "id": "b0ed0eaf",
   "metadata": {},
   "outputs": [],
   "source": [
    "#try your code here"
   ]
  },
  {
   "cell_type": "markdown",
   "id": "9110662c",
   "metadata": {},
   "source": [
    "### MOST PROFITABLE PRODUCT CATEGORIES & SUB CATEGORIES"
   ]
  },
  {
   "cell_type": "code",
   "execution_count": 20,
   "id": "d6bb5795",
   "metadata": {},
   "outputs": [],
   "source": [
    "#try your code here"
   ]
  },
  {
   "cell_type": "markdown",
   "id": "888c9de3",
   "metadata": {},
   "source": [
    "## Top 10 Customers"
   ]
  },
  {
   "cell_type": "code",
   "execution_count": 21,
   "id": "0e80a832",
   "metadata": {},
   "outputs": [],
   "source": [
    "#try your code here"
   ]
  },
  {
   "cell_type": "markdown",
   "id": "c3db4c46",
   "metadata": {},
   "source": [
    "### MOST SELLING SEGMENTS"
   ]
  },
  {
   "cell_type": "code",
   "execution_count": 22,
   "id": "82e94267",
   "metadata": {},
   "outputs": [],
   "source": [
    "#try your code here"
   ]
  },
  {
   "cell_type": "markdown",
   "id": "fda8f20a",
   "metadata": {},
   "source": [
    "### SEGMENTS BY SELLING QUANTITY"
   ]
  },
  {
   "cell_type": "code",
   "execution_count": 23,
   "id": "1bf8a13d",
   "metadata": {},
   "outputs": [],
   "source": [
    "#try your code here"
   ]
  },
  {
   "cell_type": "markdown",
   "id": "300cc0cd",
   "metadata": {},
   "source": [
    "### SEGMENTS BY PROFIT"
   ]
  },
  {
   "cell_type": "code",
   "execution_count": 24,
   "id": "25559849",
   "metadata": {},
   "outputs": [],
   "source": [
    "#try your code here"
   ]
  },
  {
   "cell_type": "markdown",
   "id": "76803257",
   "metadata": {},
   "source": [
    "### TOP 15 COUNTRY BY SALES"
   ]
  },
  {
   "cell_type": "code",
   "execution_count": 25,
   "id": "e54a0d8e",
   "metadata": {},
   "outputs": [],
   "source": [
    "#try your code here"
   ]
  },
  {
   "cell_type": "markdown",
   "id": "452d9a4b",
   "metadata": {},
   "source": [
    "### SUB - CATEGORIES BY SHIPING COST"
   ]
  },
  {
   "cell_type": "code",
   "execution_count": 26,
   "id": "f2fc829d",
   "metadata": {},
   "outputs": [],
   "source": [
    "#try your code here"
   ]
  },
  {
   "cell_type": "markdown",
   "id": "620fab66",
   "metadata": {},
   "source": [
    "### DISCOUNTS BY SUB - CATEGORIES"
   ]
  },
  {
   "cell_type": "code",
   "execution_count": 27,
   "id": "1ad57dbc",
   "metadata": {},
   "outputs": [],
   "source": [
    "#try your code here"
   ]
  },
  {
   "cell_type": "markdown",
   "id": "c8d85d34",
   "metadata": {},
   "source": [
    "### DISTRIBUTION OF DAYS TO SHIPMENT"
   ]
  },
  {
   "cell_type": "code",
   "execution_count": 28,
   "id": "8669b62d",
   "metadata": {},
   "outputs": [],
   "source": [
    "#try your code here"
   ]
  },
  {
   "cell_type": "markdown",
   "id": "5ba70b19",
   "metadata": {},
   "source": [
    "### SALES BY MARKET"
   ]
  },
  {
   "cell_type": "code",
   "execution_count": 29,
   "id": "daa3e2eb",
   "metadata": {},
   "outputs": [],
   "source": [
    "#try your code here"
   ]
  }
 ],
 "metadata": {
  "kernelspec": {
   "display_name": "Python 3 (ipykernel)",
   "language": "python",
   "name": "python3"
  },
  "language_info": {
   "codemirror_mode": {
    "name": "ipython",
    "version": 3
   },
   "file_extension": ".py",
   "mimetype": "text/x-python",
   "name": "python",
   "nbconvert_exporter": "python",
   "pygments_lexer": "ipython3",
   "version": "3.7.11"
  }
 },
 "nbformat": 4,
 "nbformat_minor": 5
}
