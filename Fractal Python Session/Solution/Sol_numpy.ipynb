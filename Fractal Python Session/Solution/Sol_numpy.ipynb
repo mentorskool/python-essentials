{
 "cells": [
  {
   "cell_type": "code",
   "execution_count": 1,
   "metadata": {},
   "outputs": [],
   "source": [
    "import numpy as np"
   ]
  },
  {
   "cell_type": "markdown",
   "metadata": {},
   "source": [
    "### Write a NumPy program to generate five random numbers from the normal distribution.\n",
    "\n",
    "Expected Output:\n",
    "[-0.43262625 -1.10836787 1.80791413 0.69287463 -0.53742101]"
   ]
  },
  {
   "cell_type": "code",
   "execution_count": 2,
   "metadata": {},
   "outputs": [
    {
     "name": "stdout",
     "output_type": "stream",
     "text": [
      "[-0.25583327 -0.37829475  0.98649451  0.1050823  -0.57637731]\n"
     ]
    }
   ],
   "source": [
    "x = np.random.normal(size=5)\n",
    "print(x)"
   ]
  },
  {
   "cell_type": "markdown",
   "metadata": {},
   "source": [
    "### Write a NumPy program to generate six random integers between 10 and 30.\n",
    "\n",
    "Expected Output:\n",
    "[20 28 27 17 28 29]"
   ]
  },
  {
   "cell_type": "code",
   "execution_count": 3,
   "metadata": {},
   "outputs": [
    {
     "name": "stdout",
     "output_type": "stream",
     "text": [
      "[29 14 26 28 24 14]\n"
     ]
    }
   ],
   "source": [
    "x = np.random.randint(low=10, high=30, size=6)\n",
    "print(x)"
   ]
  },
  {
   "cell_type": "markdown",
   "metadata": {},
   "source": [
    "### Write a NumPy program to get the powers of an array values element-wise. \n",
    "\n",
    "Note: First array elements raised to powers from second array\n",
    "\n",
    "Expected Output:\n",
    "\n",
    "Original array\n",
    "[0 1 2 3 4 5 6]\n",
    "\n",
    "First array elements raised to powers from second array, element-wise:\n",
    "[ 0 1 8 27 64 125 216]"
   ]
  },
  {
   "cell_type": "code",
   "execution_count": 4,
   "metadata": {},
   "outputs": [
    {
     "name": "stdout",
     "output_type": "stream",
     "text": [
      "Original array\n",
      "[0 1 2 3 4 5 6]\n",
      "First array elements raised to powers from second array, element-wise:\n",
      "[  0   1   8  27  64 125 216]\n"
     ]
    }
   ],
   "source": [
    "x = np.arange(7)\n",
    "print(\"Original array\")\n",
    "print(x)\n",
    "print(\"First array elements raised to powers from second array, element-wise:\")\n",
    "print(np.power(x, 3))"
   ]
  },
  {
   "cell_type": "markdown",
   "metadata": {},
   "source": [
    "### Write a NumPy program to repeat all the elements three times of a given array of string \n",
    "\n",
    "Expected Output:\n",
    "\n",
    "Original Array:\n",
    "['Python' 'PHP' 'Java' 'C++']\n",
    "\n",
    "New array:\n",
    "['PythonPythonPython' 'PHPPHPPHP' 'JavaJavaJava' 'C++C++C++']"
   ]
  },
  {
   "cell_type": "code",
   "execution_count": 5,
   "metadata": {},
   "outputs": [
    {
     "name": "stdout",
     "output_type": "stream",
     "text": [
      "Original Array:\n",
      "['Python' 'PHP' 'Java' 'C++']\n",
      "New array:\n",
      "['PythonPythonPython' 'PHPPHPPHP' 'JavaJavaJava' 'C++C++C++']\n"
     ]
    }
   ],
   "source": [
    "x1 = np.array(['Python', 'PHP', 'Java', 'C++'])\n",
    "print(\"Original Array:\")\n",
    "print(x1)\n",
    "new_array = np.char.multiply(x1, 3)\n",
    "print(\"New array:\")\n",
    "print(new_array)"
   ]
  },
  {
   "cell_type": "markdown",
   "metadata": {},
   "source": [
    "### Write a NumPy program to remove the leading whitespaces of all the elements of a given array. \n",
    "\n",
    "Sample Output:\n",
    "\n",
    "Original Array:\n",
    "[' python exercises ' ,' PHP ' ,' java ' ,' C++']\n",
    "\n",
    "Remove the leading whitespaces : ['python exercises ', 'PHP ' ,'java ' ,'C++']"
   ]
  },
  {
   "cell_type": "code",
   "execution_count": 6,
   "metadata": {},
   "outputs": [
    {
     "name": "stdout",
     "output_type": "stream",
     "text": [
      "Original Array:\n",
      "[' python exercises ' ' PHP  ' ' java  ' '  C++']\n",
      "\n",
      "Remove the leading and trailing whitespaces:  ['python exercises' 'PHP' 'java' 'C++']\n"
     ]
    }
   ],
   "source": [
    "x = np.array([' python exercises ', ' PHP  ', ' java  ', '  C++'])\n",
    "print(\"Original Array:\")\n",
    "print(x)\n",
    "stripped = np.char.strip(x)\n",
    "print(\"\\nRemove the leading and trailing whitespaces: \", stripped)"
   ]
  },
  {
   "cell_type": "markdown",
   "metadata": {},
   "source": [
    "### Write a NumPy program to sort the specified number of elements from beginning of a given array. \n",
    "\n",
    "Sample output:\n",
    "\n",
    "Original array:\n",
    "[0.39536213 0.11779404 0.32612381 0.16327394 0.98837963 0.25510787 0.01398678 0.15188239 0.12057667 0.67278699]\n",
    "\n",
    "Sorted first 5 elements:\n",
    "[0.01398678 0.11779404 0.12057667 0.15188239 0.16327394 0.25510787 0.39536213 0.98837963 0.32612381 0.67278699]"
   ]
  },
  {
   "cell_type": "code",
   "execution_count": 7,
   "metadata": {},
   "outputs": [
    {
     "name": "stdout",
     "output_type": "stream",
     "text": [
      "Original array:\n",
      "[0.45986405 0.14940237 0.89372843 0.27101933 0.69480827 0.35917612\n",
      " 0.3317235  0.95523377 0.16574615 0.94411613]\n",
      "\n",
      "Sorted first 5 elements:\n",
      "[0.14940237 0.16574615 0.27101933 0.3317235  0.35917612 0.69480827\n",
      " 0.89372843 0.95523377 0.45986405 0.94411613]\n"
     ]
    }
   ],
   "source": [
    "nums =  np.random.rand(10)\n",
    "print(\"Original array:\")\n",
    "print(nums)\n",
    "print(\"\\nSorted first 5 elements:\")\n",
    "print(nums[np.argpartition(nums,range(5))])"
   ]
  }
 ],
 "metadata": {
  "interpreter": {
   "hash": "68876b6383b62dc997f1e2adc12eb301a61958dc7fa62c10c14261960fd63dae"
  },
  "kernelspec": {
   "display_name": "Python 3 (ipykernel)",
   "language": "python",
   "name": "python3"
  },
  "language_info": {
   "codemirror_mode": {
    "name": "ipython",
    "version": 3
   },
   "file_extension": ".py",
   "mimetype": "text/x-python",
   "name": "python",
   "nbconvert_exporter": "python",
   "pygments_lexer": "ipython3",
   "version": "3.7.11"
  }
 },
 "nbformat": 4,
 "nbformat_minor": 4
}
