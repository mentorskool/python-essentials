{
 "cells": [
  {
   "cell_type": "markdown",
   "metadata": {},
   "source": [
    "## Problems On List"
   ]
  },
  {
   "cell_type": "markdown",
   "metadata": {},
   "source": [
    "### Suppose we have a list of student's marks in math"
   ]
  },
  {
   "cell_type": "code",
   "execution_count": 8,
   "metadata": {},
   "outputs": [],
   "source": [
    "student_nos=[20,36,61,46,24,36,61,46,49,70,38,77,49,70,90,37,36,61,46,57,19,28,49,70,36,61,46,70,38,92,43,67,49,70,39,48,40,44,64,29,83,44,36,61,46,53,49,70]"
   ]
  },
  {
   "cell_type": "markdown",
   "metadata": {},
   "source": [
    "### How many student present in the class?"
   ]
  },
  {
   "cell_type": "code",
   "execution_count": 2,
   "metadata": {},
   "outputs": [
    {
     "data": {
      "text/plain": [
       "48"
      ]
     },
     "execution_count": 2,
     "metadata": {},
     "output_type": "execute_result"
    }
   ],
   "source": [
    "len(student_nos)"
   ]
  },
  {
   "cell_type": "markdown",
   "metadata": {},
   "source": [
    "### How many students unable to pass (let pass mark 35)"
   ]
  },
  {
   "cell_type": "code",
   "execution_count": 11,
   "metadata": {},
   "outputs": [
    {
     "name": "stdout",
     "output_type": "stream",
     "text": [
      "5\n"
     ]
    }
   ],
   "source": [
    "count=0\n",
    "for i in student_nos:\n",
    "    if(i<35):\n",
    "        count+=1\n",
    "print(count)"
   ]
  },
  {
   "cell_type": "markdown",
   "metadata": {},
   "source": [
    "### How many students get marks above 80"
   ]
  },
  {
   "cell_type": "code",
   "execution_count": 13,
   "metadata": {},
   "outputs": [
    {
     "name": "stdout",
     "output_type": "stream",
     "text": [
      "3\n"
     ]
    }
   ],
   "source": [
    "count=[]\n",
    "for i in student_nos:\n",
    "    if(i>80):\n",
    "        count.append(i)\n",
    "print(len(count))"
   ]
  },
  {
   "cell_type": "markdown",
   "metadata": {},
   "source": [
    "### Find the count of students of each particular no"
   ]
  },
  {
   "cell_type": "code",
   "execution_count": 29,
   "metadata": {},
   "outputs": [
    {
     "name": "stdout",
     "output_type": "stream",
     "text": [
      "[20, 36, 61, 46, 24, 49, 70, 38, 77, 90, 37, 57, 19, 28, 92, 43, 67, 39, 48, 40, 44, 64, 29, 83, 53]\n",
      "[92, 90, 83, 77, 70, 67, 64, 61, 57, 53, 49, 48, 46, 44, 43, 40, 39, 38, 37, 36, 29, 28, 24, 20, 19]\n"
     ]
    }
   ],
   "source": [
    "unique_marks=[]\n",
    "for x in student_nos:\n",
    "    if x not in unique_marks:\n",
    "        unique_marks.append(x)\n",
    "print(unique_marks)        \n",
    "unique_marks.sort(reverse=True)\n",
    "print(unique_marks)"
   ]
  },
  {
   "cell_type": "code",
   "execution_count": 30,
   "metadata": {},
   "outputs": [
    {
     "name": "stdout",
     "output_type": "stream",
     "text": [
      "Count of 92: 1\n",
      "Count of 90: 1\n",
      "Count of 83: 1\n",
      "Count of 77: 1\n",
      "Count of 70: 6\n",
      "Count of 67: 1\n",
      "Count of 64: 1\n",
      "Count of 61: 5\n",
      "Count of 57: 1\n",
      "Count of 53: 1\n",
      "Count of 49: 5\n",
      "Count of 48: 1\n",
      "Count of 46: 5\n",
      "Count of 44: 2\n",
      "Count of 43: 1\n",
      "Count of 40: 1\n",
      "Count of 39: 1\n",
      "Count of 38: 2\n",
      "Count of 37: 1\n",
      "Count of 36: 5\n",
      "Count of 29: 1\n",
      "Count of 28: 1\n",
      "Count of 24: 1\n",
      "Count of 20: 1\n",
      "Count of 19: 1\n"
     ]
    }
   ],
   "source": [
    "for i in unique_marks:\n",
    "    count = student_nos.count(i)\n",
    "    print('Count of '+str(i)+':', count)"
   ]
  },
  {
   "cell_type": "markdown",
   "metadata": {},
   "source": [
    "### Find the lowest and highest marks in the class"
   ]
  },
  {
   "cell_type": "code",
   "execution_count": 32,
   "metadata": {},
   "outputs": [
    {
     "name": "stdout",
     "output_type": "stream",
     "text": [
      "92\n",
      "92\n",
      "19\n"
     ]
    }
   ],
   "source": [
    "#MAX VALUE\n",
    "unique_marks.sort()\n",
    "print(unique_marks[len(unique_marks)-1])\n",
    "print(unique_marks[-1])\n",
    "#MIN VALUE\n",
    "unique_marks.sort()\n",
    "print(unique_marks[0])"
   ]
  },
  {
   "cell_type": "code",
   "execution_count": 33,
   "metadata": {},
   "outputs": [
    {
     "name": "stdout",
     "output_type": "stream",
     "text": [
      "92\n",
      "19\n",
      "19\n"
     ]
    }
   ],
   "source": [
    "#MAX VALUE\n",
    "unique_marks.sort(reverse=True) # descending order\n",
    "print(unique_marks[0])\n",
    "\n",
    "#MIN VALUE\n",
    "unique_marks.sort(reverse=True)\n",
    "print(unique_marks[len(unique_marks)-1])\n",
    "print(unique_marks[-1])"
   ]
  },
  {
   "cell_type": "code",
   "execution_count": 36,
   "metadata": {},
   "outputs": [
    {
     "name": "stdout",
     "output_type": "stream",
     "text": [
      "19\n",
      "19\n",
      "92\n",
      "92\n"
     ]
    }
   ],
   "source": [
    "print(min(unique_marks))\n",
    "print(min(student_nos))\n",
    "print(max(unique_marks))\n",
    "print(max(student_nos))"
   ]
  },
  {
   "cell_type": "markdown",
   "metadata": {},
   "source": [
    "### Suppose 9th student marks mistakenly misplace with 19th student marks . Correct it"
   ]
  },
  {
   "cell_type": "code",
   "execution_count": 38,
   "metadata": {},
   "outputs": [
    {
     "name": "stdout",
     "output_type": "stream",
     "text": [
      "46 49\n",
      "49 46\n"
     ]
    }
   ],
   "source": [
    "pos1, pos2  = 9, 19\n",
    "print(student_nos[pos1-1], student_nos[pos2-1])\n",
    "student_nos[pos1-1], student_nos[pos2-1] = student_nos[pos2-1], student_nos[pos1-1]\n",
    "print(student_nos[pos1-1], student_nos[pos2-1])"
   ]
  },
  {
   "cell_type": "code",
   "execution_count": null,
   "metadata": {},
   "outputs": [],
   "source": []
  }
 ],
 "metadata": {
  "interpreter": {
   "hash": "68876b6383b62dc997f1e2adc12eb301a61958dc7fa62c10c14261960fd63dae"
  },
  "kernelspec": {
   "display_name": "Python 3 (ipykernel)",
   "language": "python",
   "name": "python3"
  },
  "language_info": {
   "codemirror_mode": {
    "name": "ipython",
    "version": 3
   },
   "file_extension": ".py",
   "mimetype": "text/x-python",
   "name": "python",
   "nbconvert_exporter": "python",
   "pygments_lexer": "ipython3",
   "version": "3.7.11"
  }
 },
 "nbformat": 4,
 "nbformat_minor": 4
}
