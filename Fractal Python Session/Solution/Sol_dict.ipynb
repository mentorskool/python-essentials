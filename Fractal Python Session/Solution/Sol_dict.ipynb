{
 "cells": [
  {
   "cell_type": "markdown",
   "metadata": {},
   "source": [
    "## Problems on Dictionary"
   ]
  },
  {
   "cell_type": "markdown",
   "metadata": {},
   "source": [
    "### Write a Python program to map two lists into a dictionary.\n",
    "\n",
    "movie=[\"Thriller\",\"Back in Black\",\"The Dark Side of the Moon\",\"Bat Out of Hell\",\"The Bodyguard\"] as key\n",
    "\n",
    "year=[\"1982\",\"1980\",\"1973\",\"1977\",\"1992\"] as value\n"
   ]
  },
  {
   "cell_type": "code",
   "execution_count": 1,
   "metadata": {},
   "outputs": [
    {
     "name": "stdout",
     "output_type": "stream",
     "text": [
      "{'Thriller': '1982', 'Back in Black': '1980', 'The Dark Side of the Moon': '1973', 'Bat Out of Hell': '1977', 'The Bodyguard': '1992'}\n"
     ]
    }
   ],
   "source": [
    "movie=[\"Thriller\",\"Back in Black\",\"The Dark Side of the Moon\",\"Bat Out of Hell\",\"The Bodyguard\"] \n",
    "year=[\"1982\",\"1980\",\"1973\",\"1977\",\"1992\"]\n",
    "movie_dictionary = {movie[i]:year[i] for i in range(len(movie))}\n",
    "print(movie_dictionary)"
   ]
  },
  {
   "cell_type": "markdown",
   "metadata": {},
   "source": [
    "### Write a Python script to concatenate following dictionary with previous one.\n",
    "\n",
    "dict1={\"Their Greatest Hits (1971-1975)\": \"1976\", \"Saturday Night Fever\": \"1977\", \"Rumours\": \"1977\"}"
   ]
  },
  {
   "cell_type": "code",
   "execution_count": 2,
   "metadata": {},
   "outputs": [
    {
     "name": "stdout",
     "output_type": "stream",
     "text": [
      "{'Thriller': '1982', 'Back in Black': '1980', 'The Dark Side of the Moon': '1973', 'Bat Out of Hell': '1977', 'The Bodyguard': '1992', 'Their Greatest Hits (1971-1975)': '1976', 'Saturday Night Fever': '1977', 'Rumours': '1977'}\n"
     ]
    }
   ],
   "source": [
    "dict1={\"Their Greatest Hits (1971-1975)\": \"1976\", \"Saturday Night Fever\": \"1977\", \"Rumours\": \"1977\"}\n",
    "movie_dictionary.update(dict1)\n",
    "print(movie_dictionary)"
   ]
  },
  {
   "cell_type": "markdown",
   "metadata": {},
   "source": [
    "### Write a Python script to add new value in the dictionary\n",
    "\n",
    "year='2007'\n",
    "\n",
    "movie='Graduation'"
   ]
  },
  {
   "cell_type": "code",
   "execution_count": 3,
   "metadata": {},
   "outputs": [
    {
     "name": "stdout",
     "output_type": "stream",
     "text": [
      "{'Thriller': '1982', 'Back in Black': '1980', 'The Dark Side of the Moon': '1973', 'Bat Out of Hell': '1977', 'The Bodyguard': '1992', 'Their Greatest Hits (1971-1975)': '1976', 'Saturday Night Fever': '1977', 'Rumours': '1977', 'Graduation': '2007'}\n"
     ]
    }
   ],
   "source": [
    "movie_dictionary['Graduation']='2007'\n",
    "print(movie_dictionary)"
   ]
  },
  {
   "cell_type": "markdown",
   "metadata": {},
   "source": [
    "### Write a Python script to delete the values in the dictionary by key\n",
    "movie='Graduation'"
   ]
  },
  {
   "cell_type": "code",
   "execution_count": 5,
   "metadata": {},
   "outputs": [
    {
     "name": "stdout",
     "output_type": "stream",
     "text": [
      "{'Thriller': '1982', 'Back in Black': '1980', 'The Dark Side of the Moon': '1973', 'Bat Out of Hell': '1977', 'The Bodyguard': '1992', 'Their Greatest Hits (1971-1975)': '1976', 'Saturday Night Fever': '1977', 'Rumours': '1977'}\n"
     ]
    }
   ],
   "source": [
    "if 'Graduation' in movie_dictionary: \n",
    "    del movie_dictionary['Graduation']\n",
    "print(movie_dictionary)"
   ]
  },
  {
   "cell_type": "markdown",
   "metadata": {},
   "source": [
    "### Write a Python script to get the movies name from the dictionary which are released after 1977"
   ]
  },
  {
   "cell_type": "code",
   "execution_count": 8,
   "metadata": {},
   "outputs": [
    {
     "name": "stdout",
     "output_type": "stream",
     "text": [
      "Thriller\n",
      "Back in Black\n",
      "The Bodyguard\n"
     ]
    }
   ],
   "source": [
    "for i in range(len(movie_dictionary)):\n",
    "    if int(list(movie_dictionary.values())[i])>1977:\n",
    "               print(list(movie_dictionary.keys())[i])       "
   ]
  }
 ],
 "metadata": {
  "interpreter": {
   "hash": "68876b6383b62dc997f1e2adc12eb301a61958dc7fa62c10c14261960fd63dae"
  },
  "kernelspec": {
   "display_name": "Python 3 (ipykernel)",
   "language": "python",
   "name": "python3"
  },
  "language_info": {
   "codemirror_mode": {
    "name": "ipython",
    "version": 3
   },
   "file_extension": ".py",
   "mimetype": "text/x-python",
   "name": "python",
   "nbconvert_exporter": "python",
   "pygments_lexer": "ipython3",
   "version": "3.7.11"
  }
 },
 "nbformat": 4,
 "nbformat_minor": 4
}
