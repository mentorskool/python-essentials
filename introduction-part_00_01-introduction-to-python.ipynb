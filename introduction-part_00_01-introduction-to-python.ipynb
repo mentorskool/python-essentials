{
  "cells": [
    {
      "cell_type": "markdown",
      "metadata": {},
      "source": [
        "## What are we going to cover?\n",
        "* Why should you learn Python?\n",
        "* What makes Python easy to learn?\n",
        "* What does Python offer for Data Scientists?"
      ]
    },
    {
      "cell_type": "markdown",
      "metadata": {},
      "source": [
        "## Ok, Let's Begin!\n",
        "\n",
        "![name](http://4.bp.blogspot.com/-vKHLPvNgs2I/VlUtHLdhFDI/AAAAAAAAF5I/kuyZxt55l1c/s1600/keep-calm-and-let-s-start-25.png)"
      ]
    },
    {
      "cell_type": "markdown",
      "metadata": {},
      "source": [
        "## Why should you learn Python?\n",
        "* **Automate your day-to-day repetitive work**\n",
        "    * Do you work with lots of excel sheet data in your day-to-day job?\n",
        "    * Does it involve lot of copy pasting, transforming data into some other format and presenting in some visuals at the end?\n",
        "    * Does your work involve steps like going to a website, navigate to a specific page and copy the content?\n",
        "    * Do you need to regularly send your work as an email to your stakeholders?\n",
        "<br/><br/>\n",
        "* **Build cool web applications**\n",
        "    * You have a great idea and you wish to expose the same to your customers through a cool web application\n",
        "    * You have nice collection of datasets which you would like to share with others to collaborate and build great stuff\n",
        "<br/><br/>    \n",
        "* **Career opportunities in python**\n",
        "    \n",
        "    *clicking the image lead to you the webpage*\n",
        "    \n",
        "[![][1]][2]\n",
        "\n",
        "[1]:  https://miro.medium.com/max/1200/1*l0dtoQtbBomZLw5vEerG3Q.png\n",
        "[2]:   https://medium.com/co-learning-lounge/career-opportunities-in-python-1aed1ea2cc4d\n",
        "\n",
        "   \n",
        "<br/><br/>   \n",
        "## Eager to explore more? : \n",
        "* We recommend this book to realize the true power of Python\n",
        "<br><br/>\n",
        "![book](https://images-na.ssl-images-amazon.com/images/I/517XL4pO6jL._SX376_BO1,204,203,200_.jpg)"
      ]
    },
    {
      "cell_type": "markdown",
      "metadata": {},
      "source": [
        "## History of Python\n",
        "  \n",
        "*clicking the image lead to you the webpage*\n",
        "\n",
        "[![][1]][2]\n",
        "\n",
        "[1]:  https://miro.medium.com/max/700/1*D_U0WSpKxsO7uuLTEvEC2g.png\n",
        "[2]:  https://medium.com/co-learning-lounge/introduction-to-python-learning-b083165c0796  \n"
      ]
    },
    {
      "cell_type": "markdown",
      "metadata": {},
      "source": [
        "## What makes Python easy to learn?\n",
        "* It's pretty much English like\n",
        "<br/><br/>  \n",
        "*clicking the image lead to you the webpage*\n",
        "\n",
        "[![][1]][2]\n",
        "\n",
        "[1]:  https://miro.medium.com/max/700/0*IkBprj2jlkh4H_qO.png\n",
        "[2]:  https://medium.com/co-learning-lounge/key-features-of-python-315b8e056a8e\n"
      ]
    },
    {
      "cell_type": "code",
      "execution_count": null,
      "metadata": {
        "trusted": true
      },
      "outputs": [],
      "source": [
        "# Ex : I need to loop through files in a folder\n",
        "for files in filepath :\n",
        "    doSomething()"
      ]
    },
    {
      "cell_type": "markdown",
      "metadata": {},
      "source": [
        "* Wherever possible syntax has been made lighter (Comes from it's core design philosophy)"
      ]
    },
    {
      "cell_type": "code",
      "execution_count": null,
      "metadata": {
        "trusted": true
      },
      "outputs": [],
      "source": [
        "# Syntax in Java : \n",
        "for (i = 0;i< 10;i++)\n",
        "    {\n",
        "        doSomething()\n",
        "    }\n",
        "\n",
        "# Syntax in Python\n",
        "for i in range(0,10):\n",
        "    doSomething()"
      ]
    },
    {
      "cell_type": "markdown",
      "metadata": {},
      "source": [
        "* It's a dynamically typed language - makes coding more human like"
      ]
    },
    {
      "cell_type": "code",
      "execution_count": null,
      "metadata": {
        "trusted": true
      },
      "outputs": [],
      "source": [
        "# In Java/C/C++ we write \n",
        "int x = 0\n",
        "# Or\n",
        "float y = 2.5\n",
        "# In Python we write\n",
        "x = 0\n",
        "y = 2.5\n",
        "# That's it!"
      ]
    },
    {
      "cell_type": "markdown",
      "metadata": {},
      "source": [
        "* Extensive library support alongwith an everactive community (Code once, reuse always!)"
      ]
    },
    {
      "cell_type": "code",
      "execution_count": null,
      "metadata": {
        "trusted": true
      },
      "outputs": [],
      "source": [
        "# library to work with files, folders\n",
        "import os\n",
        "#library to work with webpages and fetching data from web\n",
        "import urllib2\n",
        "#library to create games\n",
        "import pygame\n",
        "#library to develop web-application\n",
        "import flask, django\n",
        "#libraries to achieve almost anything possible in the programming universe"
      ]
    },
    {
      "cell_type": "markdown",
      "metadata": {},
      "source": [
        "## But, Wait a minute!\n",
        "### We thought we are Data Scientists, What has all this to do with me?"
      ]
    },
    {
      "cell_type": "markdown",
      "metadata": {},
      "source": [
        "![](https://telecomenggeek.files.wordpress.com/2016/02/python-snake.jpg?w=663)"
      ]
    },
    {
      "cell_type": "markdown",
      "metadata": {},
      "source": [
        "## Here's where the real fun starts!\n",
        "### Let's look at the day-to-day job of a Data Scientist :\n",
        "* Collect data from a number of sources in unimaginably varied formats\n",
        "    * Ex. Excel sheets\n",
        "    * Text documents\n",
        "    * CSVs\n",
        "    * Web pages\n",
        "    * APIs\n",
        "    * Databases\n",
        "    * Cloud Repositories and many more!"
      ]
    },
    {
      "cell_type": "markdown",
      "metadata": {},
      "source": [
        "* Look for irregularities, mistyped data, blanks, erroneous inputs etc. and clean it"
      ]
    },
    {
      "cell_type": "markdown",
      "metadata": {},
      "source": [
        "* Push the cleaned data into a centralized repository ex. a Database"
      ]
    },
    {
      "cell_type": "markdown",
      "metadata": {},
      "source": [
        "* Perform lot of Data Manipulation like joins, aggregations etc."
      ]
    },
    {
      "cell_type": "markdown",
      "metadata": {},
      "source": [
        "* Perform extensive exploratory data analyses"
      ]
    },
    {
      "cell_type": "markdown",
      "metadata": {},
      "source": [
        "* Build lot of visualizations and create appealing user stories"
      ]
    },
    {
      "cell_type": "markdown",
      "metadata": {},
      "source": [
        "* Perform lot of statistical analyses"
      ]
    },
    {
      "cell_type": "markdown",
      "metadata": {},
      "source": [
        "* Building lot of machine learning & deep learning models"
      ]
    },
    {
      "cell_type": "markdown",
      "metadata": {},
      "source": [
        "* Expose the models as APIs for ease of usage"
      ]
    }
  ],
  "metadata": {
    "kernelspec": {
      "display_name": "Python 3.6",
      "language": "python",
      "name": "python36"
    },
    "language_info": {
      "codemirror_mode": {
        "name": "ipython",
        "version": 3
      },
      "file_extension": ".py",
      "mimetype": "text/x-python",
      "name": "python",
      "nbconvert_exporter": "python",
      "pygments_lexer": "ipython3",
      "version": "3.6.6"
    }
  },
  "nbformat": 4,
  "nbformat_minor": 2
}
